{
 "cells": [
  {
   "cell_type": "code",
   "execution_count": null,
   "id": "9519a839-3fc3-4f63-969c-df47b507190d",
   "metadata": {},
   "outputs": [],
   "source": [
    "%run ./load_data.ipynb"
   ]
  },
  {
   "cell_type": "code",
   "execution_count": null,
   "id": "b0e3a8ed-c140-495a-92af-088b84fd55c2",
   "metadata": {},
   "outputs": [],
   "source": [
    "import pandas as pd\n",
    "import copy\n",
    "import glob\n",
    "from datetime import datetime\n",
    "import time\n",
    "import numpy as np\n",
    "import statsmodels.api as sm\n",
    "import patsy\n",
    "import plotly.graph_objects as go"
   ]
  },
  {
   "cell_type": "code",
   "execution_count": null,
   "id": "f7ef488c-f66a-4708-ae6f-106ddc7740c3",
   "metadata": {
    "tags": []
   },
   "outputs": [],
   "source": [
    "def regression(df_input, indep_variable_list, X_1=None):\n",
    "    \n",
    "    dep_var = [X_1]\n",
    "\n",
    "    both = indep_variable_list + dep_var\n",
    "    df = df_input[both]\n",
    "    \n",
    "    df_temp0 = df.copy()\n",
    "    \n",
    "    df_temp = df_temp0.dropna()\n",
    "    \n",
    "    if not X_1:\n",
    "        print('Explanatory variable is missing')\n",
    "\n",
    "    s = f'{X_1} ~ ' \n",
    "    \n",
    "   \n",
    "    for elm in indep_variable_list:\n",
    "        s = s + ' + ' + elm\n",
    "        \n",
    "    y, X = patsy.dmatrices(s, data=df_temp, return_type='dataframe')\n",
    "    \n",
    "    #\n",
    "    mod = sm.OLS(y, X)\n",
    "    res = mod.fit()\n",
    "    \n",
    "    return res\n",
    "\n",
    "\n",
    "def df_remove_sample(df_all, df_sample):\n",
    "    \n",
    "    all_ids = set(df_all['conversation_id'].tolist())\n",
    "    sample_ids = set(df_sample['conversation_id'].tolist())\n",
    "    \n",
    "    lst_difference = list(all_ids - sample_ids)\n",
    "    \n",
    "    return df_all.loc[df_all['conversation_id'].isin(lst_difference)]\n"
   ]
  },
  {
   "cell_type": "code",
   "execution_count": null,
   "id": "6de44d11-a33a-4b43-9e95-d7b73cb51868",
   "metadata": {
    "tags": []
   },
   "outputs": [],
   "source": [
    "def plot_regression(reg_result):\n",
    "\n",
    "    coef_df = pd.DataFrame(reg.summary().tables[1].data)\n",
    "    \n",
    "    coef_df.columns = coef_df.iloc[0]\n",
    "\n",
    "    coef_df=coef_df.drop(0)\n",
    "\n",
    "\n",
    "    coef_df = coef_df.sort_values(by=['coef'])\n",
    "\n",
    "    coef_df['stats'] = coef_df.iloc[:, 0]\n",
    "    plot_df = coef_df[['stats','coef', 'std err', 't', 'P>|t|', '[0.025', '0.975]']]\n",
    "    \n",
    "    \n",
    "    fig = go.Figure(data=go.Scatter(\n",
    "        x= plot_df['coef'].astype(float),\n",
    "        y= plot_df['stats'],\n",
    "        mode='markers',\n",
    "        error_x=dict(\n",
    "            type='data',\n",
    "            symmetric=False,\n",
    "            thickness=1.5,\n",
    "            array=plot_df['coef'].astype(float) - plot_df['[0.025'].astype(float),\n",
    "            arrayminus=plot_df['0.975]'].astype(float) - plot_df['coef'].astype(float))\n",
    "        ))\n",
    "    fig.add_vline(x=0, line_width=3, line_dash=\"dash\", line_color=\"red\")\n",
    "    \n",
    "\n",
    "    fig.update_layout(\n",
    "        xaxis_mirror=True,\n",
    "        yaxis_mirror=True,\n",
    "        template='simple_white',\n",
    "        autosize=False,\n",
    "        width=800,\n",
    "        height=600,\n",
    "        yaxis=dict(\n",
    "            title_text=\"Explanatory variables\",\n",
    "            tickmode=\"array\",\n",
    "            titlefont=dict(size=11),\n",
    "        ),\n",
    "        xaxis=dict(\n",
    "            title_text=\"Coefficents of the explanatory variables variables\",\n",
    "            tickmode=\"array\",\n",
    "            titlefont=dict(size=11),\n",
    "        )\n",
    "        \n",
    "    )\n",
    "\n",
    "    fig.show()"
   ]
  },
  {
   "cell_type": "code",
   "execution_count": null,
   "id": "628bca3a-b371-4682-8fae-09328b566ffd",
   "metadata": {
    "tags": []
   },
   "outputs": [],
   "source": [
    "Vars = ['retweet_count', 'reply_count', 'like_count', 'quote_count', 'reply_settings','hashtag_count', 'uppercase_count', 'uppercase_pct', \n",
    "        'exclamation_mark_count', 'question_mark_count', 'url_count', 'mention_count', 'emojie_count', 'followers_count', 'engagement_score', \n",
    "        'sentiment_score', 'sentiment_category', 'avg_replies_sentiment', 'avg_quotes_sentiment', 'avg_conversation_sentiment', 'var_replies_sentiment', \n",
    "        'var_quotes_sentiment', 'var_conversation_sentiment','pct_similar_sentiment_replies', 'pct_similar_sentiment_quotes',\n",
    "        'var_replies_semantic', 'var_quotes_semantic', 'var_conversation_semantic', 'engagement_score_log_normal', 'Segment', 'WC', 'Analytic', \n",
    "        'Clout', 'Authentic', 'Tone', 'WPS', 'BigWords', 'Dic', 'Linguistic', 'function', 'pronoun', 'ppron', 'i', 'we', 'you', 'shehe', 'they', \n",
    "        'ipron', 'article', 'number', 'prep', 'auxverb', 'adverb', 'conj', 'negate', 'verb', 'adj', 'quantity', 'Drives', 'affiliation', \n",
    "        'achieve', 'power', 'Cognition', 'allnone', 'cogproc', 'insight', 'cause', 'tentat', 'certitude', 'differ', 'memory','Affect',\n",
    "        'tone_pos', 'tone_neg', 'emotion', 'emo_pos', 'emo_neg', 'emo_anx', 'emo_anger', 'emo_sad', 'swear', 'Social', 'socbehav', 'prosocial', \n",
    "        'polite', 'conflict', 'moral', 'comm', 'socrefs', 'family', 'friend', 'female', 'male', 'Culture', 'politic', 'ethnicity', 'tech', 'Lifestyle', \n",
    "        'leisure', 'home', 'work', 'money', 'relig', 'Physical', 'health', 'illness', 'wellness', 'mental', 'substances', 'sexual', 'food', 'death', \n",
    "        'need', 'want', 'acquire', 'lack', 'fulfill', 'fatigue', 'reward', 'risk', 'curiosity', 'allure', 'Perception', 'attention', 'motion', 'space', \n",
    "        'visual', 'auditory', 'feeling', 'time', 'focuspast', 'focuspresent', 'focusfuture', 'Conversation', 'netspeak', 'assent', 'nonflu', 'filler', \n",
    "        ]\n",
    "\n",
    "\n",
    "for i in range(123):\n",
    "    reg = regression(EXTENDED_TWEETS, Vars, 'controversiality')\n",
    "    var = pd.DataFrame(reg.summary().tables[1].data).sort_values(by=4).iloc[-2][0]\n",
    "    pvalue = pd.DataFrame(reg.summary().tables[1].data).sort_values(by=4).iloc[-2][4]\n",
    "    print(f\"{i:0d}, Len(Vars) = {len(Vars):3d}: about to remove: {var:10s}, pvalue = {pvalue}\")\n",
    "    if var in Vars:\n",
    "        Vars.remove(var)\n",
    "    else:\n",
    "        vvar = var[:var.index('[')]\n",
    "        if  vvar in Vars:\n",
    "            Vars.remove(vvar)\n",
    "        else:\n",
    "            print(\"Oopsi\")\n",
    "    if i > 110:        \n",
    "        print(reg.summary())\n",
    "    print('********************************************************************************************************************')"
   ]
  },
  {
   "cell_type": "markdown",
   "id": "0f8f62d0-92b2-488d-99ee-712050b6d48c",
   "metadata": {},
   "source": [
    "# Regression - Sample"
   ]
  },
  {
   "cell_type": "code",
   "execution_count": null,
   "id": "27d98615-6b0c-4a2f-9429-52ec9d645123",
   "metadata": {},
   "outputs": [],
   "source": [
    "indep_var = [\n",
    "     'retweet_count',\n",
    " 'reply_count',\n",
    " 'like_count',\n",
    " 'quote_count',\n",
    " 'reply_settings',\n",
    " 'hashtag_count',\n",
    " 'uppercase_count',\n",
    " 'uppercase_pct',\n",
    " 'exclamation_mark_count',\n",
    " 'question_mark_count',\n",
    " 'url_count',\n",
    " 'mention_count',\n",
    " 'emojie_count',\n",
    " 'followers_count',\n",
    " 'engagement_score',\n",
    " 'sentiment_score',\n",
    " 'sentiment_category',\n",
    " 'avg_replies_sentiment',\n",
    " 'avg_quotes_sentiment',\n",
    " 'avg_conversation_sentiment',\n",
    " 'var_replies_sentiment',\n",
    " 'var_quotes_sentiment',\n",
    " 'var_conversation_sentiment',\n",
    " 'pct_similar_sentiment_replies',\n",
    " 'pct_similar_sentiment_quotes',\n",
    " 'var_replies_semantic',\n",
    " 'var_quotes_semantic',\n",
    " 'var_conversation_semantic',\n",
    "]\n",
    "reg =  regression(niloo_farnaz, indep_var, 'GS_controversiality_score')\n",
    "plot_regression(reg)\n",
    "print(reg.summary())"
   ]
  },
  {
   "cell_type": "code",
   "execution_count": null,
   "id": "516a6758-8197-4fd6-b8dd-194f5e82464c",
   "metadata": {
    "tags": []
   },
   "outputs": [],
   "source": [
    "indep_var = [\n",
    "     'retweet_count',\n",
    " 'reply_count',\n",
    " 'like_count',\n",
    " 'quote_count',\n",
    " 'reply_settings',\n",
    " 'hashtag_count',\n",
    " 'uppercase_count',\n",
    " 'uppercase_pct',\n",
    " 'exclamation_mark_count',\n",
    " 'question_mark_count',\n",
    " 'url_count',\n",
    " 'mention_count',\n",
    " 'emojie_count',\n",
    " 'followers_count',\n",
    " 'engagement_score',\n",
    " 'sentiment_score',\n",
    " 'sentiment_category',\n",
    " 'avg_replies_sentiment',\n",
    " 'avg_quotes_sentiment',\n",
    " 'avg_conversation_sentiment',\n",
    " 'var_replies_sentiment',\n",
    " 'var_quotes_sentiment',\n",
    " 'var_conversation_sentiment',\n",
    " 'pct_similar_sentiment_replies',\n",
    " 'pct_similar_sentiment_quotes',\n",
    " 'var_replies_semantic',\n",
    " 'var_quotes_semantic',\n",
    " 'var_conversation_semantic',\n",
    "]\n",
    "print(len(indep_var))\n",
    "\n",
    "for i in range(23):\n",
    "    reg = regression(niloo_farnaz_rest, indep_var, 'GS_controversiality_score')\n",
    "    var = pd.DataFrame(reg.summary().tables[1].data).sort_values(by=4).iloc[-2][0]\n",
    "    pvalue = pd.DataFrame(reg.summary().tables[1].data).sort_values(by=4).iloc[-2][4]\n",
    "    print(f\"{i:0d}, Len(indep_var) = {len(indep_var):3d}: about to remove: {var:10s}, pvalue = {pvalue}\")\n",
    "    if var in indep_var:\n",
    "        indep_var.remove(var)\n",
    "    else:\n",
    "        vvar = var[:var.index('[')]\n",
    "        if  vvar in indep_var:\n",
    "            indep_var.remove(vvar)\n",
    "        else:\n",
    "            print(\"Oopsi\")\n",
    "            \n",
    "    print(reg.summary())\n",
    "    print('********************************************************************************************************************')"
   ]
  },
  {
   "cell_type": "code",
   "execution_count": null,
   "id": "687f57a0-8d97-48e0-91ef-37c9d4ffdc68",
   "metadata": {},
   "outputs": [],
   "source": [
    "Intercept = 0.0363\n",
    "var_quotes_semantic = 7.2802\n",
    "var_replies_semantic = 6.9532\n",
    "var_conversation_sentiment = 1.6245\n",
    "var_replies_sentiment = 1.5732\n",
    "var_quotes_sentiment = 0.5565\n",
    "engagement_score = 0.1974"
   ]
  },
  {
   "cell_type": "code",
   "execution_count": null,
   "id": "9bbb98cd-65e2-4977-94f6-3657fa957bf7",
   "metadata": {},
   "outputs": [],
   "source": [
    "final_var = [ 'engagement_score', 'var_replies_sentiment', 'var_quotes_sentiment', 'var_conversation_sentiment', 'var_replies_semantic', 'var_quotes_semantic']\n",
    "\n",
    "reg = regression(akhari, final_var, 'GS_controversiality_score')\n",
    "print(reg.summary().as_latex())\n",
    "plot_regression(reg)"
   ]
  },
  {
   "cell_type": "code",
   "execution_count": null,
   "id": "f33090e6-283d-4d02-8339-1528b27f60c0",
   "metadata": {
    "tags": []
   },
   "outputs": [],
   "source": [
    "result = {}\n",
    "score = {}\n",
    "for i, row in akhari.iterrows():\n",
    "\n",
    "    x1 = row['var_quotes_semantic']\n",
    "    x2 = row['var_replies_semantic']\n",
    "    x3 = row['var_conversation_sentiment']\n",
    "    x4 = row['var_replies_sentiment']\n",
    "    x5 = row['var_quotes_sentiment']\n",
    "    x6 = row['engagement_score']\n",
    "    \n",
    "    r = Intercept + (x1 * var_quotes_semantic) + (x2 * var_replies_semantic) + (x3 * var_conversation_sentiment) + (x4 * var_replies_sentiment) + (x5 * var_quotes_sentiment) + (x6 * engagement_score) \n",
    "    \n",
    "    result[row['conversation_id']] = r\n",
    "    score[row['conversation_id']] = row['GS_controversiality_score']\n"
   ]
  },
  {
   "cell_type": "code",
   "execution_count": null,
   "id": "77e8289a-9f92-43ae-b337-adcaa67f56f7",
   "metadata": {},
   "outputs": [],
   "source": [
    "result1 = pd.DataFrame.from_dict(result, orient='index').reset_index()\n",
    "score1 = pd.DataFrame.from_dict(score, orient='index').reset_index()"
   ]
  },
  {
   "cell_type": "code",
   "execution_count": null,
   "id": "c532ae32-fd0c-4409-b889-5d24f64fd0e2",
   "metadata": {},
   "outputs": [],
   "source": [
    "saeed = pd.merge(result1, score1, on='index')"
   ]
  },
  {
   "cell_type": "code",
   "execution_count": null,
   "id": "244a6534-7f7d-4880-a5c1-434d80082d7e",
   "metadata": {},
   "outputs": [],
   "source": [
    "saeed['diff'] = abs(saeed['0_x'] - saeed['0_y']) < 0.1"
   ]
  },
  {
   "cell_type": "code",
   "execution_count": null,
   "id": "471361cf-6e2b-4fde-b83d-cf65019856c3",
   "metadata": {},
   "outputs": [],
   "source": [
    "saeed.sum()['diff']/len(saeed)"
   ]
  },
  {
   "cell_type": "markdown",
   "id": "1eaa055a-ba19-4877-9dc4-35ecb7411260",
   "metadata": {},
   "source": [
    "# Extended tweets"
   ]
  },
  {
   "cell_type": "code",
   "execution_count": null,
   "id": "eb2c728d-cf59-4e76-9fbe-39d833a0c701",
   "metadata": {},
   "outputs": [],
   "source": [
    "print(regression(EXTENDED_TWEETS, final_var, 'controversiality').summary())"
   ]
  },
  {
   "cell_type": "code",
   "execution_count": null,
   "id": "ea2ef2c7-e717-4f31-aa51-01d03858bda8",
   "metadata": {},
   "outputs": [],
   "source": [
    "print('count  0:', len(EXTENDED_TWEETS.loc[EXTENDED_TWEETS['controversiality']==0]), 'pct:' ,len(EXTENDED_TWEETS.loc[EXTENDED_TWEETS['controversiality']==0])/len(EXTENDED_TWEETS)*100)\n",
    "print('count  1:', len(EXTENDED_TWEETS.loc[EXTENDED_TWEETS['controversiality']==1]), 'pct:' ,len(EXTENDED_TWEETS.loc[EXTENDED_TWEETS['controversiality']==1])/len(EXTENDED_TWEETS)*100)\n",
    "print('count  2:', len(EXTENDED_TWEETS.loc[EXTENDED_TWEETS['controversiality']==2]), 'pct:' ,len(EXTENDED_TWEETS.loc[EXTENDED_TWEETS['controversiality']==2])/len(EXTENDED_TWEETS)*100)\n",
    "print('count  3:', len(EXTENDED_TWEETS.loc[EXTENDED_TWEETS['controversiality']==3]), 'pct:' ,len(EXTENDED_TWEETS.loc[EXTENDED_TWEETS['controversiality']==3])/len(EXTENDED_TWEETS)*100)"
   ]
  },
  {
   "cell_type": "code",
   "execution_count": null,
   "id": "3c239218-be3f-47be-b917-7cedd1962ada",
   "metadata": {},
   "outputs": [],
   "source": [
    "print('count  0:', len(niloo_farnaz.loc[niloo_farnaz['GS_controversiality_score']==0]), 'pct:' ,len(niloo_farnaz.loc[niloo_farnaz['GS_controversiality_score']==0])/len(niloo_farnaz)*100)\n",
    "print('count  1:', len(niloo_farnaz.loc[niloo_farnaz['GS_controversiality_score']==1]), 'pct:' ,len(niloo_farnaz.loc[niloo_farnaz['GS_controversiality_score']==1])/len(niloo_farnaz)*100)\n",
    "print('count  2:', len(niloo_farnaz.loc[niloo_farnaz['GS_controversiality_score']==2]), 'pct:' ,len(niloo_farnaz.loc[niloo_farnaz['GS_controversiality_score']==2])/len(niloo_farnaz)*100)\n",
    "print('count  3:', len(niloo_farnaz.loc[niloo_farnaz['GS_controversiality_score']==3]), 'pct:' ,len(niloo_farnaz.loc[niloo_farnaz['GS_controversiality_score']==3])/len(niloo_farnaz)*100)"
   ]
  },
  {
   "cell_type": "code",
   "execution_count": null,
   "id": "f0b05d3f-f5c7-4684-a45c-e8c351540054",
   "metadata": {},
   "outputs": [],
   "source": [
    "len(niloo_farnaz)"
   ]
  }
 ],
 "metadata": {
  "kernelspec": {
   "display_name": "Python 3 (ipykernel)",
   "language": "python",
   "name": "python3"
  },
  "language_info": {
   "codemirror_mode": {
    "name": "ipython",
    "version": 3
   },
   "file_extension": ".py",
   "mimetype": "text/x-python",
   "name": "python",
   "nbconvert_exporter": "python",
   "pygments_lexer": "ipython3",
   "version": "3.10.4"
  }
 },
 "nbformat": 4,
 "nbformat_minor": 5
}
