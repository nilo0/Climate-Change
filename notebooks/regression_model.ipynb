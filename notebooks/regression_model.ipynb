{
 "cells": [
  {
   "cell_type": "code",
   "execution_count": null,
   "id": "9519a839-3fc3-4f63-969c-df47b507190d",
   "metadata": {},
   "outputs": [],
   "source": [
    "%run ./load_data.ipynb"
   ]
  },
  {
   "cell_type": "code",
   "execution_count": null,
   "id": "b0e3a8ed-c140-495a-92af-088b84fd55c2",
   "metadata": {},
   "outputs": [],
   "source": [
    "import pandas as pd\n",
    "import copy\n",
    "import glob\n",
    "from datetime import datetime\n",
    "import time\n",
    "import numpy as np\n",
    "import statsmodels.api as sm\n",
    "import patsy"
   ]
  },
  {
   "cell_type": "code",
   "execution_count": null,
   "id": "4786c19a-4a65-48a7-8ff1-5ff9a3c32375",
   "metadata": {
    "tags": []
   },
   "outputs": [],
   "source": [
    "cols = list(unscored_sample_tweets_extended.columns)\n",
    "niloo_farnaz = pd.concat([sample_tweets_farnaz_f3w, sample_tweets_niloo_f3w])"
   ]
  },
  {
   "cell_type": "code",
   "execution_count": null,
   "id": "89f666cf-4cbc-4c2e-b598-20e177d09cc8",
   "metadata": {},
   "outputs": [],
   "source": [
    "COLS = [ 'retweet_count', 'reply_count',\n",
    "       'like_count', 'quote_count', 'hashtag_count', 'uppercase_count', 'uppercase_pct',\n",
    "       'exclamation_mark_count', 'question_mark_count', 'url_count',\n",
    "       'mention_count', 'emojie_count', 'engagement_score',\n",
    "       'sentiment_score', 'avg_replies_sentiment',\n",
    "       'avg_quotes_sentiment', 'avg_conversation_sentiment',\n",
    "       'var_replies_sentiment', 'var_quotes_sentiment',\n",
    "       'var_conversation_sentiment', 'pct_similar_sentiment_replies',\n",
    "       'pct_similar_sentiment_quotes', 'var_replies_semantic',\n",
    "       'var_quotes_semantic', 'var_conversation_semantic']"
   ]
  },
  {
   "cell_type": "code",
   "execution_count": null,
   "id": "f7ef488c-f66a-4708-ae6f-106ddc7740c3",
   "metadata": {},
   "outputs": [],
   "source": [
    "def regression(df_input, indep_variable_list, X_1=None):\n",
    "    \n",
    "    dep_var = [X_1]\n",
    "\n",
    "    both = indep_variable_list + dep_var\n",
    "    df = df_input[both]\n",
    "    \n",
    "    df_temp0 = df.copy()\n",
    "    \n",
    "    df_temp = df_temp0.dropna()\n",
    "    \n",
    "    if not X_1:\n",
    "        print('Explanatory variable is missing')\n",
    "\n",
    "    s = f'{X_1} ~ ' \n",
    "    \n",
    "   \n",
    "    for elm in indep_variable_list:\n",
    "        s = s + ' + ' + elm\n",
    "        \n",
    "    y, X = patsy.dmatrices(s, data=df_temp, return_type='dataframe')\n",
    "    \n",
    "    #\n",
    "    mod = sm.OLS(y, X)\n",
    "    res = mod.fit()\n",
    "    \n",
    "    return res\n",
    "\n",
    "\n",
    "def cat_regression(df_input, indep_variable_list, X_1=None):\n",
    "    \n",
    "    dep_var = [X_1]\n",
    "\n",
    "    both = indep_variable_list + dep_var\n",
    "    df = df_input[both]\n",
    "    \n",
    "    df_temp0 = df.copy()\n",
    "    \n",
    "    df_temp = df_temp0.dropna()\n",
    "    \n",
    "    if not X_1:\n",
    "        print('Explanatory variable is missing')\n",
    "        \n",
    "    s = f'{X_1} ~ ' \n",
    "    \n",
    "   \n",
    "    for elm in indep_variable_list:\n",
    "        s = s + ' + ' + elm\n",
    "        \n",
    "    y, X = patsy.dmatrices(s, data=df_temp, return_type='dataframe')\n",
    "    \n",
    "    #\n",
    "    mod = sm.Logit(y, X)\n",
    "    res = mod.fit()\n",
    "\n",
    "    return res"
   ]
  },
  {
   "cell_type": "code",
   "execution_count": null,
   "id": "6de44d11-a33a-4b43-9e95-d7b73cb51868",
   "metadata": {},
   "outputs": [],
   "source": [
    "# Define function to output plot of the model coefficients\n",
    "\n",
    "def coefplot(results):\n",
    "    '''\n",
    "    Takes in results of OLS model and returns a plot of \n",
    "    the coefficients with 95% confidence intervals.\n",
    "    \n",
    "    Removes intercept, so if uncentered will return error.\n",
    "    '''\n",
    "    # Create dataframe of results summary \n",
    "    coef_df = pd.DataFrame(results.summary().tables[1].data)\n",
    "    \n",
    "    # Add column names\n",
    "    coef_df.columns = coef_df.iloc[0]\n",
    "\n",
    "    # Drop the extra row with column labels\n",
    "    coef_df=coef_df.drop(0)\n",
    "\n",
    "    # Set index to variable names \n",
    "    coef_df = coef_df.set_index(coef_df.columns[0])\n",
    "\n",
    "    # Change datatype from object to float\n",
    "    coef_df = coef_df.astype(float)\n",
    "\n",
    "    # Get errors; (coef - lower bound of conf interval)\n",
    "    errors = coef_df['coef'] - coef_df['[0.025']\n",
    "    \n",
    "    # Append errors column to dataframe\n",
    "    coef_df['errors'] = errors\n",
    "\n",
    "    # Drop the constant for plotting\n",
    "    # coef_df = coef_df.drop(['const'])\n",
    "\n",
    "    # Sort values by coef ascending\n",
    "    coef_df = coef_df.sort_values(by=['coef'])\n",
    "\n",
    "    ### Plot Coefficients ###\n",
    "\n",
    "    # x-labels\n",
    "    variables = list(coef_df.index.values)\n",
    "    \n",
    "    # Add variables column to dataframe\n",
    "    coef_df['variables'] = variables\n",
    "    \n",
    "    # Set sns plot style back to 'poster'\n",
    "    # This will make bars wide on plot\n",
    "    sns.set_context(\"poster\")\n",
    "\n",
    "    # Define figure, axes, and plot\n",
    "    fig, ax = plt.subplots(figsize=(15, 10))\n",
    "    \n",
    "    # Error bars for 95% confidence interval\n",
    "    # Can increase capsize to add whiskers\n",
    "    coef_df.plot(x='variables', y='coef', kind='bar',\n",
    "                 ax=ax, color='none', fontsize=22, \n",
    "                 ecolor='steelblue',capsize=0,\n",
    "                 yerr='errors', legend=False)\n",
    "    \n",
    "    # Set title & labels\n",
    "    plt.title('Coefficients of Features w/ 95% Confidence Intervals',fontsize=30)\n",
    "    ax.set_ylabel('Coefficients',fontsize=22)\n",
    "    ax.set_xlabel('',fontsize=22)\n",
    "    \n",
    "    # Coefficients\n",
    "    ax.scatter(x=pd.np.arange(coef_df.shape[0]), \n",
    "               marker='o', s=80, \n",
    "               y=coef_df['coef'], color='steelblue')\n",
    "    \n",
    "    # Line to define zero on the y-axis\n",
    "    ax.axhline(y=0, linestyle='--', color='red', linewidth=1)\n",
    "    \n",
    "    return plt.show()"
   ]
  },
  {
   "cell_type": "code",
   "execution_count": null,
   "id": "8192e86c-096c-4ac6-b81b-44fb0beb676f",
   "metadata": {},
   "outputs": [],
   "source": [
    "def cat_csore(df):\n",
    "    df_temp = copy.deepcopy(df)\n",
    "    df_temp.loc[df_temp['GS_controversiality_score'] == 0, 'GS_controversiality_score'] = 0\n",
    "    df_temp.loc[df_temp['GS_controversiality_score'] == 1, 'GS_controversiality_score'] = 0\n",
    "    df_temp.loc[df_temp['GS_controversiality_score'] == 2, 'GS_controversiality_score'] = 1\n",
    "    df_temp.loc[df_temp['GS_controversiality_score'] == 3, 'GS_controversiality_score'] = 1\n",
    "    return df_temp\n",
    "        "
   ]
  },
  {
   "cell_type": "code",
   "execution_count": null,
   "id": "2bfcf5d4-3160-454c-bc94-bcb65b0b5822",
   "metadata": {},
   "outputs": [],
   "source": [
    "sample_tweets_farnaz['GS_controversiality_score'].unique()"
   ]
  },
  {
   "cell_type": "code",
   "execution_count": null,
   "id": "85d9a351-ce56-4ac7-bf72-7af5bd69e946",
   "metadata": {},
   "outputs": [],
   "source": [
    "cat_sample_tweets_farnaz = cat_csore(sample_tweets_farnaz)\n",
    "cat_sample_tweets_farnaz['GS_controversiality_score'].unique()"
   ]
  },
  {
   "cell_type": "code",
   "execution_count": null,
   "id": "76c5b78e-0574-449f-9d41-b45e255c4c42",
   "metadata": {},
   "outputs": [],
   "source": [
    "reg = regression(sample_tweets_farnaz, COLS, 'GS_controversiality_score')\n",
    "print(reg.summary())"
   ]
  },
  {
   "cell_type": "code",
   "execution_count": null,
   "id": "927d94ab-f40c-4dc0-9601-140f9273d824",
   "metadata": {},
   "outputs": [],
   "source": [
    "# reg = cat_regression(cat_sample_tweets_farnaz, COLS, 'GS_controversiality_score')\n",
    "# print(reg.summary())"
   ]
  },
  {
   "cell_type": "code",
   "execution_count": null,
   "id": "278503d2-70a8-4931-880a-d1a836639594",
   "metadata": {},
   "outputs": [],
   "source": [
    "reg = regression(sample_tweets_farnaz_f3w, COLS, 'GS_controversiality_score')\n",
    "print(reg.summary())"
   ]
  },
  {
   "cell_type": "code",
   "execution_count": null,
   "id": "390a74d9-4401-4c5b-8209-39039882f6df",
   "metadata": {},
   "outputs": [],
   "source": [
    "reg = regression(sample_tweets_niloo, COLS,'GS_controversiality_score')\n",
    "print(reg.summary())"
   ]
  },
  {
   "cell_type": "code",
   "execution_count": null,
   "id": "aae81f35-172f-4dd0-a985-b12085c73dbc",
   "metadata": {},
   "outputs": [],
   "source": [
    "reg = regression(sample_tweets_niloo_f3w, COLS, 'GS_controversiality_score')\n",
    "print(reg.summary())"
   ]
  },
  {
   "cell_type": "code",
   "execution_count": null,
   "id": "7fff7cf2-28df-4037-81ec-1d3219587aff",
   "metadata": {},
   "outputs": [],
   "source": [
    "reg = regression(niloo_farnaz, COLS, 'GS_controversiality_score')\n",
    "print(reg.summary())"
   ]
  },
  {
   "cell_type": "code",
   "execution_count": null,
   "id": "b22ad875-d36a-4380-93b0-a5f6e03a317a",
   "metadata": {},
   "outputs": [],
   "source": [
    "\n",
    "# print(niloo_farnaz['conversation_id'].nunique())\n",
    "indep = ['like_count',  'var_replies_sentiment', 'var_quotes_sentiment','var_conversation_sentiment'\n",
    "         ,'var_replies_semantic','var_quotes_semantic',\n",
    "         'var_conversation_semantic', 'engagement_score']\n",
    "reg = regression(niloo_farnaz, indep, 'GS_controversiality_score')\n",
    "\n",
    "print(reg.summary())\n"
   ]
  },
  {
   "cell_type": "code",
   "execution_count": null,
   "id": "48f19081-b427-4a30-9cd2-7e00855f527b",
   "metadata": {},
   "outputs": [],
   "source": [
    "\n",
    "# df = pd.DataFrame(results_summary.tables[1].data)\n",
    "\n",
    "# df.columns = df.iloc[0,:]\n",
    "# df = df.drop([0])\n",
    "# df['[0.025'].astype(float)\n",
    "coef_df = pd.DataFrame(reg.summary().tables[1].data)\n",
    "\n",
    "# Add column names\n",
    "coef_df.columns = coef_df.iloc[0]\n",
    "\n",
    "# Drop the extra row with column labels\n",
    "coef_df=coef_df.drop(0)\n",
    "\n",
    "# # Set index to variable names \n",
    "# coef_df = coef_df.set_index(coef_df.columns[0])\n",
    "\n",
    "# # Change datatype from object to float\n",
    "# coef_df = coef_df.astype(float)\n",
    "\n",
    "coef_df = coef_df.sort_values(by=['coef'])\n",
    "\n",
    "coef_df['stats'] = coef_df.iloc[:, 0]\n",
    "plot_df = coef_df[['stats','coef', 'std err', 't', 'P>|t|', '[0.025', '0.975]']]\n",
    "plot_df"
   ]
  },
  {
   "cell_type": "code",
   "execution_count": null,
   "id": "41fe6bbd-0977-4e16-ac3c-46b776309b0d",
   "metadata": {},
   "outputs": [],
   "source": [
    "(0.578 + 0.466) /2"
   ]
  },
  {
   "cell_type": "code",
   "execution_count": null,
   "id": "01cd3d41-120a-4a1a-b66d-54324ba6d4ac",
   "metadata": {},
   "outputs": [],
   "source": [
    "import plotly.graph_objects as go\n",
    "\n",
    "fig = go.Figure(data=go.Scatter(\n",
    "        x=plot_df['stats'],\n",
    "        y=plot_df['coef'].astype(float),\n",
    "        error_y=dict(\n",
    "            type='data',\n",
    "            symmetric=False,\n",
    "            array=plot_df['coef'].astype(float) - plot_df['[0.025'].astype(float),\n",
    "            arrayminus=plot_df['0.975]'].astype(float) - plot_df['coef'].astype(float))\n",
    "        ))\n",
    "fig.add_hline(y=0, line_width=3, line_dash=\"dash\", line_color=\"red\")\n",
    "\n",
    "fig.update_layout(\n",
    "    autosize=False,\n",
    "    width=600,\n",
    "    height=600,\n",
    "    yaxis=dict(\n",
    "        title_text=\"Y-axis Title\",\n",
    "        tickmode=\"array\",\n",
    "        titlefont=dict(size=11),\n",
    "    )\n",
    ")\n",
    "\n",
    "\n",
    "\n",
    "fig.show()"
   ]
  },
  {
   "cell_type": "code",
   "execution_count": null,
   "id": "d73c0823-b810-4745-b88e-a7aa433ce93f",
   "metadata": {},
   "outputs": [],
   "source": [
    "import plotly.express as px\n",
    "\n",
    "fig = px.scatter(plot_df, x=\"stats\", y=\"coef\", color=\"stats\",\n",
    "                 error_y=\"0.975]\", error_y_minus=\"[0.025\", width=800, height=400)\n",
    "fig.show()\n"
   ]
  }
 ],
 "metadata": {
  "kernelspec": {
   "display_name": "Python 3 (ipykernel)",
   "language": "python",
   "name": "python3"
  },
  "language_info": {
   "codemirror_mode": {
    "name": "ipython",
    "version": 3
   },
   "file_extension": ".py",
   "mimetype": "text/x-python",
   "name": "python",
   "nbconvert_exporter": "python",
   "pygments_lexer": "ipython3",
   "version": "3.10.4"
  }
 },
 "nbformat": 4,
 "nbformat_minor": 5
}
