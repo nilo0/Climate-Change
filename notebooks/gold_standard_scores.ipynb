{
 "cells": [
  {
   "cell_type": "code",
   "execution_count": null,
   "id": "d618d8ce-e0ea-4ee5-bf80-8e186fb4cf4a",
   "metadata": {},
   "outputs": [],
   "source": [
    "import pandas as pd\n",
    "import spacy\n",
    "import string\n",
    "import regex as re\n",
    "import nltk\n",
    "import ast\n",
    "import copy\n",
    "import glob\n",
    "# import advertools as adv\n",
    "import plotly.graph_objects as go\n",
    "\n",
    "from datetime import datetime\n",
    "\n",
    "\n",
    "pd.options.display.max_colwidth = 285\n",
    "\n",
    "\n",
    "\n",
    "from textblob import TextBlob\n",
    "\n",
    "# from vaderSentiment.vaderSentiment import SentimentIntensityAnalyzer\n",
    "\n",
    "\n",
    "from spacymoji import Emoji\n",
    "from nltk.corpus import stopwords\n",
    "from urllib.parse import urlparse\n",
    "from textblob import Word\n",
    "# from sklearn.metrics.pairwise import cosine_similarity\n",
    "\n",
    "\n",
    "\n",
    "# nlp = spacy.load(\"en_core_web_sm\")\n",
    "# emoji = Emoji(nlp)\n",
    "# nlp.add_pipe(\"emoji\", first=True)\n",
    "\n",
    "\n",
    "# stemmer = nltk.SnowballStemmer(\"english\")"
   ]
  },
  {
   "cell_type": "code",
   "execution_count": null,
   "id": "4b208eb8-1482-4da6-8844-ac2698ac65c4",
   "metadata": {
    "tags": []
   },
   "outputs": [],
   "source": [
    "%run ./modules/load_data_module.ipynb\n",
    "%run ./modules/extract_info_clean_data_module.ipynb\n",
    "%run ./modules/update_dataframe_module.ipynb\n",
    "# %run ./modules/sentiment_module.ipynb\n",
    "# %run ./modules/semantic_similarity_module.ipynb"
   ]
  },
  {
   "cell_type": "code",
   "execution_count": null,
   "id": "58c3a315-390e-4203-8132-5875b6905381",
   "metadata": {},
   "outputs": [],
   "source": [
    "sample_tweets = pd.read_feather('/home/niloofar/Developement/Climate-Change/data/sample_data/sample_tweets_final_version.feather')\n",
    "sample_replies = pd.read_feather('/home/niloofar/Developement/Climate-Change/data/sample_data/sample_replies_final_version.feather')\n",
    "sample_quotes = pd.read_feather('/home/niloofar/Developement/Climate-Change/data/sample_data/sample_quotes_final_version.feather')"
   ]
  },
  {
   "cell_type": "code",
   "execution_count": null,
   "id": "9f945225-f933-4db3-80fe-b0164dd83722",
   "metadata": {},
   "outputs": [],
   "source": [
    "def split_dataframe(df, chunk_size = 10000): \n",
    "    list_of_chunks = []\n",
    "    num_chunks = len(df) // chunk_size + 1\n",
    "    for i in range(num_chunks):\n",
    "        list_of_chunks.append(df[i*chunk_size:(i+1)*chunk_size])\n",
    "    return list_of_chunks"
   ]
  },
  {
   "cell_type": "code",
   "execution_count": null,
   "id": "fd548595-8e0c-4649-9ff6-19640984514c",
   "metadata": {},
   "outputs": [],
   "source": [
    "def restrict_df_to_time_interval(df, from_day, to_day):\n",
    "\n",
    "    df['created_at'] = df['created_at'].apply(lambda x: datetime.strptime(x, '%Y-%m-%dT%H:%M:%S.%fZ'))\n",
    "    return df.loc[(df['created_at']>= from_day) & (df['created_at'] < to_day)]"
   ]
  },
  {
   "cell_type": "code",
   "execution_count": null,
   "id": "0380d1b7-55f3-45ee-9f33-d1c0fa2e6677",
   "metadata": {},
   "outputs": [],
   "source": [
    "def update_controversiality_score(df_tweet, df_reply, df_quote):# from_idx, to_idx):\n",
    "    \"\"\"\n",
    "    input:\n",
    "        df_tweet: sample dataframe of tweets\n",
    "        df_reply: sample dataframe of replies\n",
    "        df_quote: sample dataframe of quotes\n",
    "        from_idx: integer, the first index of the tweets sub-sample. \n",
    "        to_idx: integer, the last index of the tweets sub-sample\n",
    "\n",
    "    output:\n",
    "        dataframe, the tweets dataframe, the GS_controversiality_score of the selected sub-sample is updated.\n",
    "    \n",
    "    How it works?\n",
    "        it shows a tweet and all information about it as a dataframe\n",
    "        it then asks if you want to see the dataframe contining the replies and the information about replies\n",
    "        TO SEE THE REPLIES: press y, to continue without reading the replies, press any other key\n",
    "        it ask it you want to see the dataframe containing the quotes\n",
    "        TO SEE THE QUOTES: press y, to continue without reading the replies press any other key\n",
    "        \n",
    "        Finally:\n",
    "            it asks you to give some score for the GS_controversiality_score. the inputs are:\n",
    "                0 : not controversial\n",
    "                1 : somewhat controversial\n",
    "                2 : controversial\n",
    "                3 : very controversial\n",
    "    \"\"\"\n",
    "    # df_sample = copy.deepcopy(df_tweet.iloc[from_idx:to_idx])\n",
    "    df_sample = copy.deepcopy(df_tweet)\n",
    "    \n",
    "    \n",
    "    for i, row in df_sample.iterrows():\n",
    "        display(row.to_frame())\n",
    "        \n",
    "        print('Read replies?')\n",
    "        reply = input()\n",
    "        \n",
    "        if reply == 'y':\n",
    "            display(get_conversation(row['conversation_id'], df_reply))\n",
    "            \n",
    "        print('Read quotes?')\n",
    "        quote = input()\n",
    "        \n",
    "        if quote == 'y':\n",
    "            display(get_conversation(row['conversation_id'], df_quote))\n",
    "            \n",
    "            \n",
    "        print('The score would be:')\n",
    "        score_range = [0, 1, 2, 3]\n",
    "        score = input()\n",
    "        \n",
    "        if int(score) not in score_range:\n",
    "            print('INVALID SCORE')\n",
    "            score = input()\n",
    "            if int(score) not in score_range:\n",
    "                print(\"FINAL CHANCE TO GIVE A VALID SCORE!\")\n",
    "                score = input()\n",
    "        \n",
    "        \n",
    "        df_tweet.at[i, ['GS_controversiality_score']] = score\n",
    "        \n",
    "        print(f\"score stored for the {i} row is {score}\")\n",
    "        \n",
    "            \n",
    "        print('********************************************************************************************', end=\"\")\n",
    "       \n",
    "        \n",
    "    return df_tweet\n",
    "        \n",
    "        \n"
   ]
  },
  {
   "cell_type": "markdown",
   "id": "46843c98-5e6d-4aaf-871c-f46ac96d6129",
   "metadata": {},
   "source": [
    "# Scoring :D"
   ]
  },
  {
   "cell_type": "code",
   "execution_count": null,
   "id": "a35417d7-7b35-4d42-9e4a-2a4a49c93499",
   "metadata": {},
   "outputs": [],
   "source": [
    "# Toy example of the function\n",
    "# df = update_controversiality_score(sample_tweets, sample_replies, sample_quotes, 500, 1000)"
   ]
  },
  {
   "cell_type": "markdown",
   "id": "aef7682b-4858-4813-951b-8cb36f5f3b35",
   "metadata": {},
   "source": [
    "\n",
    " \n",
    "<span style=\"color:red\"> **To save the scores use  df.to_csv('name.csv', index=False)**</span>"
   ]
  }
 ],
 "metadata": {
  "kernelspec": {
   "display_name": "Python 3 (ipykernel)",
   "language": "python",
   "name": "python3"
  },
  "language_info": {
   "codemirror_mode": {
    "name": "ipython",
    "version": 3
   },
   "file_extension": ".py",
   "mimetype": "text/x-python",
   "name": "python",
   "nbconvert_exporter": "python",
   "pygments_lexer": "ipython3",
   "version": "3.10.4"
  }
 },
 "nbformat": 4,
 "nbformat_minor": 5
}
