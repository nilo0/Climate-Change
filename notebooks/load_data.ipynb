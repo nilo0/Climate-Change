{
 "cells": [
  {
   "cell_type": "code",
   "execution_count": null,
   "id": "e27e49a6-4ef1-4b5c-9900-f500554a3261",
   "metadata": {
    "tags": []
   },
   "outputs": [],
   "source": [
    "%run ./modules/load_data_module.ipynb\n",
    "%run ./modules/extract_info_clean_data_module.ipynb\n",
    "%run ./modules/update_dataframe_module.ipynb\n",
    "%run ./modules/sentiment_module.ipynb"
   ]
  },
  {
   "cell_type": "code",
   "execution_count": null,
   "id": "9ec218f8-145d-46c7-996b-3698c2762f40",
   "metadata": {
    "tags": []
   },
   "outputs": [],
   "source": [
    "import pandas as pd\n",
    "import spacy\n",
    "import string\n",
    "import regex as re\n",
    "import nltk\n",
    "import ast\n",
    "import copy\n",
    "import glob\n",
    "import advertools as adv\n",
    "import plotly.graph_objects as go\n",
    "\n",
    "\n",
    "pd.options.display.max_colwidth = 285\n",
    "\n",
    "\n",
    "\n",
    "from textblob import TextBlob\n",
    "\n",
    "from vaderSentiment.vaderSentiment import SentimentIntensityAnalyzer\n",
    "\n",
    "\n",
    "from spacymoji import Emoji\n",
    "from nltk.corpus import stopwords\n",
    "from urllib.parse import urlparse\n",
    "from textblob import Word\n",
    "from sklearn.metrics.pairwise import cosine_similarity\n",
    "\n",
    "\n",
    "\n",
    "nlp = spacy.load(\"en_core_web_sm\")\n",
    "emoji = Emoji(nlp)\n",
    "nlp.add_pipe(\"emoji\", first=True)\n",
    "\n",
    "\n",
    "stemmer = nltk.SnowballStemmer(\"english\")\n",
    "\n",
    "\n",
    "# nltk.download('wordnet')\n",
    "# nltk.download('omw-1.4')\n"
   ]
  },
  {
   "cell_type": "code",
   "execution_count": null,
   "id": "3781b9e3-b88e-44c8-8a94-f6c50e5902a1",
   "metadata": {},
   "outputs": [],
   "source": [
    "tweets_path = glob.glob('/home/niloofar/Developement/Climate-Change/data/data/*tweets.csv')\n",
    "users_path = glob.glob('/home/niloofar/Developement/Climate-Change/data/data/*users.csv')\n",
    "replies_path = glob.glob('/home/niloofar/Developement/Climate-Change/data/data/*replies.csv')\n",
    "quotes_path = glob.glob('/home/niloofar/Developement/Climate-Change/data/data/*quotes.csv')"
   ]
  },
  {
   "cell_type": "code",
   "execution_count": null,
   "id": "6faef39a-b68b-420a-85dd-2cc42e827960",
   "metadata": {},
   "outputs": [],
   "source": [
    "user_dtype = {\n",
    "    \"id\": \"Int64\", \n",
    "    \"username\": \"string\", \n",
    "    \"created_at\": \"string\", \n",
    "    \"name\": \"string\", \n",
    "    \"protected\": \"boolean\", \n",
    "    \"verified\": \"boolean\", \n",
    "    \"followers_count\": \"Int64\", \n",
    "    \"following_count\": \"Int64\", \n",
    "    \"tweet_count\": \"Int64\", \n",
    "    \"listed_count\": \"Int64\", \n",
    "    \"url\": \"string\", \n",
    "    \"description\": \"string\"\n",
    "}\n",
    "\n",
    "\n",
    "tweet_dtype = {\n",
    "    \"id\": \"Int64\",\n",
    "    \"author_id\": \"Int64\",\n",
    "    \"conversation_id\": \"Int64\",\n",
    "    \"created_at\": \"string\",\n",
    "    \"lang\": \"string\",\n",
    "    \"retweet_count\": \"Int64\",\n",
    "    \"reply_count\": \"Int64\",\n",
    "    \"like_count\": \"Int64\",\n",
    "    \"quote_count\": \"Int64\",\n",
    "    \"reply_settings\": \"string\",\n",
    "    \"text\": \"string\"\n",
    "}\n",
    "\n",
    "\n",
    "conversation_dtype = {\n",
    "    \"id\": \"Int64\",\n",
    "    \"author_id\": \"Int64\",\n",
    "    \"conversation_id\": \"Int64\",\n",
    "    \"created_at\": \"string\",\n",
    "    \"lang\": \"string\",\n",
    "    \"retweet_count\": \"Int64\",\n",
    "    \"reply_count\": \"Int64\",\n",
    "    \"like_count\": \"Int64\",\n",
    "    \"quote_count\": \"Int64\",\n",
    "    \"referenced_tweets\": \"string\",\n",
    "    \"text\": \"string\"\n",
    "}\n"
   ]
  },
  {
   "cell_type": "code",
   "execution_count": null,
   "id": "99b8afc0-fcb6-40aa-863d-e646fee2f5c2",
   "metadata": {
    "tags": []
   },
   "outputs": [],
   "source": [
    "load_tweets = get_df(tweets_path, tweet_dtype)\n",
    "load_replies = get_df(replies_path, conversation_dtype)\n",
    "load_quotes = get_df(quotes_path, conversation_dtype).dropna()\n",
    "load_users = get_df(users_path, user_dtype)"
   ]
  },
  {
   "cell_type": "code",
   "execution_count": null,
   "id": "bd67a8f9-ab34-4ae7-94db-0e7356e2ec28",
   "metadata": {},
   "outputs": [],
   "source": [
    "users = clean_users(load_users)"
   ]
  },
  {
   "cell_type": "markdown",
   "id": "519e5b40-60a3-44cb-890e-e331c5eb793e",
   "metadata": {},
   "source": [
    "# initial dataframe cleaning"
   ]
  },
  {
   "cell_type": "code",
   "execution_count": null,
   "id": "261d69ab-9bf7-4df7-ad6d-75471dfb092e",
   "metadata": {},
   "outputs": [],
   "source": [
    "# tweet = copy.deepcopy(tweets)\n",
    "# reply = copy.deepcopy(replies)\n",
    "# quote = copy.deepcopy(quotes)"
   ]
  },
  {
   "cell_type": "code",
   "execution_count": null,
   "id": "bbb24078-0bde-40a8-ad5a-d1f8f20932de",
   "metadata": {},
   "outputs": [],
   "source": [
    "sample_tweets = pd.read_csv('/home/niloofar/Developement/Climate-Change/data/sample_data/sample_tweets.csv')\n",
    "sample_replies = pd.read_csv('/home/niloofar/Developement/Climate-Change/data/sample_data/sample_replies.csv')\n",
    "sample_quotes = pd.read_csv('/home/niloofar/Developement/Climate-Change/data/sample_data/sample_quotes.csv')"
   ]
  },
  {
   "cell_type": "markdown",
   "id": "31e6f097-247c-41fa-8b26-037283b05142",
   "metadata": {
    "tags": []
   },
   "source": [
    "# GEN-DATA "
   ]
  },
  {
   "cell_type": "code",
   "execution_count": null,
   "id": "51df6039-769a-4d7f-a708-922921ed6088",
   "metadata": {},
   "outputs": [],
   "source": [
    "sample_tweets['hashtags'] = add_hashtags(sample_tweets)"
   ]
  },
  {
   "cell_type": "code",
   "execution_count": null,
   "id": "1b2602c3-c890-4093-9b88-bf03d29b8e62",
   "metadata": {
    "tags": []
   },
   "outputs": [],
   "source": [
    "sample_tweets['hashtag_count'] = add_nbr_hashtags(sample_tweets)"
   ]
  },
  {
   "cell_type": "code",
   "execution_count": null,
   "id": "3860e5b4-e971-4984-9163-a0de3e7e3f3e",
   "metadata": {},
   "outputs": [],
   "source": [
    "sample_tweets['uppercase_count'] = add_uppercase_count(sample_tweets)"
   ]
  },
  {
   "cell_type": "code",
   "execution_count": null,
   "id": "41ac92f3-d7cf-49a7-afbe-7f11976f7155",
   "metadata": {},
   "outputs": [],
   "source": [
    "sample_tweets['uppercase_pct'] = add_upper_case_pct(sample_tweets)"
   ]
  },
  {
   "cell_type": "code",
   "execution_count": null,
   "id": "3e1778d3-0033-4c40-9534-f250c62488a9",
   "metadata": {},
   "outputs": [],
   "source": [
    "sample_tweets['exclamation_mark_count'] = add_exclamation_mark_count(sample_tweets)"
   ]
  },
  {
   "cell_type": "code",
   "execution_count": null,
   "id": "d3d95ad8-2e53-4edb-87bf-5e86189dc21f",
   "metadata": {},
   "outputs": [],
   "source": [
    "sample_tweets['question_mark_count'] =  add_question_mark_count(sample_tweets)"
   ]
  },
  {
   "cell_type": "code",
   "execution_count": null,
   "id": "950c3efa-d899-48db-bd6a-af1dd29a36f0",
   "metadata": {},
   "outputs": [],
   "source": [
    "sample_tweets['url_count'] = add_url_count(sample_tweets)"
   ]
  },
  {
   "cell_type": "code",
   "execution_count": null,
   "id": "2d825225-5c4c-4205-a033-581b387e1315",
   "metadata": {},
   "outputs": [],
   "source": [
    "sample_tweets['mention_count'] = add_mention_count(sample_tweets)"
   ]
  },
  {
   "cell_type": "code",
   "execution_count": null,
   "id": "f4c87868-cf31-4b4b-a150-209087eae024",
   "metadata": {},
   "outputs": [],
   "source": [
    "sample_tweets['emojie_count'] = add_emoji_count(sample_tweets)"
   ]
  },
  {
   "cell_type": "code",
   "execution_count": null,
   "id": "b51aafa5-4a4e-49ca-8cf8-18a60d64e108",
   "metadata": {},
   "outputs": [],
   "source": [
    "sample_tweets['followers_count'] = add_followers_count(sample_tweets, users)"
   ]
  },
  {
   "cell_type": "code",
   "execution_count": null,
   "id": "fe09bc5f-5940-489f-8cdb-5fcc36ff7da3",
   "metadata": {},
   "outputs": [],
   "source": [
    "sample_tweets['engagement_score'] = add_engagement_score(sample_tweets)"
   ]
  },
  {
   "cell_type": "code",
   "execution_count": null,
   "id": "260a93cb-01a2-40a8-8b1c-07306a9826f4",
   "metadata": {},
   "outputs": [],
   "source": [
    "sample_tweets['sentiment_score'] = add_sentiment_score(sample_tweets)"
   ]
  },
  {
   "cell_type": "code",
   "execution_count": null,
   "id": "43d7c809-bfdc-4827-a71d-e7e1cf625b60",
   "metadata": {},
   "outputs": [],
   "source": []
  },
  {
   "cell_type": "code",
   "execution_count": null,
   "id": "eb29b7a4-0d4b-400b-b406-8bbfb319f3ec",
   "metadata": {},
   "outputs": [],
   "source": [
    "sample_replies['sentiment_score'] = add_sentiment_score(sample_replies)"
   ]
  },
  {
   "cell_type": "code",
   "execution_count": null,
   "id": "104a40f9-a859-493d-a04a-1f87bd70454d",
   "metadata": {
    "tags": []
   },
   "outputs": [],
   "source": [
    "sample_replies.head(1)"
   ]
  },
  {
   "cell_type": "code",
   "execution_count": null,
   "id": "f9e092d8-5f32-4c58-85df-4f322df038d5",
   "metadata": {},
   "outputs": [],
   "source": []
  },
  {
   "cell_type": "code",
   "execution_count": null,
   "id": "8daaaf84-e22b-4380-abfa-5ebc0529ad13",
   "metadata": {},
   "outputs": [],
   "source": [
    "sample_quotes['sentiment_score'] = add_sentiment_score(sample_quotes)"
   ]
  },
  {
   "cell_type": "code",
   "execution_count": null,
   "id": "752df8ed-6160-4254-8071-4de45fc358c5",
   "metadata": {},
   "outputs": [],
   "source": [
    "sample_quotes.head(1)"
   ]
  },
  {
   "cell_type": "code",
   "execution_count": null,
   "id": "5def38d9-9a1a-46be-98be-e5c695b0b1f9",
   "metadata": {},
   "outputs": [],
   "source": []
  },
  {
   "cell_type": "code",
   "execution_count": null,
   "id": "0ab7bc7b-193a-4908-a29d-b70f18555b33",
   "metadata": {},
   "outputs": [],
   "source": []
  }
 ],
 "metadata": {
  "kernelspec": {
   "display_name": "Python 3 (ipykernel)",
   "language": "python",
   "name": "python3"
  },
  "language_info": {
   "codemirror_mode": {
    "name": "ipython",
    "version": 3
   },
   "file_extension": ".py",
   "mimetype": "text/x-python",
   "name": "python",
   "nbconvert_exporter": "python",
   "pygments_lexer": "ipython3",
   "version": "3.10.4"
  }
 },
 "nbformat": 4,
 "nbformat_minor": 5
}
