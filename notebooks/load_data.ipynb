{
 "cells": [
  {
   "cell_type": "code",
   "execution_count": null,
   "id": "e27e49a6-4ef1-4b5c-9900-f500554a3261",
   "metadata": {
    "tags": []
   },
   "outputs": [],
   "source": [
    "%run ./modules/load_data_module.ipynb\n",
    "%run ./modules/extract_info_clean_data_module.ipynb\n",
    "%run ./modules/update_dataframe_module.ipynb\n",
    "%run ./modules/sentiment_module.ipynb"
   ]
  },
  {
   "cell_type": "code",
   "execution_count": null,
   "id": "9ec218f8-145d-46c7-996b-3698c2762f40",
   "metadata": {
    "tags": []
   },
   "outputs": [],
   "source": [
    "import pandas as pd\n",
    "import spacy\n",
    "import string\n",
    "import regex as re\n",
    "import nltk\n",
    "import ast\n",
    "import copy\n",
    "import glob\n",
    "import advertools as adv\n",
    "import plotly.graph_objects as go\n",
    "\n",
    "\n",
    "pd.options.display.max_colwidth = 285\n",
    "\n",
    "\n",
    "\n",
    "from textblob import TextBlob\n",
    "\n",
    "from vaderSentiment.vaderSentiment import SentimentIntensityAnalyzer\n",
    "\n",
    "\n",
    "from spacymoji import Emoji\n",
    "from nltk.corpus import stopwords\n",
    "from urllib.parse import urlparse\n",
    "from textblob import Word\n",
    "from sklearn.metrics.pairwise import cosine_similarity\n",
    "\n",
    "\n",
    "\n",
    "nlp = spacy.load(\"en_core_web_sm\")\n",
    "emoji = Emoji(nlp)\n",
    "nlp.add_pipe(\"emoji\", first=True)\n",
    "\n",
    "\n",
    "stemmer = nltk.SnowballStemmer(\"english\")\n",
    "\n",
    "\n",
    "# nltk.download('wordnet')\n",
    "# nltk.download('omw-1.4')\n"
   ]
  },
  {
   "cell_type": "code",
   "execution_count": null,
   "id": "3781b9e3-b88e-44c8-8a94-f6c50e5902a1",
   "metadata": {},
   "outputs": [],
   "source": [
    "tweets_path = glob.glob('/home/niloofar/Developement/Climate-Change/data/data/*tweets.csv')\n",
    "users_path = glob.glob('/home/niloofar/Developement/Climate-Change/data/data/*users.csv')\n",
    "replies_path = glob.glob('/home/niloofar/Developement/Climate-Change/data/data/*replies.csv')\n",
    "quotes_path = glob.glob('/home/niloofar/Developement/Climate-Change/data/data/*quotes.csv')"
   ]
  },
  {
   "cell_type": "code",
   "execution_count": null,
   "id": "6faef39a-b68b-420a-85dd-2cc42e827960",
   "metadata": {},
   "outputs": [],
   "source": [
    "user_dtype = {\n",
    "    \"id\": \"Int64\", \n",
    "    \"username\": \"string\", \n",
    "    \"created_at\": \"string\", \n",
    "    \"name\": \"string\", \n",
    "    \"protected\": \"boolean\", \n",
    "    \"verified\": \"boolean\", \n",
    "    \"followers_count\": \"Int64\", \n",
    "    \"following_count\": \"Int64\", \n",
    "    \"tweet_count\": \"Int64\", \n",
    "    \"listed_count\": \"Int64\", \n",
    "    \"url\": \"string\", \n",
    "    \"description\": \"string\"\n",
    "}\n",
    "\n",
    "\n",
    "tweet_dtype = {\n",
    "    \"id\": \"Int64\",\n",
    "    \"author_id\": \"Int64\",\n",
    "    \"conversation_id\": \"Int64\",\n",
    "    \"created_at\": \"string\",\n",
    "    \"lang\": \"string\",\n",
    "    \"retweet_count\": \"Int64\",\n",
    "    \"reply_count\": \"Int64\",\n",
    "    \"like_count\": \"Int64\",\n",
    "    \"quote_count\": \"Int64\",\n",
    "    \"reply_settings\": \"string\",\n",
    "    \"text\": \"string\"\n",
    "}\n",
    "\n",
    "\n",
    "conversation_dtype = {\n",
    "    \"id\": \"Int64\",\n",
    "    \"author_id\": \"Int64\",\n",
    "    \"conversation_id\": \"Int64\",\n",
    "    \"created_at\": \"string\",\n",
    "    \"lang\": \"string\",\n",
    "    \"retweet_count\": \"Int64\",\n",
    "    \"reply_count\": \"Int64\",\n",
    "    \"like_count\": \"Int64\",\n",
    "    \"quote_count\": \"Int64\",\n",
    "    \"referenced_tweets\": \"string\",\n",
    "    \"text\": \"string\"\n",
    "}\n"
   ]
  },
  {
   "cell_type": "code",
   "execution_count": null,
   "id": "99b8afc0-fcb6-40aa-863d-e646fee2f5c2",
   "metadata": {
    "tags": []
   },
   "outputs": [],
   "source": [
    "load_tweets = get_df(tweets_path, tweet_dtype)\n",
    "load_replies = get_df(replies_path, conversation_dtype)\n",
    "load_quotes = get_df(quotes_path, conversation_dtype).dropna()\n",
    "load_users = get_df(users_path, user_dtype)\n"
   ]
  },
  {
   "cell_type": "markdown",
   "id": "519e5b40-60a3-44cb-890e-e331c5eb793e",
   "metadata": {},
   "source": [
    "# initial dataframe cleaning"
   ]
  },
  {
   "cell_type": "code",
   "execution_count": null,
   "id": "bd67a8f9-ab34-4ae7-94db-0e7356e2ec28",
   "metadata": {},
   "outputs": [],
   "source": [
    "users = clean_users(load_users)\n",
    "\n",
    "load_replies['reference_tweet_id'] = add_reference_id(load_replies)\n",
    "load_quotes['reference_tweet_id'] = add_reference_id(load_quotes)"
   ]
  },
  {
   "cell_type": "markdown",
   "id": "b708378c-ea5b-4d74-ab58-8ea6cfa50b13",
   "metadata": {},
   "source": [
    "### Generate sample data"
   ]
  },
  {
   "cell_type": "code",
   "execution_count": null,
   "id": "d9e68662-e55d-48fc-ae4c-d5a77af40895",
   "metadata": {},
   "outputs": [],
   "source": [
    "# Run this cell to generate new sample data sets\n",
    "\n",
    "# sample_tweets = get_sample_df(tweets_path, 0.01, tweet_dtype)\n",
    "# sample_replies = get_sample_reply_quote(sample_tweets, load_replies)\n",
    "# sample_quotes = get_sample_reply_quote(sample_tweets, load_quotes)"
   ]
  },
  {
   "cell_type": "code",
   "execution_count": null,
   "id": "676cd13e-25bb-410a-87c0-6dd47b4bcfc1",
   "metadata": {},
   "outputs": [],
   "source": [
    "# sample_tweets.to_csv('tweets.csv', index=False)\n",
    "# sample_replies.to_csv('replies.csv', index=False)\n",
    "# sample_quotes.to_csv('quotes.csv', index=False)"
   ]
  },
  {
   "cell_type": "code",
   "execution_count": null,
   "id": "5578c939-de1d-4f6f-bcb3-4bc551890728",
   "metadata": {},
   "outputs": [],
   "source": [
    "sample_tweets = pd.read_csv('/home/niloofar/Developement/Climate-Change/notebooks/tweets.csv')\n",
    "sample_replies = pd.read_csv('/home/niloofar/Developement/Climate-Change/notebooks/replies.csv')\n",
    "sample_quotes = pd.read_csv('/home/niloofar/Developement/Climate-Change/notebooks/quotes.csv')"
   ]
  },
  {
   "cell_type": "code",
   "execution_count": null,
   "id": "36acf398-1ed0-4bc4-a1f1-57366ea4bc69",
   "metadata": {},
   "outputs": [],
   "source": [
    "print(len(sample_tweets), len(sample_replies), len(sample_quotes))"
   ]
  },
  {
   "cell_type": "markdown",
   "id": "cce37aaa-9b89-4d56-af09-a606e7003c3e",
   "metadata": {},
   "source": [
    "### To load stored sample data"
   ]
  },
  {
   "cell_type": "markdown",
   "id": "31e6f097-247c-41fa-8b26-037283b05142",
   "metadata": {
    "tags": []
   },
   "source": [
    "# GEN-DATA "
   ]
  },
  {
   "cell_type": "code",
   "execution_count": null,
   "id": "51df6039-769a-4d7f-a708-922921ed6088",
   "metadata": {},
   "outputs": [],
   "source": [
    "sample_tweets['hashtags'] = add_hashtags(sample_tweets)"
   ]
  },
  {
   "cell_type": "code",
   "execution_count": null,
   "id": "1b2602c3-c890-4093-9b88-bf03d29b8e62",
   "metadata": {
    "tags": []
   },
   "outputs": [],
   "source": [
    "sample_tweets['hashtag_count'] = add_nbr_hashtags(sample_tweets)"
   ]
  },
  {
   "cell_type": "code",
   "execution_count": null,
   "id": "3860e5b4-e971-4984-9163-a0de3e7e3f3e",
   "metadata": {},
   "outputs": [],
   "source": [
    "sample_tweets['uppercase_count'] = add_uppercase_count(sample_tweets)"
   ]
  },
  {
   "cell_type": "code",
   "execution_count": null,
   "id": "41ac92f3-d7cf-49a7-afbe-7f11976f7155",
   "metadata": {},
   "outputs": [],
   "source": [
    "sample_tweets['uppercase_pct'] = add_upper_case_pct(sample_tweets)"
   ]
  },
  {
   "cell_type": "code",
   "execution_count": null,
   "id": "3e1778d3-0033-4c40-9534-f250c62488a9",
   "metadata": {},
   "outputs": [],
   "source": [
    "sample_tweets['exclamation_mark_count'] = add_exclamation_mark_count(sample_tweets)"
   ]
  },
  {
   "cell_type": "code",
   "execution_count": null,
   "id": "d3d95ad8-2e53-4edb-87bf-5e86189dc21f",
   "metadata": {},
   "outputs": [],
   "source": [
    "sample_tweets['question_mark_count'] =  add_question_mark_count(sample_tweets)"
   ]
  },
  {
   "cell_type": "code",
   "execution_count": null,
   "id": "950c3efa-d899-48db-bd6a-af1dd29a36f0",
   "metadata": {},
   "outputs": [],
   "source": [
    "sample_tweets['url_count'] = add_url_count(sample_tweets)"
   ]
  },
  {
   "cell_type": "code",
   "execution_count": null,
   "id": "2d825225-5c4c-4205-a033-581b387e1315",
   "metadata": {},
   "outputs": [],
   "source": [
    "sample_tweets['mention_count'] = add_mention_count(sample_tweets)"
   ]
  },
  {
   "cell_type": "code",
   "execution_count": null,
   "id": "f4c87868-cf31-4b4b-a150-209087eae024",
   "metadata": {},
   "outputs": [],
   "source": [
    "sample_tweets['emojie_count'] = add_emoji_count(sample_tweets)"
   ]
  },
  {
   "cell_type": "code",
   "execution_count": null,
   "id": "b51aafa5-4a4e-49ca-8cf8-18a60d64e108",
   "metadata": {},
   "outputs": [],
   "source": [
    "sample_tweets['followers_count'] = add_followers_count(sample_tweets, users)"
   ]
  },
  {
   "cell_type": "code",
   "execution_count": null,
   "id": "fe09bc5f-5940-489f-8cdb-5fcc36ff7da3",
   "metadata": {},
   "outputs": [],
   "source": [
    "sample_tweets['engagement_score'] = add_engagement_score(sample_tweets)"
   ]
  },
  {
   "cell_type": "markdown",
   "id": "d92b6f9a-b1f0-40bc-b72c-881b2db788f5",
   "metadata": {},
   "source": [
    "### sentiment"
   ]
  },
  {
   "cell_type": "code",
   "execution_count": null,
   "id": "260a93cb-01a2-40a8-8b1c-07306a9826f4",
   "metadata": {},
   "outputs": [],
   "source": [
    "sample_tweets['sentiment_score'] = add_sentiment_score(sample_tweets)"
   ]
  },
  {
   "cell_type": "code",
   "execution_count": null,
   "id": "eb29b7a4-0d4b-400b-b406-8bbfb319f3ec",
   "metadata": {},
   "outputs": [],
   "source": [
    "sample_replies['sentiment_score'] = add_sentiment_score(sample_replies)"
   ]
  },
  {
   "cell_type": "code",
   "execution_count": null,
   "id": "8daaaf84-e22b-4380-abfa-5ebc0529ad13",
   "metadata": {},
   "outputs": [],
   "source": [
    "sample_quotes['sentiment_score'] = add_sentiment_score(sample_quotes)"
   ]
  },
  {
   "cell_type": "code",
   "execution_count": null,
   "id": "067da019-29c7-4388-b134-b0d263ba590c",
   "metadata": {},
   "outputs": [],
   "source": [
    "sample_tweets['sentiment_category'] = add_sentiment_category(sample_tweets)"
   ]
  },
  {
   "cell_type": "code",
   "execution_count": null,
   "id": "d07a7655-2523-46dd-9c78-e7e26e038603",
   "metadata": {},
   "outputs": [],
   "source": [
    "sample_replies['sentiment_category'] = add_sentiment_category(sample_replies)"
   ]
  },
  {
   "cell_type": "code",
   "execution_count": null,
   "id": "1e6b966c-4d37-4200-8e28-159328564a63",
   "metadata": {},
   "outputs": [],
   "source": [
    "sample_quotes['sentiment_category'] = add_sentiment_category(sample_quotes)"
   ]
  },
  {
   "cell_type": "code",
   "execution_count": null,
   "id": "5def38d9-9a1a-46be-98be-e5c695b0b1f9",
   "metadata": {},
   "outputs": [],
   "source": [
    "sample_tweets['avg_replies_sentiment'] = add_average_conversation_sentiment(sample_tweets, sample_replies)"
   ]
  },
  {
   "cell_type": "code",
   "execution_count": null,
   "id": "318b7ef5-d1ae-408b-ab5b-2744de6d2ff0",
   "metadata": {},
   "outputs": [],
   "source": [
    "sample_tweets['avg_quotes_sentiment'] = add_average_conversation_sentiment(sample_tweets, sample_quotes)"
   ]
  },
  {
   "cell_type": "code",
   "execution_count": null,
   "id": "d41a1a8b-f36a-4079-90d5-8a0e236eda56",
   "metadata": {},
   "outputs": [],
   "source": [
    "sample_tweets['avg_conversation_sentiment'] = add_average_conversation_sentiment(sample_tweets, pd.concat([sample_replies, sample_quotes]))"
   ]
  },
  {
   "cell_type": "code",
   "execution_count": null,
   "id": "c6496c61-a3fa-49aa-94ef-041953465756",
   "metadata": {},
   "outputs": [],
   "source": [
    "sample_tweets['var_replies_sentiment'] = add_variance_of_conversation_sentiment(sample_tweets, sample_replies)"
   ]
  },
  {
   "cell_type": "code",
   "execution_count": null,
   "id": "776fa654-c1d1-4607-998e-4341fc5452a8",
   "metadata": {},
   "outputs": [],
   "source": [
    "sample_tweets['var_quotes_sentiment'] = add_variance_of_conversation_sentiment(sample_tweets, sample_quotes)"
   ]
  },
  {
   "cell_type": "code",
   "execution_count": null,
   "id": "09100964-c41d-46cf-b361-3934823581d4",
   "metadata": {},
   "outputs": [],
   "source": [
    "sample_tweets['var_conversation_sentiment'] = add_variance_of_conversation_sentiment(sample_tweets, pd.concat([sample_replies, sample_quotes]))"
   ]
  },
  {
   "cell_type": "code",
   "execution_count": null,
   "id": "c5ea3c10-33f9-4e32-8d68-1d32aac5790d",
   "metadata": {},
   "outputs": [],
   "source": [
    "sample_tweets['pct_similar_sentiment_replies'] = add_pct_sentiment_category(sample_tweets, sample_replies)"
   ]
  },
  {
   "cell_type": "markdown",
   "id": "ff3e9463-b04c-4cdc-934f-976ae2a1d384",
   "metadata": {},
   "source": [
    "### text cleaning"
   ]
  },
  {
   "cell_type": "code",
   "execution_count": null,
   "id": "58059acd-f361-4814-a8f1-48d0db7c466a",
   "metadata": {},
   "outputs": [],
   "source": [
    "sample_tweets['clean_text'] = add_clean_text(sample_tweets)"
   ]
  },
  {
   "cell_type": "code",
   "execution_count": null,
   "id": "e387b7bf-d14d-4bb7-9d79-36acd1938e4f",
   "metadata": {},
   "outputs": [],
   "source": [
    "sample_replies['clean_text'] = add_clean_text(sample_replies)"
   ]
  },
  {
   "cell_type": "code",
   "execution_count": null,
   "id": "ee2aa08a-00a9-45aa-b946-fd480f913447",
   "metadata": {},
   "outputs": [],
   "source": [
    "sample_quotes['clean_text'] =  add_clean_text(sample_quotes)"
   ]
  },
  {
   "cell_type": "markdown",
   "id": "799216c3-6d1c-4273-bcc9-6564f70d6b6a",
   "metadata": {},
   "source": [
    "### Add tweet to conversation Notice, add clean text to conversation dataframe first!"
   ]
  },
  {
   "cell_type": "code",
   "execution_count": null,
   "id": "13701c49-b3d2-4ae2-be1f-cab38bc34c11",
   "metadata": {},
   "outputs": [],
   "source": [
    "sample_quotes['clean_tweet'] = add_tweet_to_conversation(sample_tweets, sample_quotes)"
   ]
  },
  {
   "cell_type": "code",
   "execution_count": null,
   "id": "9c1b946c-d5bc-46a1-b907-6acb97f0cd76",
   "metadata": {},
   "outputs": [],
   "source": [
    "sample_replies['clean_tweet'] = add_tweet_to_conversation(sample_tweets, sample_replies)"
   ]
  },
  {
   "cell_type": "code",
   "execution_count": null,
   "id": "c144f2ad-4f03-4ef4-bc22-8642dbcbd922",
   "metadata": {},
   "outputs": [],
   "source": []
  }
 ],
 "metadata": {
  "kernelspec": {
   "display_name": "Python 3 (ipykernel)",
   "language": "python",
   "name": "python3"
  },
  "language_info": {
   "codemirror_mode": {
    "name": "ipython",
    "version": 3
   },
   "file_extension": ".py",
   "mimetype": "text/x-python",
   "name": "python",
   "nbconvert_exporter": "python",
   "pygments_lexer": "ipython3",
   "version": "3.10.4"
  }
 },
 "nbformat": 4,
 "nbformat_minor": 5
}
