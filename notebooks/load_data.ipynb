{
 "cells": [
  {
   "cell_type": "code",
   "execution_count": null,
   "id": "e27e49a6-4ef1-4b5c-9900-f500554a3261",
   "metadata": {
    "tags": []
   },
   "outputs": [],
   "source": [
    "%run ./modules/load_data_module.ipynb\n",
    "%run ./modules/extract_info_clean_data_module.ipynb\n",
    "%run ./modules/update_dataframe_module.ipynb\n",
    "%run ./modules/sentiment_module.ipynb\n",
    "%run ./modules/semantic_similarity_module.ipynb"
   ]
  },
  {
   "cell_type": "code",
   "execution_count": null,
   "id": "9ec218f8-145d-46c7-996b-3698c2762f40",
   "metadata": {
    "tags": []
   },
   "outputs": [],
   "source": [
    "import pandas as pd\n",
    "import spacy\n",
    "import string\n",
    "import regex as re\n",
    "import nltk\n",
    "import ast\n",
    "import copy\n",
    "import glob\n",
    "import advertools as adv\n",
    "import plotly.graph_objects as go\n",
    "\n",
    "\n",
    "pd.options.display.max_colwidth = 285\n",
    "\n",
    "\n",
    "\n",
    "from textblob import TextBlob\n",
    "\n",
    "from vaderSentiment.vaderSentiment import SentimentIntensityAnalyzer\n",
    "\n",
    "\n",
    "from spacymoji import Emoji\n",
    "from nltk.corpus import stopwords\n",
    "from urllib.parse import urlparse\n",
    "from textblob import Word\n",
    "from sklearn.metrics.pairwise import cosine_similarity\n",
    "\n",
    "\n",
    "\n",
    "nlp = spacy.load(\"en_core_web_sm\")\n",
    "emoji = Emoji(nlp)\n",
    "nlp.add_pipe(\"emoji\", first=True)\n",
    "\n",
    "\n",
    "stemmer = nltk.SnowballStemmer(\"english\")\n",
    "\n",
    "\n",
    "# nltk.download('wordnet')\n",
    "# nltk.download('omw-1.4')\n"
   ]
  },
  {
   "cell_type": "code",
   "execution_count": null,
   "id": "3781b9e3-b88e-44c8-8a94-f6c50e5902a1",
   "metadata": {},
   "outputs": [],
   "source": [
    "tweets_path = glob.glob('/home/niloofar/Developement/Climate-Change/data/data/*tweets.csv')\n",
    "users_path = glob.glob('/home/niloofar/Developement/Climate-Change/data/data/*users.csv')\n",
    "replies_path = glob.glob('/home/niloofar/Developement/Climate-Change/data/data/*replies.csv')\n",
    "quotes_path = glob.glob('/home/niloofar/Developement/Climate-Change/data/data/*quotes.csv')"
   ]
  },
  {
   "cell_type": "code",
   "execution_count": null,
   "id": "6faef39a-b68b-420a-85dd-2cc42e827960",
   "metadata": {},
   "outputs": [],
   "source": [
    "user_dtype = {\n",
    "    \"id\": \"Int64\", \n",
    "    \"username\": \"string\", \n",
    "    \"created_at\": \"string\", \n",
    "    \"name\": \"string\", \n",
    "    \"protected\": \"boolean\", \n",
    "    \"verified\": \"boolean\", \n",
    "    \"followers_count\": \"Int64\", \n",
    "    \"following_count\": \"Int64\", \n",
    "    \"tweet_count\": \"Int64\", \n",
    "    \"listed_count\": \"Int64\", \n",
    "    \"url\": \"string\", \n",
    "    \"description\": \"string\"\n",
    "}\n",
    "\n",
    "\n",
    "tweet_dtype = {\n",
    "    \"id\": \"Int64\",\n",
    "    \"author_id\": \"Int64\",\n",
    "    \"conversation_id\": \"Int64\",\n",
    "    \"created_at\": \"string\",\n",
    "    \"lang\": \"string\",\n",
    "    \"retweet_count\": \"Int64\",\n",
    "    \"reply_count\": \"Int64\",\n",
    "    \"like_count\": \"Int64\",\n",
    "    \"quote_count\": \"Int64\",\n",
    "    \"reply_settings\": \"string\",\n",
    "    \"text\": \"string\"\n",
    "}\n",
    "\n",
    "\n",
    "conversation_dtype = {\n",
    "    \"id\": \"Int64\",\n",
    "    \"author_id\": \"Int64\",\n",
    "    \"conversation_id\": \"Int64\",\n",
    "    \"created_at\": \"string\",\n",
    "    \"lang\": \"string\",\n",
    "    \"retweet_count\": \"Int64\",\n",
    "    \"reply_count\": \"Int64\",\n",
    "    \"like_count\": \"Int64\",\n",
    "    \"quote_count\": \"Int64\",\n",
    "    \"referenced_tweets\": \"string\",\n",
    "    \"text\": \"string\"\n",
    "}\n"
   ]
  },
  {
   "cell_type": "code",
   "execution_count": null,
   "id": "99b8afc0-fcb6-40aa-863d-e646fee2f5c2",
   "metadata": {
    "tags": []
   },
   "outputs": [],
   "source": [
    "load_tweets = get_df(tweets_path, tweet_dtype)\n",
    "load_replies = get_df(replies_path, conversation_dtype)\n",
    "load_quotes = get_df(quotes_path, conversation_dtype).dropna()\n",
    "load_users = get_df(users_path, user_dtype)\n"
   ]
  },
  {
   "cell_type": "markdown",
   "id": "519e5b40-60a3-44cb-890e-e331c5eb793e",
   "metadata": {},
   "source": [
    "# initial dataframe cleaning"
   ]
  },
  {
   "cell_type": "code",
   "execution_count": null,
   "id": "bd67a8f9-ab34-4ae7-94db-0e7356e2ec28",
   "metadata": {},
   "outputs": [],
   "source": [
    "users = clean_users(load_users)\n",
    "\n",
    "load_replies['reference_tweet_id'] = add_reference_id(load_replies)\n",
    "load_quotes['reference_tweet_id'] = add_reference_id(load_quotes)"
   ]
  },
  {
   "cell_type": "markdown",
   "id": "b708378c-ea5b-4d74-ab58-8ea6cfa50b13",
   "metadata": {},
   "source": [
    "### Generate sample data"
   ]
  },
  {
   "cell_type": "code",
   "execution_count": null,
   "id": "d9e68662-e55d-48fc-ae4c-d5a77af40895",
   "metadata": {},
   "outputs": [],
   "source": [
    "# Run this cell to generate new sample data sets\n",
    "\n",
    "# sample_tweets = get_sample_df(tweets_path, 0.01, tweet_dtype)\n",
    "# sample_replies = get_sample_reply_quote(sample_tweets, load_replies)\n",
    "# sample_quotes = get_sample_reply_quote(sample_tweets, load_quotes)"
   ]
  },
  {
   "cell_type": "code",
   "execution_count": null,
   "id": "676cd13e-25bb-410a-87c0-6dd47b4bcfc1",
   "metadata": {},
   "outputs": [],
   "source": [
    "# sample_tweets.to_csv('tweets.csv', index=False)\n",
    "# sample_replies.to_csv('replies.csv', index=False)\n",
    "# sample_quotes.to_csv('quotes.csv', index=False)"
   ]
  },
  {
   "cell_type": "code",
   "execution_count": null,
   "id": "5578c939-de1d-4f6f-bcb3-4bc551890728",
   "metadata": {},
   "outputs": [],
   "source": [
    "sample_tweets = pd.read_csv('/home/niloofar/Developement/Climate-Change/data/sample_data/tweets.csv')\n",
    "sample_replies = pd.read_csv('/home/niloofar/Developement/Climate-Change/data/sample_data/replies.csv')\n",
    "sample_quotes = pd.read_csv('/home/niloofar/Developement/Climate-Change/data/sample_data/quotes.csv')"
   ]
  },
  {
   "cell_type": "code",
   "execution_count": null,
   "id": "36acf398-1ed0-4bc4-a1f1-57366ea4bc69",
   "metadata": {},
   "outputs": [],
   "source": [
    "print(len(sample_tweets), len(sample_replies), len(sample_quotes))"
   ]
  },
  {
   "cell_type": "markdown",
   "id": "cce37aaa-9b89-4d56-af09-a606e7003c3e",
   "metadata": {},
   "source": [
    "### To load stored sample data"
   ]
  },
  {
   "cell_type": "markdown",
   "id": "31e6f097-247c-41fa-8b26-037283b05142",
   "metadata": {
    "tags": []
   },
   "source": [
    "# GEN-DATA "
   ]
  },
  {
   "cell_type": "markdown",
   "id": "a00898ca-f6bc-4c43-a9dd-2a143fa85f2a",
   "metadata": {},
   "source": [
    "### Add list of hashtags found in tweet/reply/hashtag"
   ]
  },
  {
   "cell_type": "code",
   "execution_count": null,
   "id": "51df6039-769a-4d7f-a708-922921ed6088",
   "metadata": {},
   "outputs": [],
   "source": [
    "sample_tweets['hashtags'] = add_hashtags(sample_tweets)"
   ]
  },
  {
   "cell_type": "code",
   "execution_count": null,
   "id": "574dc993-fdf2-427f-822e-62e453273b32",
   "metadata": {},
   "outputs": [],
   "source": [
    "sample_replies['hashtags'] = add_hashtags(sample_replies)"
   ]
  },
  {
   "cell_type": "code",
   "execution_count": null,
   "id": "468b8ccb-7df1-452e-a874-297acbd7b723",
   "metadata": {},
   "outputs": [],
   "source": [
    "sample_quotes['hashtags'] = add_hashtags(sample_quotes)"
   ]
  },
  {
   "cell_type": "markdown",
   "id": "c6096818-2ec1-4380-b5da-a022aed24983",
   "metadata": {},
   "source": [
    "### Add count of hashtags in tweet/reply/quote"
   ]
  },
  {
   "cell_type": "code",
   "execution_count": null,
   "id": "1b2602c3-c890-4093-9b88-bf03d29b8e62",
   "metadata": {
    "tags": []
   },
   "outputs": [],
   "source": [
    "sample_tweets['hashtag_count'] = add_nbr_hashtags(sample_tweets)"
   ]
  },
  {
   "cell_type": "code",
   "execution_count": null,
   "id": "fbb1a50c-3f27-42aa-b5a3-fcedd4a6e0a2",
   "metadata": {},
   "outputs": [],
   "source": [
    "sample_replies['hashtag_count'] = add_nbr_hashtags(sample_replies)"
   ]
  },
  {
   "cell_type": "code",
   "execution_count": null,
   "id": "d691f938-e1e8-440e-a0d9-20679dde0446",
   "metadata": {},
   "outputs": [],
   "source": [
    "sample_quotes['hashtag_count'] = add_nbr_hashtags(sample_quotes)"
   ]
  },
  {
   "cell_type": "markdown",
   "id": "a734435f-2583-49b7-94c6-b9336facd816",
   "metadata": {},
   "source": [
    "### Add number of uppercase characters in tweet/reply/quote"
   ]
  },
  {
   "cell_type": "code",
   "execution_count": null,
   "id": "3860e5b4-e971-4984-9163-a0de3e7e3f3e",
   "metadata": {},
   "outputs": [],
   "source": [
    "sample_tweets['uppercase_count'] = add_uppercase_count(sample_tweets)"
   ]
  },
  {
   "cell_type": "code",
   "execution_count": null,
   "id": "0b48bc19-733e-46d2-9e4d-6dd6c83f145f",
   "metadata": {},
   "outputs": [],
   "source": [
    "sample_replies['uppercase_count'] = add_uppercase_count(sample_replies)"
   ]
  },
  {
   "cell_type": "code",
   "execution_count": null,
   "id": "47fecb9c-5ded-41df-99e1-6203c3d88e18",
   "metadata": {},
   "outputs": [],
   "source": [
    "sample_quotes['uppercase_count'] = add_uppercase_count(sample_quotes)"
   ]
  },
  {
   "cell_type": "markdown",
   "id": "9c351b99-0065-4cd4-a7a6-a9c9762c7b8b",
   "metadata": {},
   "source": [
    "### Add percentage of uppercase characters in tweet/reply/quote"
   ]
  },
  {
   "cell_type": "code",
   "execution_count": null,
   "id": "41ac92f3-d7cf-49a7-afbe-7f11976f7155",
   "metadata": {},
   "outputs": [],
   "source": [
    "sample_tweets['uppercase_pct'] = add_upper_case_pct(sample_tweets)"
   ]
  },
  {
   "cell_type": "code",
   "execution_count": null,
   "id": "c221690f-a709-4c96-9d0c-6e5db604eaf3",
   "metadata": {},
   "outputs": [],
   "source": [
    "sample_replies['uppercase_pct'] = add_upper_case_pct(sample_replies)"
   ]
  },
  {
   "cell_type": "code",
   "execution_count": null,
   "id": "777ffb48-e969-4dc5-a827-9f08dbad6f30",
   "metadata": {},
   "outputs": [],
   "source": [
    "sample_quotes['uppercase_pct'] = add_upper_case_pct(sample_quotes)"
   ]
  },
  {
   "cell_type": "markdown",
   "id": "21060f2a-4e49-435b-95ae-9016be855c87",
   "metadata": {},
   "source": [
    "### Add number of exclamation mark in tweet/reply/quote"
   ]
  },
  {
   "cell_type": "code",
   "execution_count": null,
   "id": "3e1778d3-0033-4c40-9534-f250c62488a9",
   "metadata": {},
   "outputs": [],
   "source": [
    "sample_tweets['exclamation_mark_count'] = add_exclamation_mark_count(sample_tweets)"
   ]
  },
  {
   "cell_type": "code",
   "execution_count": null,
   "id": "1066298d-3abb-444d-aff8-43fc46411126",
   "metadata": {},
   "outputs": [],
   "source": [
    "sample_replies['exclamation_mark_count'] = add_exclamation_mark_count(sample_replies)"
   ]
  },
  {
   "cell_type": "code",
   "execution_count": null,
   "id": "7bd8a866-a305-4704-8168-5e2cc9de7c65",
   "metadata": {},
   "outputs": [],
   "source": [
    "sample_quotes['exclamation_mark_count'] = add_exclamation_mark_count(sample_quotes)"
   ]
  },
  {
   "cell_type": "markdown",
   "id": "d4d8b524-30df-47de-a21c-af4b5c5455af",
   "metadata": {},
   "source": [
    "### Add number of question marks found in tweet/reply/quote"
   ]
  },
  {
   "cell_type": "code",
   "execution_count": null,
   "id": "d3d95ad8-2e53-4edb-87bf-5e86189dc21f",
   "metadata": {},
   "outputs": [],
   "source": [
    "sample_tweets['question_mark_count'] =  add_question_mark_count(sample_tweets)"
   ]
  },
  {
   "cell_type": "code",
   "execution_count": null,
   "id": "c087ae32-d28b-4e42-9e7d-fa6f0dd5d2ab",
   "metadata": {},
   "outputs": [],
   "source": [
    "sample_replies['question_mark_count'] =  add_question_mark_count(sample_replies)"
   ]
  },
  {
   "cell_type": "code",
   "execution_count": null,
   "id": "09e88636-e4b6-4fcb-96ef-1af77075cbfb",
   "metadata": {},
   "outputs": [],
   "source": [
    "sample_quotes['question_mark_count'] =  add_question_mark_count(sample_quotes)"
   ]
  },
  {
   "cell_type": "markdown",
   "id": "f2714995-4626-4be4-aa5e-5c5c09e1fd25",
   "metadata": {},
   "source": [
    "### Add number of URLs found in tweet/reply/quote"
   ]
  },
  {
   "cell_type": "code",
   "execution_count": null,
   "id": "950c3efa-d899-48db-bd6a-af1dd29a36f0",
   "metadata": {},
   "outputs": [],
   "source": [
    "sample_tweets['url_count'] = add_url_count(sample_tweets)"
   ]
  },
  {
   "cell_type": "code",
   "execution_count": null,
   "id": "745b5803-c9f3-458a-8ea7-99b1ed0cb813",
   "metadata": {},
   "outputs": [],
   "source": [
    "sample_replies['url_count'] = add_url_count(sample_replies)"
   ]
  },
  {
   "cell_type": "code",
   "execution_count": null,
   "id": "9303be5d-0980-4d6d-9662-5ccb94663806",
   "metadata": {},
   "outputs": [],
   "source": [
    "sample_quotes['url_count'] = add_url_count(sample_quotes)"
   ]
  },
  {
   "cell_type": "markdown",
   "id": "0b89a000-cb2a-43d6-903f-2410f9517bd4",
   "metadata": {},
   "source": [
    "### Add number of mentions in tweet/reply/quote"
   ]
  },
  {
   "cell_type": "code",
   "execution_count": null,
   "id": "2d825225-5c4c-4205-a033-581b387e1315",
   "metadata": {},
   "outputs": [],
   "source": [
    "sample_tweets['mention_count'] = add_mention_count(sample_tweets)"
   ]
  },
  {
   "cell_type": "code",
   "execution_count": null,
   "id": "31d8d5eb-9f5e-4f37-a90d-4bb98a3c2167",
   "metadata": {},
   "outputs": [],
   "source": [
    "sample_replies['mention_count'] = add_mention_count(sample_replies)"
   ]
  },
  {
   "cell_type": "code",
   "execution_count": null,
   "id": "dcf87b4a-655c-4bc1-a0b5-b9fcaf30ee1b",
   "metadata": {},
   "outputs": [],
   "source": [
    "sample_quotes['mention_count'] = add_mention_count(sample_quotes)"
   ]
  },
  {
   "cell_type": "markdown",
   "id": "35b3cd19-d76e-40a4-893f-a1e322217d94",
   "metadata": {},
   "source": [
    "### Add number of emojis found in tweet/reply/quote"
   ]
  },
  {
   "cell_type": "code",
   "execution_count": null,
   "id": "f4c87868-cf31-4b4b-a150-209087eae024",
   "metadata": {},
   "outputs": [],
   "source": [
    "sample_tweets['emojie_count'] = add_emoji_count(sample_tweets)"
   ]
  },
  {
   "cell_type": "code",
   "execution_count": null,
   "id": "6bb42f81-2f2a-41f3-8413-09372172a713",
   "metadata": {},
   "outputs": [],
   "source": [
    "sample_replies['emojie_count'] = add_emoji_count(sample_replies)"
   ]
  },
  {
   "cell_type": "code",
   "execution_count": null,
   "id": "777bb26d-69d7-4184-8212-2e452326ed14",
   "metadata": {},
   "outputs": [],
   "source": [
    "sample_quotes['emojie_count'] = add_emoji_count(sample_quotes)"
   ]
  },
  {
   "cell_type": "markdown",
   "id": "8e18e471-5967-437b-822a-8f76a1fbe4a6",
   "metadata": {},
   "source": [
    "### Add tweet's author number of followers"
   ]
  },
  {
   "cell_type": "code",
   "execution_count": null,
   "id": "b51aafa5-4a4e-49ca-8cf8-18a60d64e108",
   "metadata": {},
   "outputs": [],
   "source": [
    "sample_tweets['followers_count'] = add_followers_count(sample_tweets, users)"
   ]
  },
  {
   "cell_type": "markdown",
   "id": "cb438c41-b353-4642-8f8b-5d32d11181c0",
   "metadata": {},
   "source": [
    "### Add engagement score"
   ]
  },
  {
   "cell_type": "code",
   "execution_count": null,
   "id": "fe09bc5f-5940-489f-8cdb-5fcc36ff7da3",
   "metadata": {},
   "outputs": [],
   "source": [
    "sample_tweets['engagement_score'] = add_engagement_score(sample_tweets)"
   ]
  },
  {
   "cell_type": "code",
   "execution_count": null,
   "id": "b1dc8a51-d318-4eb6-ab9d-c4231746b563",
   "metadata": {},
   "outputs": [],
   "source": [
    "pd.set_option('display.max_columns', None)"
   ]
  },
  {
   "cell_type": "code",
   "execution_count": null,
   "id": "fbc87095-4a0c-4490-9b33-765f9cb51992",
   "metadata": {},
   "outputs": [],
   "source": [
    "sample_tweets.head(3)"
   ]
  },
  {
   "cell_type": "code",
   "execution_count": null,
   "id": "63a3315b-ba1e-475c-aa15-c2160cf7ca8f",
   "metadata": {},
   "outputs": [],
   "source": [
    "sample_replies.head(3)"
   ]
  },
  {
   "cell_type": "code",
   "execution_count": null,
   "id": "480d50cd-4dd0-473d-8b0c-fb4b9592bdb6",
   "metadata": {},
   "outputs": [],
   "source": [
    "sample_quotes.head(3)"
   ]
  },
  {
   "cell_type": "markdown",
   "id": "d92b6f9a-b1f0-40bc-b72c-881b2db788f5",
   "metadata": {},
   "source": [
    "## sentiment"
   ]
  },
  {
   "cell_type": "markdown",
   "id": "1ac18467-a10c-4a64-8905-3d7aebd1802c",
   "metadata": {},
   "source": [
    "### Add sentiment score to tweet/reply/quote"
   ]
  },
  {
   "cell_type": "code",
   "execution_count": null,
   "id": "260a93cb-01a2-40a8-8b1c-07306a9826f4",
   "metadata": {},
   "outputs": [],
   "source": [
    "sample_tweets['sentiment_score'] = add_sentiment_score(sample_tweets)"
   ]
  },
  {
   "cell_type": "code",
   "execution_count": null,
   "id": "eb29b7a4-0d4b-400b-b406-8bbfb319f3ec",
   "metadata": {},
   "outputs": [],
   "source": [
    "sample_replies['sentiment_score'] = add_sentiment_score(sample_replies)"
   ]
  },
  {
   "cell_type": "code",
   "execution_count": null,
   "id": "8daaaf84-e22b-4380-abfa-5ebc0529ad13",
   "metadata": {},
   "outputs": [],
   "source": [
    "sample_quotes['sentiment_score'] = add_sentiment_score(sample_quotes)"
   ]
  },
  {
   "cell_type": "markdown",
   "id": "0639f7dc-45f3-4075-949e-d72c51f82612",
   "metadata": {},
   "source": [
    "### Add sentiment cateory (pos, neg, neu) to tweet/reply/quote"
   ]
  },
  {
   "cell_type": "code",
   "execution_count": null,
   "id": "067da019-29c7-4388-b134-b0d263ba590c",
   "metadata": {},
   "outputs": [],
   "source": [
    "sample_tweets['sentiment_category'] = add_sentiment_category(sample_tweets)"
   ]
  },
  {
   "cell_type": "code",
   "execution_count": null,
   "id": "d07a7655-2523-46dd-9c78-e7e26e038603",
   "metadata": {},
   "outputs": [],
   "source": [
    "sample_replies['sentiment_category'] = add_sentiment_category(sample_replies)"
   ]
  },
  {
   "cell_type": "code",
   "execution_count": null,
   "id": "1e6b966c-4d37-4200-8e28-159328564a63",
   "metadata": {},
   "outputs": [],
   "source": [
    "sample_quotes['sentiment_category'] = add_sentiment_category(sample_quotes)"
   ]
  },
  {
   "cell_type": "markdown",
   "id": "d021284b-5f1b-487f-bb7a-1540c01b6afb",
   "metadata": {},
   "source": [
    "### Add average sentiment of replies for each tweet"
   ]
  },
  {
   "cell_type": "code",
   "execution_count": null,
   "id": "5def38d9-9a1a-46be-98be-e5c695b0b1f9",
   "metadata": {},
   "outputs": [],
   "source": [
    "sample_tweets['avg_replies_sentiment'] = add_average_conversation_sentiment(sample_tweets, sample_replies)"
   ]
  },
  {
   "cell_type": "code",
   "execution_count": null,
   "id": "318b7ef5-d1ae-408b-ab5b-2744de6d2ff0",
   "metadata": {},
   "outputs": [],
   "source": [
    "sample_tweets['avg_quotes_sentiment'] = add_average_conversation_sentiment(sample_tweets, sample_quotes)"
   ]
  },
  {
   "cell_type": "markdown",
   "id": "e5488535-dc18-4c10-add1-6901653889d5",
   "metadata": {},
   "source": [
    "### Add average sentiment of replies + quotes of each tweet"
   ]
  },
  {
   "cell_type": "code",
   "execution_count": null,
   "id": "d41a1a8b-f36a-4079-90d5-8a0e236eda56",
   "metadata": {},
   "outputs": [],
   "source": [
    "sample_tweets['avg_conversation_sentiment'] = add_average_conversation_sentiment(sample_tweets, pd.concat([sample_replies, sample_quotes]))"
   ]
  },
  {
   "cell_type": "markdown",
   "id": "563490db-26d9-4423-8947-5dbbf810b44a",
   "metadata": {},
   "source": [
    "### Add variance of replies/quotes/replies+quotes sentiment"
   ]
  },
  {
   "cell_type": "code",
   "execution_count": null,
   "id": "c6496c61-a3fa-49aa-94ef-041953465756",
   "metadata": {},
   "outputs": [],
   "source": [
    "sample_tweets['var_replies_sentiment'] = add_variance_of_conversation_sentiment(sample_tweets, sample_replies)"
   ]
  },
  {
   "cell_type": "code",
   "execution_count": null,
   "id": "776fa654-c1d1-4607-998e-4341fc5452a8",
   "metadata": {},
   "outputs": [],
   "source": [
    "sample_tweets['var_quotes_sentiment'] = add_variance_of_conversation_sentiment(sample_tweets, sample_quotes)"
   ]
  },
  {
   "cell_type": "code",
   "execution_count": null,
   "id": "09100964-c41d-46cf-b361-3934823581d4",
   "metadata": {},
   "outputs": [],
   "source": [
    "sample_tweets['var_conversation_sentiment'] = add_variance_of_conversation_sentiment(sample_tweets, pd.concat([sample_replies, sample_quotes]))"
   ]
  },
  {
   "cell_type": "markdown",
   "id": "94891725-4861-480c-bcea-551d680800e0",
   "metadata": {},
   "source": [
    "### Add percentage of replies/quotes with similar sentiment to the reference tweet"
   ]
  },
  {
   "cell_type": "code",
   "execution_count": null,
   "id": "c5ea3c10-33f9-4e32-8d68-1d32aac5790d",
   "metadata": {},
   "outputs": [],
   "source": [
    "sample_tweets['pct_similar_sentiment_replies'] = add_pct_sentiment_category(sample_tweets, sample_replies)"
   ]
  },
  {
   "cell_type": "code",
   "execution_count": null,
   "id": "f76e89a6-d6bc-47a9-98a7-27e054eec15f",
   "metadata": {},
   "outputs": [],
   "source": [
    "sample_tweets['pct_similar_sentiment_quotes'] = add_pct_sentiment_category(sample_tweets, sample_quotes)"
   ]
  },
  {
   "cell_type": "code",
   "execution_count": null,
   "id": "1bb135c5-b905-4f51-a88a-62662a3c2400",
   "metadata": {},
   "outputs": [],
   "source": [
    "sample_tweets.head(3)"
   ]
  },
  {
   "cell_type": "code",
   "execution_count": null,
   "id": "23af1656-6445-4637-b6a1-5c3f0ccfb299",
   "metadata": {},
   "outputs": [],
   "source": [
    "sample_replies.head(3)"
   ]
  },
  {
   "cell_type": "code",
   "execution_count": null,
   "id": "e110997e-3469-4282-9a67-4bf1b9aec0d1",
   "metadata": {},
   "outputs": [],
   "source": [
    "sample_quotes.head(3)"
   ]
  },
  {
   "cell_type": "markdown",
   "id": "ff3e9463-b04c-4cdc-934f-976ae2a1d384",
   "metadata": {},
   "source": [
    "### text cleaning"
   ]
  },
  {
   "cell_type": "code",
   "execution_count": null,
   "id": "58059acd-f361-4814-a8f1-48d0db7c466a",
   "metadata": {},
   "outputs": [],
   "source": [
    "sample_tweets['clean_text'] = add_clean_text(sample_tweets)"
   ]
  },
  {
   "cell_type": "code",
   "execution_count": null,
   "id": "e387b7bf-d14d-4bb7-9d79-36acd1938e4f",
   "metadata": {},
   "outputs": [],
   "source": [
    "sample_replies['clean_text'] = add_clean_text(sample_replies)"
   ]
  },
  {
   "cell_type": "code",
   "execution_count": null,
   "id": "ee2aa08a-00a9-45aa-b946-fd480f913447",
   "metadata": {},
   "outputs": [],
   "source": [
    "sample_quotes['clean_text'] =  add_clean_text(sample_quotes)"
   ]
  },
  {
   "cell_type": "markdown",
   "id": "799216c3-6d1c-4273-bcc9-6564f70d6b6a",
   "metadata": {
    "tags": []
   },
   "source": [
    "### Add tweet to conversation Notice, add clean text to conversation dataframe first!"
   ]
  },
  {
   "cell_type": "code",
   "execution_count": null,
   "id": "9c1b946c-d5bc-46a1-b907-6acb97f0cd76",
   "metadata": {},
   "outputs": [],
   "source": [
    "sample_replies['clean_tweet'] = add_tweet_to_conversation(sample_tweets, sample_replies)"
   ]
  },
  {
   "cell_type": "code",
   "execution_count": null,
   "id": "13701c49-b3d2-4ae2-be1f-cab38bc34c11",
   "metadata": {},
   "outputs": [],
   "source": [
    "sample_quotes['clean_tweet'] = add_tweet_to_conversation(sample_tweets, sample_quotes)"
   ]
  },
  {
   "cell_type": "markdown",
   "id": "3fd34de9-c2aa-4d8f-9e01-42c31238432d",
   "metadata": {
    "tags": []
   },
   "source": [
    "### Add sentiment similarity to conversations"
   ]
  },
  {
   "cell_type": "code",
   "execution_count": null,
   "id": "c144f2ad-4f03-4ef4-bc22-8642dbcbd922",
   "metadata": {},
   "outputs": [],
   "source": [
    "sample_quotes['semantic_similarity'] = add_tweet_conv_semantic_similarity(sample_quotes['clean_tweet'], sample_quotes['clean_text'])"
   ]
  },
  {
   "cell_type": "code",
   "execution_count": null,
   "id": "174f58da-850d-42f1-9798-59b9d7d30e74",
   "metadata": {},
   "outputs": [],
   "source": [
    "sample_replies['semantic_similarity'] = add_tweet_conv_semantic_similarity(sample_replies['clean_tweet'], sample_replies['clean_text'])"
   ]
  },
  {
   "cell_type": "code",
   "execution_count": null,
   "id": "6a63b8ff-649c-4eaf-a50d-9bdbece36e32",
   "metadata": {},
   "outputs": [],
   "source": [
    "sample_replies.to_csv('sample_replies_final_version.csv', index=False)"
   ]
  },
  {
   "cell_type": "code",
   "execution_count": null,
   "id": "a6e56d80-c401-4e6a-a5c9-7b1035d5175d",
   "metadata": {},
   "outputs": [],
   "source": [
    "sample_quotes.to_csv('sample_quotes_final_version.csv', index=False)"
   ]
  },
  {
   "cell_type": "markdown",
   "id": "abf4aaad-6f18-4353-b92e-2ec3014cdca0",
   "metadata": {},
   "source": [
    "### Add variance of semantic similarity scores "
   ]
  },
  {
   "cell_type": "code",
   "execution_count": null,
   "id": "53847198-ea1e-4d72-b89f-4170b8e72b4d",
   "metadata": {},
   "outputs": [],
   "source": [
    "sample_tweets['var_replies_semantic'] = add_variance_of_conversation_sentiment(sample_tweets, sample_replies)"
   ]
  },
  {
   "cell_type": "code",
   "execution_count": null,
   "id": "163a6dd5-6b93-4403-b00d-0bc74ca469e4",
   "metadata": {},
   "outputs": [],
   "source": [
    "sample_tweets['var_quotes_semantic'] = add_variance_of_conversation_sentiment(sample_tweets, sample_quotes)"
   ]
  },
  {
   "cell_type": "code",
   "execution_count": null,
   "id": "1352f99c-515e-43e6-9085-3dd0d89fe89b",
   "metadata": {},
   "outputs": [],
   "source": [
    "sample_tweets['var_conversation_semantic'] = add_variance_of_conversation_sentiment(sample_tweets, pd.concat([sample_quotes, sample_replies]))"
   ]
  },
  {
   "cell_type": "code",
   "execution_count": null,
   "id": "bc917f1b-33e4-4666-a519-fd8bcd7790c7",
   "metadata": {},
   "outputs": [],
   "source": [
    "sample_tweets.to_csv('sample_tweets_final_version.csv', index=False)"
   ]
  },
  {
   "cell_type": "code",
   "execution_count": null,
   "id": "955aa1c5-bc21-4587-b331-6537a2feaec4",
   "metadata": {},
   "outputs": [],
   "source": []
  }
 ],
 "metadata": {
  "kernelspec": {
   "display_name": "Python 3 (ipykernel)",
   "language": "python",
   "name": "python3"
  },
  "language_info": {
   "codemirror_mode": {
    "name": "ipython",
    "version": 3
   },
   "file_extension": ".py",
   "mimetype": "text/x-python",
   "name": "python",
   "nbconvert_exporter": "python",
   "pygments_lexer": "ipython3",
   "version": "3.10.4"
  }
 },
 "nbformat": 4,
 "nbformat_minor": 5
}
