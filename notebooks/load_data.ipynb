{
 "cells": [
  {
   "cell_type": "code",
   "execution_count": null,
   "id": "e27e49a6-4ef1-4b5c-9900-f500554a3261",
   "metadata": {
    "tags": []
   },
   "outputs": [],
   "source": [
    "%run ./modules/load_data_module.ipynb\n",
    "%run ./modules/extract_info_clean_data_module.ipynb\n",
    "%run ./modules/update_dataframe_module.ipynb\n",
    "%run ./modules/sentiment_module.ipynb\n",
    "%run ./modules/semantic_similarity_module.ipynb"
   ]
  },
  {
   "cell_type": "code",
   "execution_count": null,
   "id": "9ec218f8-145d-46c7-996b-3698c2762f40",
   "metadata": {
    "tags": []
   },
   "outputs": [],
   "source": [
    "import pandas as pd\n",
    "import spacy\n",
    "import string\n",
    "import regex as re\n",
    "import nltk\n",
    "import ast\n",
    "import copy\n",
    "import glob\n",
    "import advertools as adv\n",
    "import plotly.graph_objects as go\n",
    "import time\n",
    "from datetime import datetime\n",
    "\n",
    "pd.options.display.max_colwidth = 285\n",
    "\n",
    "from textblob import TextBlob\n",
    "\n",
    "from vaderSentiment.vaderSentiment import SentimentIntensityAnalyzer\n",
    "\n",
    "from spacymoji import Emoji\n",
    "from nltk.corpus import stopwords\n",
    "from urllib.parse import urlparse\n",
    "from textblob import Word\n",
    "from sklearn.metrics.pairwise import cosine_similarity\n",
    "\n",
    "\n",
    "nlp = spacy.load(\"en_core_web_sm\")\n",
    "emoji = Emoji(nlp)\n",
    "nlp.add_pipe(\"emoji\", first=True)\n",
    "\n",
    "\n",
    "stemmer = nltk.SnowballStemmer(\"english\")\n"
   ]
  },
  {
   "cell_type": "code",
   "execution_count": null,
   "id": "6faef39a-b68b-420a-85dd-2cc42e827960",
   "metadata": {
    "tags": []
   },
   "outputs": [],
   "source": [
    "user_dtype = {\n",
    "    \"id\": \"Int64\", \n",
    "    \"username\": \"string\", \n",
    "    \"created_at\": \"string\", \n",
    "    \"name\": \"string\", \n",
    "    \"protected\": \"boolean\", \n",
    "    \"verified\": \"boolean\", \n",
    "    \"followers_count\": \"Int64\", \n",
    "    \"following_count\": \"Int64\", \n",
    "    \"tweet_count\": \"Int64\", \n",
    "    \"listed_count\": \"Int64\", \n",
    "    \"url\": \"string\", \n",
    "    \"description\": \"string\"\n",
    "}\n",
    "\n",
    "\n",
    "tweet_dtype = {\n",
    "    \"id\": \"Int64\",\n",
    "    \"author_id\": \"Int64\",\n",
    "    \"conversation_id\": \"Int64\",\n",
    "    \"created_at\": \"string\",\n",
    "    \"lang\": \"string\",\n",
    "    \"retweet_count\": \"Int64\",\n",
    "    \"reply_count\": \"Int64\",\n",
    "    \"like_count\": \"Int64\",\n",
    "    \"quote_count\": \"Int64\",\n",
    "    \"reply_settings\": \"string\",\n",
    "    \"text\": \"string\"\n",
    "}\n",
    "\n",
    "farnaz_dtype = {\n",
    "    'id':'Int64',\n",
    "    'author_id':'Int64',\n",
    "    'conversation_id' :'Int64',\n",
    "    'created_at': 'string',\n",
    "    'lang': 'string',\n",
    "    'retweet_count':'Int64',\n",
    "    'reply_count':'Int64',\n",
    "    'like_count':'Int64',\n",
    "    'quote_count':'Int64',\n",
    "    'reply_settings':  'string',\n",
    "    'text': 'string',\n",
    "    'hashtags': 'string',\n",
    "    'hashtag_count':'Int64',\n",
    "    'uppercase_count':'Int64',\n",
    "    'uppercase_pct':'Int64',\n",
    "    'exclamation_mark_count':'Int64',\n",
    "    'question_mark_count':'Int64',\n",
    "    'url_count':'Int64',\n",
    "    'mention_count':'Int64',\n",
    "    'emojie_count':'Int64',\n",
    "    'followers_count':'float64',\n",
    "    'engagement_score':'float64',\n",
    "    'sentiment_score':'float64',\n",
    "    'sentiment_category': 'string',\n",
    "    'avg_replies_sentiment':'float64',\n",
    "    'avg_quotes_sentiment' :'float64',\n",
    "    'avg_conversation_sentiment': 'float64',\n",
    "    'var_replies_sentiment':'float64',\n",
    "    'var_quotes_sentiment':'float64',\n",
    "    'var_conversation_sentiment':'float64',\n",
    "    'pct_similar_sentiment_replies':'float64',\n",
    "    'pct_similar_sentiment_quotes':'float64',\n",
    "    'clean_text':'string',\n",
    "    'var_replies_semantic':'float64',\n",
    "    'var_quotes_semantic':'float64',\n",
    "    'var_conversation_semantic':'float64',\n",
    "    'GS_controversiality_score':'float64'\n",
    "}\n",
    "\n",
    "\n",
    "niloo_corran_dtype = {\n",
    "    'index':'Int64',\n",
    "    'id':'Int64',\n",
    "    'author_id':'Int64',\n",
    "    'conversation_id' :'Int64',\n",
    "    'created_at': 'string',\n",
    "    'lang': 'string',\n",
    "    'retweet_count':'Int64',\n",
    "    'reply_count':'Int64',\n",
    "    'like_count':'Int64',\n",
    "    'quote_count':'Int64',\n",
    "    'reply_settings':  'string',\n",
    "    'text': 'string',\n",
    "    'hashtags': 'string',\n",
    "    'hashtag_count':'Int64',\n",
    "    'uppercase_count':'Int64',\n",
    "    'uppercase_pct':'Int64',\n",
    "    'exclamation_mark_count':'Int64',\n",
    "    'question_mark_count':'Int64',\n",
    "    'url_count':'Int64',\n",
    "    'mention_count':'Int64',\n",
    "    'emojie_count':'Int64',\n",
    "    'followers_count':'float64',\n",
    "    'engagement_score':'float64',\n",
    "    'sentiment_score':'float64',\n",
    "    'sentiment_category': 'string',\n",
    "    'avg_replies_sentiment':'float64',\n",
    "    'avg_quotes_sentiment' :'float64',\n",
    "    'avg_conversation_sentiment': 'float64',\n",
    "    'var_replies_sentiment':'float64',\n",
    "    'var_quotes_sentiment':'float64',\n",
    "    'var_conversation_sentiment':'float64',\n",
    "    'pct_similar_sentiment_replies':'float64',\n",
    "    'pct_similar_sentiment_quotes':'float64',\n",
    "    'clean_text':'string',\n",
    "    'var_replies_semantic':'float64',\n",
    "    'var_quotes_semantic':'float64',\n",
    "    'var_conversation_semantic':'float64',\n",
    "    'GS_controversiality_score':'float64'\n",
    "\n",
    "}\n",
    "\n",
    "conversation_dtype = {\n",
    "    \"id\": \"Int64\",\n",
    "    \"author_id\": \"Int64\",\n",
    "    \"conversation_id\": \"Int64\",\n",
    "    \"created_at\": \"string\",\n",
    "    \"lang\": \"string\",\n",
    "    \"retweet_count\": \"Int64\",\n",
    "    \"reply_count\": \"Int64\",\n",
    "    \"like_count\": \"Int64\",\n",
    "    \"quote_count\": \"Int64\",\n",
    "    \"referenced_tweets\": \"string\",\n",
    "    \"text\": \"string\"\n",
    "}\n",
    "\n",
    "conversation_dtype_ref_tweet = {\n",
    "    \"id\": \"Int64\",\n",
    "    \"author_id\": \"Int64\",\n",
    "    \"conversation_id\": \"Int64\",\n",
    "    \"created_at\": \"string\",\n",
    "    \"lang\": \"string\",\n",
    "    \"retweet_count\": \"Int64\",\n",
    "    \"reply_count\": \"Int64\",\n",
    "    \"like_count\": \"Int64\",\n",
    "    \"quote_count\": \"Int64\",\n",
    "    \"referenced_tweets\": \"string\",\n",
    "    \"text\": \"string\",\n",
    "    \"reference_tweet_id\" : \"Int64\"\n",
    "}\n"
   ]
  },
  {
   "cell_type": "code",
   "execution_count": null,
   "id": "468daeec-b1eb-4abb-8bd3-f53ad001a1c0",
   "metadata": {},
   "outputs": [],
   "source": [
    "EXTEXDED_COLS = ['conversation_id', 'Segment', 'WC', 'Analytic', 'Clout', 'Authentic', 'Tone', 'WPS', 'BigWords', 'Dic',\n",
    " 'Linguistic', 'function', 'pronoun', 'ppron', 'i', 'we', 'you', 'shehe', 'they',\n",
    " 'ipron', 'det', 'article', 'number', 'prep', 'auxverb', 'adverb', 'conj', 'negate', 'verb',\n",
    " 'adj', 'quantity', 'Drives', 'affiliation', 'achieve', 'power', 'Cognition', 'allnone', 'cogproc', 'insight',\n",
    " 'cause', 'discrep', 'tentat', 'certitude', 'differ', 'memory', 'Affect', 'tone_pos', 'tone_neg', 'emotion',\n",
    " 'emo_pos', 'emo_neg', 'emo_anx', 'emo_anger', 'emo_sad', 'swear', 'Social', 'socbehav', 'prosocial', 'polite',\n",
    " 'conflict', 'moral', 'comm', 'socrefs', 'family', 'friend', 'female', 'male', 'Culture', 'politic',\n",
    " 'ethnicity', 'tech', 'Lifestyle', 'leisure', 'home', 'work', 'money', 'relig', 'Physical', 'health',\n",
    " 'illness', 'wellness', 'mental', 'substances', 'sexual', 'food', 'death', 'need', 'want', 'acquire',\n",
    " 'lack', 'fulfill', 'fatigue', 'reward', 'risk', 'curiosity', 'allure', 'Perception', 'attention', 'motion',\n",
    " 'space', 'visual', 'auditory', 'feeling', 'time', 'focuspast', 'focuspresent', 'focusfuture', 'Conversation', 'netspeak',\n",
    "'assent', 'nonflu', 'filler', 'AllPunc', 'Period', 'Comma', 'QMark', 'Exclam', 'Apostro', 'OtherP']"
   ]
  },
  {
   "cell_type": "code",
   "execution_count": null,
   "id": "a8ae06c3-c7ed-46b7-b1fd-36a8520f3e11",
   "metadata": {},
   "outputs": [],
   "source": [
    "EXTENDED_TWEETS = pd.read_csv('../data/processed-data/tweets_15July_5Aug/all_tweets_extra_features.csv')"
   ]
  },
  {
   "cell_type": "markdown",
   "id": "519e5b40-60a3-44cb-890e-e331c5eb793e",
   "metadata": {},
   "source": [
    "# initial dataframe cleaning"
   ]
  },
  {
   "cell_type": "code",
   "execution_count": null,
   "id": "3781b9e3-b88e-44c8-8a94-f6c50e5902a1",
   "metadata": {},
   "outputs": [],
   "source": [
    "# raw_tweets_path = glob.glob('../data/data/*tweets.csv')\n",
    "raw_users_path = glob.glob('../data/data/*users.csv')\n",
    "# raw_replies_path = glob.glob('../data/data/*replies.csv')\n",
    "# raw_quotes_path = glob.glob('../data/data/*quotes.csv')"
   ]
  },
  {
   "cell_type": "code",
   "execution_count": null,
   "id": "ab2293a2-cc50-471f-97a5-f83ee1e72da2",
   "metadata": {},
   "outputs": [],
   "source": [
    "# raw_all_tweets = get_df(raw_tweets_path, tweet_dtype)\n",
    "# raw_all_quotes = get_df(raw_quotes_path, conversation_dtype).dropna()\n",
    "# raw_all_replies = get_df(raw_replies_path, conversation_dtype)"
   ]
  },
  {
   "cell_type": "code",
   "execution_count": null,
   "id": "bd67a8f9-ab34-4ae7-94db-0e7356e2ec28",
   "metadata": {},
   "outputs": [],
   "source": [
    "raw_all_users = get_df(raw_users_path, user_dtype)\n",
    "all_users = clean_users(raw_all_users)"
   ]
  },
  {
   "cell_type": "code",
   "execution_count": null,
   "id": "6ec5c377-d869-407c-a9fd-2c8878843101",
   "metadata": {},
   "outputs": [],
   "source": [
    "# raw_all_replies['reference_tweet_id'] = add_reference_id(raw_all_replies)\n",
    "# raw_all_quotes['reference_tweet_id'] = add_reference_id(raw_all_quotes)"
   ]
  },
  {
   "cell_type": "markdown",
   "id": "eb02416d-9634-4b78-9a06-bcb46c51a767",
   "metadata": {},
   "source": [
    "### load all processed data"
   ]
  },
  {
   "cell_type": "code",
   "execution_count": null,
   "id": "ed5ace72-d666-408f-860b-19dde189eb2d",
   "metadata": {},
   "outputs": [],
   "source": [
    "processed_tweets = get_df_from_feather(glob.glob('../data/processed-data/all_tweets_v2/*.feather'))\n",
    "processed_replies = get_df_from_feather(glob.glob('../data/processed-data/all_replies/*.feather'))\n",
    "processed_quotes = get_df_from_feather(glob.glob('../data/processed-data/all_quotes/*.feather'))"
   ]
  },
  {
   "cell_type": "code",
   "execution_count": null,
   "id": "4a46aa87-073b-4285-a840-76e946cd8cfb",
   "metadata": {},
   "outputs": [],
   "source": [
    "display(processed_tweets.loc[processed_tweets['conversation_id']==1553799587541942278][['var_conversation_semantic', 'var_conversation_sentiment']])\n",
    "display(processed_tweets.loc[processed_tweets['conversation_id']==1553799587541942278][['var_replies_semantic', 'var_replies_sentiment']])\n",
    "display(processed_tweets.loc[processed_tweets['conversation_id']==1553799587541942278][['var_quotes_semantic', 'var_quotes_sentiment']])"
   ]
  },
  {
   "cell_type": "markdown",
   "id": "c1ef886e-8917-4369-922a-2606c6191682",
   "metadata": {},
   "source": [
    "### Processed data 15 july 5 Aug"
   ]
  },
  {
   "cell_type": "code",
   "execution_count": null,
   "id": "a388c208-1d4f-4342-941b-2367c9618dc8",
   "metadata": {},
   "outputs": [],
   "source": [
    "processed_tweets15 = get_df_from_feather(glob.glob('../data/processed-data/tweets_15July_5Aug_v2/*.feather'))\n",
    "processed_replies15 = get_df_from_feather(glob.glob('../data/processed-data/replies_15July_5Aug/*.feather'))\n",
    "processed_quotes15 = get_df_from_feather(glob.glob('../data/processed-data/quotes_15July_5Aug/*.feather'))"
   ]
  },
  {
   "cell_type": "code",
   "execution_count": null,
   "id": "abd535e2-bab0-4e38-8eb2-2c0d962daef1",
   "metadata": {},
   "outputs": [],
   "source": [
    "display(processed_tweets15.loc[processed_tweets15['conversation_id']==1553799587541942278][['var_conversation_semantic', 'var_conversation_sentiment']])\n",
    "display(processed_tweets15.loc[processed_tweets15['conversation_id']==1553799587541942278][['var_replies_semantic', 'var_replies_sentiment']])\n",
    "display(processed_tweets15.loc[processed_tweets15['conversation_id']==1553799587541942278][['var_quotes_semantic', 'var_quotes_sentiment']])"
   ]
  },
  {
   "cell_type": "markdown",
   "id": "0cae04e7-bce3-49a0-9126-fc627f4de1e3",
   "metadata": {},
   "source": [
    "## load raw sample data"
   ]
  },
  {
   "cell_type": "code",
   "execution_count": null,
   "id": "92a8852a-336f-433e-8f3e-eb1ec881c613",
   "metadata": {},
   "outputs": [],
   "source": [
    "raw_sample_tweets = pd.read_feather('../data/sample_data/raw-samples/sample_tweets.feather')\n",
    "raw_sample_replies = pd.read_feather('../data/sample_data/raw-samples/sample_replies.feather')\n",
    "raw_sample_quotes = pd.read_feather('../data/sample_data/raw-samples/sample_quotes.feather')"
   ]
  },
  {
   "cell_type": "markdown",
   "id": "4c70c68d-d5e2-4a51-a469-00c109b33241",
   "metadata": {},
   "source": [
    "### Load sample_data unscored"
   ]
  },
  {
   "cell_type": "code",
   "execution_count": null,
   "id": "4c59fe67-13bc-4ee0-8777-01d3360b6f6a",
   "metadata": {},
   "outputs": [],
   "source": [
    "unscored_sample_tweets = pd.read_feather('../data/sample_data/sample_data_unscored_v2/sample_tweets.feather')\n",
    "unscored_sample_replies = pd.read_feather('../data/sample_data/sample_data_unscored/sample_replies.feather')\n",
    "unscored_sample_quotes = pd.read_feather('../data/sample_data/sample_data_unscored/sample_quotes.feather')"
   ]
  },
  {
   "cell_type": "code",
   "execution_count": null,
   "id": "a3baa1ce-7ffb-4e62-b4f0-33b9bce72ffd",
   "metadata": {},
   "outputs": [],
   "source": [
    "display(unscored_sample_tweets.loc[unscored_sample_tweets['conversation_id']==1553799587541942278][['var_conversation_semantic', 'var_conversation_sentiment']])\n",
    "display(unscored_sample_tweets.loc[unscored_sample_tweets['conversation_id']==1553799587541942278][['var_replies_semantic', 'var_replies_sentiment']])\n",
    "display(unscored_sample_tweets.loc[unscored_sample_tweets['conversation_id']==1553799587541942278][['var_quotes_semantic', 'var_quotes_sentiment']])"
   ]
  },
  {
   "cell_type": "markdown",
   "id": "4d75820f-b9ba-413c-b074-78b6a10d1109",
   "metadata": {},
   "source": [
    "## Load sample data 15 July - 5 Aug."
   ]
  },
  {
   "cell_type": "code",
   "execution_count": null,
   "id": "5578c939-de1d-4f6f-bcb3-4bc551890728",
   "metadata": {},
   "outputs": [],
   "source": [
    "unscored_sample_tweets_3fw = pd.read_feather('../data/sample_data/sample_data_unscored_15July_5Aug_v2/sample_tweets.feather')\n",
    "unscored_sample_replies_3fw = pd.read_feather('../data/sample_data/sample_data_unscored_15July_5Aug/sample_replies_15July_5Aug.feather')\n",
    "unscored_sample_quotes_3fw= pd.read_feather('../data/sample_data/sample_data_unscored_15July_5Aug/sample_quotes_15July_5Aug.feather')"
   ]
  },
  {
   "cell_type": "code",
   "execution_count": null,
   "id": "67531b2f-f236-4cc5-994f-4016410f9579",
   "metadata": {},
   "outputs": [],
   "source": [
    "display(unscored_sample_tweets_3fw.loc[unscored_sample_tweets_3fw['conversation_id']==1553799587541942278][['var_conversation_semantic', 'var_conversation_sentiment']])\n",
    "display(unscored_sample_tweets_3fw.loc[unscored_sample_tweets_3fw['conversation_id']==1553799587541942278][['var_replies_semantic', 'var_replies_sentiment']])\n",
    "display(unscored_sample_tweets_3fw.loc[unscored_sample_tweets_3fw['conversation_id']==1553799587541942278][['var_quotes_semantic', 'var_quotes_sentiment']])"
   ]
  },
  {
   "cell_type": "markdown",
   "id": "d5348bf6-2b2f-4bd0-af8f-f2e643e2107e",
   "metadata": {},
   "source": [
    "### Farnaz"
   ]
  },
  {
   "cell_type": "code",
   "execution_count": null,
   "id": "bf8f4c0e-b3e4-4581-97c1-829684dc83fb",
   "metadata": {},
   "outputs": [],
   "source": [
    "sample_tweets_farnaz = pd.read_feather(f'../data/sample_data/sample_tweets_farnaz.feather')"
   ]
  },
  {
   "cell_type": "code",
   "execution_count": null,
   "id": "f4441707-ad80-4116-ac7b-134abb3ee3b3",
   "metadata": {},
   "outputs": [],
   "source": [
    "display(sample_tweets_farnaz.loc[sample_tweets_farnaz['conversation_id']==1549869265901199360][['var_conversation_semantic', 'var_conversation_sentiment']])\n",
    "display(sample_tweets_farnaz.loc[sample_tweets_farnaz['conversation_id']==1549869265901199360][['var_replies_semantic', 'var_replies_sentiment']])\n",
    "display(sample_tweets_farnaz.loc[sample_tweets_farnaz['conversation_id']==1549869265901199360][['var_quotes_semantic', 'var_quotes_sentiment']])"
   ]
  },
  {
   "cell_type": "markdown",
   "id": "08c913e6-0a58-4b84-8924-7388227f8dae",
   "metadata": {},
   "source": [
    "### farnaz first 3 weeks"
   ]
  },
  {
   "cell_type": "code",
   "execution_count": null,
   "id": "f96d5406-2988-4d13-95bd-d1d1a06781f2",
   "metadata": {},
   "outputs": [],
   "source": [
    "sample_tweets_farnaz_f3w = get_in_between(sample_tweets_farnaz, datetime(2022, 7, 15), datetime(2022, 8, 6))"
   ]
  },
  {
   "cell_type": "code",
   "execution_count": null,
   "id": "3d5443bf-2bee-4460-bb0c-e41834f6e741",
   "metadata": {},
   "outputs": [],
   "source": [
    "display(sample_tweets_farnaz_f3w.loc[sample_tweets_farnaz_f3w['conversation_id']==1549869265901199360][['var_conversation_semantic', 'var_conversation_sentiment']])\n",
    "display(sample_tweets_farnaz_f3w.loc[sample_tweets_farnaz_f3w['conversation_id']==1549869265901199360][['var_replies_semantic', 'var_replies_sentiment']])\n",
    "display(sample_tweets_farnaz_f3w.loc[sample_tweets_farnaz_f3w['conversation_id']==1549869265901199360][['var_quotes_semantic', 'var_quotes_sentiment']])"
   ]
  },
  {
   "cell_type": "markdown",
   "id": "1240b57b-fc20-4187-a7e1-167b2b3c6cc2",
   "metadata": {},
   "source": [
    "### Niloo"
   ]
  },
  {
   "cell_type": "code",
   "execution_count": null,
   "id": "d48ea655-2454-47a7-ad8c-c99b99be96da",
   "metadata": {},
   "outputs": [],
   "source": [
    "sample_tweets_niloo_f3w = pd.read_feather(f'../data/sample_data/sample_tweets_niloo_first3weeks.feather')"
   ]
  },
  {
   "cell_type": "code",
   "execution_count": null,
   "id": "63b3a48b-261a-40d0-85df-a2b3933239a2",
   "metadata": {},
   "outputs": [],
   "source": [
    "display(sample_tweets_niloo_f3w.loc[sample_tweets_niloo_f3w['conversation_id']==1549869265901199360][['var_conversation_semantic', 'var_conversation_sentiment']])\n",
    "display(sample_tweets_niloo_f3w.loc[sample_tweets_niloo_f3w['conversation_id']==1549869265901199360][['var_replies_semantic', 'var_replies_sentiment']])\n",
    "display(sample_tweets_niloo_f3w.loc[sample_tweets_niloo_f3w['conversation_id']==1549869265901199360][['var_quotes_semantic', 'var_quotes_sentiment']])"
   ]
  },
  {
   "cell_type": "code",
   "execution_count": null,
   "id": "3924b8f6-dc00-4895-abfb-949516d3bd94",
   "metadata": {},
   "outputs": [],
   "source": [
    "sample_tweets_niloo = pd.read_feather(f'../data/sample_data/sample_tweets_niloo.feather')"
   ]
  },
  {
   "cell_type": "code",
   "execution_count": null,
   "id": "9d6f2d51-fb50-445b-b611-1e2d95d2709d",
   "metadata": {},
   "outputs": [],
   "source": [
    "display(sample_tweets_niloo.loc[sample_tweets_niloo['conversation_id']==1549869265901199360][['var_conversation_semantic', 'var_conversation_sentiment']])\n",
    "display(sample_tweets_niloo.loc[sample_tweets_niloo['conversation_id']==1549869265901199360][['var_replies_semantic', 'var_replies_sentiment']])\n",
    "display(sample_tweets_niloo.loc[sample_tweets_niloo['conversation_id']==1549869265901199360][['var_quotes_semantic', 'var_quotes_sentiment']])"
   ]
  },
  {
   "cell_type": "markdown",
   "id": "7953fd39-5b10-4ab3-8bf3-96bfb9b46985",
   "metadata": {},
   "source": [
    "### Corran"
   ]
  },
  {
   "cell_type": "code",
   "execution_count": null,
   "id": "2a8de289-c1ce-4198-aed9-cd54b01a2226",
   "metadata": {},
   "outputs": [],
   "source": [
    "# sample_corran_500 = get_df(['../data/sample_data/first_500_sample_scored.csv'], niloo_corran_dtype)\n",
    "sample_corran_500 = pd.read_csv('../data/sample_data/first_500_sample_scored.csv').dropna()"
   ]
  },
  {
   "cell_type": "code",
   "execution_count": null,
   "id": "b7c3e40c-4fc0-4d8f-a6b4-779b1e5f77e4",
   "metadata": {},
   "outputs": [],
   "source": [
    "sample_corran_niloo = pd.concat([sample_niloo_500, sample_corran_500])"
   ]
  },
  {
   "cell_type": "markdown",
   "id": "74260388-2350-4a03-8bda-6c14cb77dcd1",
   "metadata": {},
   "source": [
    "## Add extra features to sample"
   ]
  },
  {
   "cell_type": "code",
   "execution_count": null,
   "id": "6bd0c4d8-fd6d-4dae-8b16-c66e1ccfb2d6",
   "metadata": {},
   "outputs": [],
   "source": [
    "sample_tweets_farnaz_extended_features = add_extended_features(get_df(['../data/sample_data/sample_retweets_farnaz.csv'], tweet_dtype))"
   ]
  },
  {
   "cell_type": "code",
   "execution_count": null,
   "id": "6e318ef7-5ef6-446a-bc73-ef02952f64e9",
   "metadata": {},
   "outputs": [],
   "source": [
    "sample_tweets_niloo_first3weeks_extended_features = add_extended_features(get_df(['../data/sample_data/sample_tweets_niloo_first3weeks.csv'], tweet_dtype))"
   ]
  },
  {
   "cell_type": "code",
   "execution_count": null,
   "id": "7ec4d364-86c0-4cea-b174-36a4ad2c66e3",
   "metadata": {},
   "outputs": [],
   "source": [
    "sample_tweets_niloo_extended_features = add_extended_features(get_df(['../data/sample_data/sample_tweets_niloo.csv'], tweet_dtype))"
   ]
  },
  {
   "cell_type": "code",
   "execution_count": null,
   "id": "754450fb-c3b0-458b-bc97-d510555967d6",
   "metadata": {},
   "outputs": [],
   "source": [
    "first_500_sample_scored_extended_features = add_extended_features(get_df(['../data/sample_data/first_500_sample_scored.csv'], tweet_dtype))"
   ]
  }
 ],
 "metadata": {
  "kernelspec": {
   "display_name": "Python 3 (ipykernel)",
   "language": "python",
   "name": "python3"
  },
  "language_info": {
   "codemirror_mode": {
    "name": "ipython",
    "version": 3
   },
   "file_extension": ".py",
   "mimetype": "text/x-python",
   "name": "python",
   "nbconvert_exporter": "python",
   "pygments_lexer": "ipython3",
   "version": "3.10.4"
  }
 },
 "nbformat": 4,
 "nbformat_minor": 5
}
