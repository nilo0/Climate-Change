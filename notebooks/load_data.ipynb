{
 "cells": [
  {
   "cell_type": "code",
   "execution_count": null,
   "id": "e27e49a6-4ef1-4b5c-9900-f500554a3261",
   "metadata": {},
   "outputs": [],
   "source": [
    "%run ./modules/load_data_module.ipynb"
   ]
  },
  {
   "cell_type": "code",
   "execution_count": null,
   "id": "9ec218f8-145d-46c7-996b-3698c2762f40",
   "metadata": {},
   "outputs": [],
   "source": [
    "import pandas as pd\n",
    "import spacy\n",
    "import string\n",
    "import regex as re\n",
    "import nltk\n",
    "import ast\n",
    "import copy\n",
    "import glob\n",
    "import advertools as adv\n",
    "import plotly.graph_objects as go\n",
    "\n",
    "\n",
    "pd.options.display.max_colwidth = 285\n",
    "\n",
    "\n",
    "\n",
    "from textblob import TextBlob\n",
    "from spacymoji import Emoji\n",
    "from nltk.corpus import stopwords\n",
    "from urllib.parse import urlparse\n",
    "from textblob import Word\n",
    "from sklearn.metrics.pairwise import cosine_similarity\n",
    "\n",
    "\n",
    "nlp = spacy.load(\"en_core_web_sm\")\n",
    "emoji = Emoji(nlp)\n",
    "nlp.add_pipe(\"emoji\", first=True)\n",
    "\n",
    "\n",
    "stemmer = nltk.SnowballStemmer(\"english\")\n",
    "\n",
    "\n",
    "nltk.download('wordnet')\n",
    "nltk.download('omw-1.4')\n"
   ]
  },
  {
   "cell_type": "code",
   "execution_count": null,
   "id": "3781b9e3-b88e-44c8-8a94-f6c50e5902a1",
   "metadata": {},
   "outputs": [],
   "source": [
    "tweets_path =glob.glob('/home/niloofar/Developement/Climate-Change/data/data/*tweets.csv')\n",
    "users_path = glob.glob('/home/niloofar/Developement/Climate-Change/data/data/*users.csv')\n",
    "replies_path = glob.glob('/home/niloofar/Developement/Climate-Change/data/data/*replies.csv')\n",
    "quotes_path = glob.glob('/home/niloofar/Developement/Climate-Change/data/data/*quotes.csv')"
   ]
  },
  {
   "cell_type": "code",
   "execution_count": null,
   "id": "99b8afc0-fcb6-40aa-863d-e646fee2f5c2",
   "metadata": {},
   "outputs": [],
   "source": [
    "tweets = get_df(tweets_path)\n",
    "replies = get_df(replies_path)\n",
    "quotes = get_df(quotes_path)\n",
    "users = get_df(users_path)"
   ]
  },
  {
   "cell_type": "code",
   "execution_count": null,
   "id": "261d69ab-9bf7-4df7-ad6d-75471dfb092e",
   "metadata": {},
   "outputs": [],
   "source": [
    "tweet = copy.deepcopy(tweets)\n",
    "reply = copy.deepcopy(replies)\n",
    "quote = copy.deepcopy(quotes).fillna('None')"
   ]
  },
  {
   "cell_type": "markdown",
   "id": "519e5b40-60a3-44cb-890e-e331c5eb793e",
   "metadata": {},
   "source": [
    "# initial dataframe cleaning"
   ]
  },
  {
   "cell_type": "code",
   "execution_count": null,
   "id": "c118d3c1-a521-40ea-bcea-12c2838aeba3",
   "metadata": {
    "tags": []
   },
   "outputs": [],
   "source": [
    "user = clean_users(users)"
   ]
  },
  {
   "cell_type": "code",
   "execution_count": null,
   "id": "fc29cc96-b387-45ed-a2f2-7e9f909b77f0",
   "metadata": {},
   "outputs": [],
   "source": [
    "print(len(user), len(users))"
   ]
  },
  {
   "cell_type": "markdown",
   "id": "31e6f097-247c-41fa-8b26-037283b05142",
   "metadata": {
    "tags": []
   },
   "source": [
    "# GEN-DATA "
   ]
  },
  {
   "cell_type": "code",
   "execution_count": null,
   "id": "6515468d-115f-46e3-a091-6557e64d68ef",
   "metadata": {
    "tags": []
   },
   "outputs": [],
   "source": [
    "%run ./modules/load_data_module.ipynb"
   ]
  },
  {
   "cell_type": "code",
   "execution_count": null,
   "id": "51df6039-769a-4d7f-a708-922921ed6088",
   "metadata": {},
   "outputs": [],
   "source": [
    "tweet['hashtags'] = add_hashtags(tweets)"
   ]
  },
  {
   "cell_type": "code",
   "execution_count": null,
   "id": "1b2602c3-c890-4093-9b88-bf03d29b8e62",
   "metadata": {
    "tags": []
   },
   "outputs": [],
   "source": [
    "tweet['hashtag_count'] = add_nbr_hashtags(tweets)\n"
   ]
  },
  {
   "cell_type": "code",
   "execution_count": null,
   "id": "3860e5b4-e971-4984-9163-a0de3e7e3f3e",
   "metadata": {},
   "outputs": [],
   "source": [
    "tweet['uppercase_count'] = add_uppercase_count(tweet)"
   ]
  },
  {
   "cell_type": "code",
   "execution_count": null,
   "id": "41ac92f3-d7cf-49a7-afbe-7f11976f7155",
   "metadata": {},
   "outputs": [],
   "source": [
    "tweet[]"
   ]
  },
  {
   "cell_type": "code",
   "execution_count": null,
   "id": "77fb3feb-bb3f-4256-ac63-786769c713a6",
   "metadata": {},
   "outputs": [],
   "source": []
  },
  {
   "cell_type": "code",
   "execution_count": null,
   "id": "ffea22a0-d8a1-49d2-a796-4107660f7595",
   "metadata": {},
   "outputs": [],
   "source": []
  },
  {
   "cell_type": "code",
   "execution_count": null,
   "id": "b51aafa5-4a4e-49ca-8cf8-18a60d64e108",
   "metadata": {},
   "outputs": [],
   "source": []
  },
  {
   "cell_type": "code",
   "execution_count": null,
   "id": "65968549-34f7-40ca-8708-7a3bdae4d5da",
   "metadata": {},
   "outputs": [],
   "source": []
  },
  {
   "cell_type": "code",
   "execution_count": null,
   "id": "86dafdf1-fa05-442b-8777-290249df314e",
   "metadata": {},
   "outputs": [],
   "source": []
  },
  {
   "cell_type": "code",
   "execution_count": null,
   "id": "53783455-ae68-4c26-bd73-27e9728535c9",
   "metadata": {},
   "outputs": [],
   "source": []
  },
  {
   "cell_type": "code",
   "execution_count": null,
   "id": "37cdf342-6c72-420e-8d40-63de7984d65a",
   "metadata": {},
   "outputs": [],
   "source": [
    "tweets_update['clean_text'] = add_clean_text(tweets)"
   ]
  },
  {
   "cell_type": "code",
   "execution_count": null,
   "id": "86b683f8-f004-4273-8848-7f0667df8fe3",
   "metadata": {},
   "outputs": [],
   "source": [
    "tweets_update['uppercase_count'] = add_uppercase_count(tweets)"
   ]
  },
  {
   "cell_type": "code",
   "execution_count": null,
   "id": "6f1c4a20-4196-4dda-9536-c9903c35b0f7",
   "metadata": {},
   "outputs": [],
   "source": [
    "tweets_update['uppercase'] = add_uppercase(tweets)"
   ]
  },
  {
   "cell_type": "code",
   "execution_count": null,
   "id": "a4c58346-3808-4dc4-b8a4-d5d2acc8022e",
   "metadata": {},
   "outputs": [],
   "source": [
    "tweets_update['emoji'] = add_emoji_list(tweets)"
   ]
  },
  {
   "cell_type": "code",
   "execution_count": null,
   "id": "2e6b9c00-5453-42ca-94ae-9045dd1b8322",
   "metadata": {},
   "outputs": [],
   "source": [
    "tweets_update['emoji_group'] = add_emoji_group(tweets)"
   ]
  },
  {
   "cell_type": "code",
   "execution_count": null,
   "id": "9fa9a2cc-aafa-4fdd-a98e-48312a69eb21",
   "metadata": {},
   "outputs": [],
   "source": [
    "tweets_update['clean_text']= add_clean_text(tweets)"
   ]
  },
  {
   "cell_type": "code",
   "execution_count": null,
   "id": "7e104a98-dd10-4c8a-83d2-097c3e2a4a65",
   "metadata": {},
   "outputs": [],
   "source": [
    "tweets_update['polarity'] = add_polarity(tweets_update)"
   ]
  },
  {
   "cell_type": "code",
   "execution_count": null,
   "id": "57011398-d1e6-44d6-9426-28fdae9242e9",
   "metadata": {},
   "outputs": [],
   "source": [
    "tweets_update['all_reply_count'] = add_count_all_reply(tweets, replies)"
   ]
  },
  {
   "cell_type": "code",
   "execution_count": null,
   "id": "e93fdbf9-d284-44c8-a294-229fe41fd6fb",
   "metadata": {},
   "outputs": [],
   "source": [
    "tweets_update['total_raction'] = add_count_reaction(tweets_update)"
   ]
  },
  {
   "cell_type": "code",
   "execution_count": null,
   "id": "5e375ebb-f182-4578-a301-d972ff991f59",
   "metadata": {},
   "outputs": [],
   "source": [
    "tweets_update['followers_count'] = users['followers_count'] "
   ]
  },
  {
   "cell_type": "code",
   "execution_count": null,
   "id": "a4eff29e-1701-433c-87a9-06e39c2aee8b",
   "metadata": {},
   "outputs": [],
   "source": [
    "tweets_update['engagement_score'] = add_engagement_score(tweets_update)"
   ]
  },
  {
   "cell_type": "code",
   "execution_count": null,
   "id": "bf0f5a74-7a53-4bf5-b9bc-fbee27646266",
   "metadata": {},
   "outputs": [],
   "source": [
    "tweets_update.head(1)"
   ]
  },
  {
   "cell_type": "code",
   "execution_count": null,
   "id": "2fd1615a-6649-47ca-8b40-12900b2ffd9b",
   "metadata": {},
   "outputs": [],
   "source": [
    "users.head(1)"
   ]
  },
  {
   "cell_type": "code",
   "execution_count": null,
   "id": "5a8c689e-8cba-4217-b6b1-29d25197336c",
   "metadata": {},
   "outputs": [],
   "source": [
    "reply_update['hastags'] = add_hastags(replies)"
   ]
  },
  {
   "cell_type": "code",
   "execution_count": null,
   "id": "4e370ca8-8729-4af7-bfda-f2c3985e6535",
   "metadata": {},
   "outputs": [],
   "source": [
    "reply_update['clean_text'] = add_clean_text(replies)"
   ]
  },
  {
   "cell_type": "code",
   "execution_count": null,
   "id": "b671afc4-cc1d-46ee-88c4-bc143ab5c6a4",
   "metadata": {},
   "outputs": [],
   "source": [
    "reply_update['uppercase_count'] = add_uppercase_count(replies)"
   ]
  },
  {
   "cell_type": "code",
   "execution_count": null,
   "id": "6e1cf5c3-03c6-4eaa-972b-f00ac93e2589",
   "metadata": {},
   "outputs": [],
   "source": [
    "reply_update['uppercase'] = add_uppercase(replies)"
   ]
  },
  {
   "cell_type": "code",
   "execution_count": null,
   "id": "48328bad-8c27-40f3-9955-59cc45c4ee86",
   "metadata": {},
   "outputs": [],
   "source": [
    "reply_update['polarity'] = add_polarity(reply_update)"
   ]
  },
  {
   "cell_type": "code",
   "execution_count": null,
   "id": "99868d15-f5ce-4a80-a3db-dd3cb9a1151c",
   "metadata": {},
   "outputs": [],
   "source": [
    "reply_update['total_reaction'] = reply_update['retweet_count'] + reply_update['reply_count'] + reply_update['like_count'] + reply_update['quote_count']"
   ]
  },
  {
   "cell_type": "code",
   "execution_count": null,
   "id": "d6c0a429-adb8-4688-829a-7b2cdfbcd26c",
   "metadata": {},
   "outputs": [],
   "source": [
    "reply_update['emoji'] = add_emoji_list(replies)"
   ]
  },
  {
   "cell_type": "code",
   "execution_count": null,
   "id": "de15b632-8267-4889-99f7-adc1820fe054",
   "metadata": {},
   "outputs": [],
   "source": [
    "reply_update['emoji_group'] = add_emoji_group(replies)"
   ]
  },
  {
   "cell_type": "code",
   "execution_count": null,
   "id": "d1fea3d3-9f0d-4e92-af96-cfd45da53218",
   "metadata": {},
   "outputs": [],
   "source": [
    "reply_update.head(1)"
   ]
  },
  {
   "cell_type": "markdown",
   "id": "55b09a06-02d0-42bc-9ed3-05cb05d8af29",
   "metadata": {},
   "source": [
    "# Replies Basic Stats."
   ]
  },
  {
   "cell_type": "code",
   "execution_count": null,
   "id": "461fd3d4-493f-4375-9005-68af6ad55a6d",
   "metadata": {},
   "outputs": [],
   "source": [
    "print('Total number of replies:', len(replies))"
   ]
  },
  {
   "cell_type": "code",
   "execution_count": null,
   "id": "e40a345a-9907-47b1-a614-6c7d66c71d6e",
   "metadata": {},
   "outputs": [],
   "source": [
    "print('Average number of uppercase words in replies:', reply_update['uppercase_count'].mean())"
   ]
  },
  {
   "cell_type": "markdown",
   "id": "53dee499-5b29-4004-9815-d4ab5eef99fe",
   "metadata": {
    "tags": []
   },
   "source": [
    "# Tweet's Basic Statistics"
   ]
  },
  {
   "cell_type": "code",
   "execution_count": null,
   "id": "3f996d5d-5b58-4a59-92a6-339be6675efd",
   "metadata": {},
   "outputs": [],
   "source": [
    "print('Total number of tweets:', len(tweets))"
   ]
  },
  {
   "cell_type": "code",
   "execution_count": null,
   "id": "bbb074ec-db34-448c-8951-1a5781866963",
   "metadata": {},
   "outputs": [],
   "source": [
    "print('On average number of retweets:', len(replies)/len(tweets) * 100)"
   ]
  },
  {
   "cell_type": "code",
   "execution_count": null,
   "id": "d2531b73-140b-4ec9-afdf-c5e976fcb387",
   "metadata": {},
   "outputs": [],
   "source": [
    "print('Average number of uppercase words in tweets:', tweets_update['uppercase_count'].mean())"
   ]
  },
  {
   "cell_type": "code",
   "execution_count": null,
   "id": "b299e6f6-8a6f-4b36-bf74-b36409765d7f",
   "metadata": {},
   "outputs": [],
   "source": [
    "print('Average engagement score of tweets :', tweets_update['engagement_score'].mean())"
   ]
  },
  {
   "cell_type": "code",
   "execution_count": null,
   "id": "260a93cb-01a2-40a8-8b1c-07306a9826f4",
   "metadata": {},
   "outputs": [],
   "source": [
    "tweets_update['engagement_score'].max()"
   ]
  },
  {
   "cell_type": "code",
   "execution_count": null,
   "id": "43d7c809-bfdc-4827-a71d-e7e1cf625b60",
   "metadata": {},
   "outputs": [],
   "source": [
    "xs = tweets_update['engagement_score'].dropna()\n",
    "\n",
    "\n",
    "\n",
    "fig = go.Figure()\n",
    "# Use x instead of y argument for horizontal plot\n",
    "fig.add_trace(go.Box(x=xs))\n",
    "\n",
    "fig.update_layout(\n",
    "    title=\"Boxplot distribution of engagement score\",\n",
    "    width=700,\n",
    "    height=400,\n",
    "    \n",
    "    font=dict(\n",
    "        family=\"Courier New, monospace\",\n",
    "        size=18,\n",
    "        color=\"RebeccaPurple\"\n",
    "    )\n",
    ")\n",
    "\n",
    "fig.show()\n",
    "\n"
   ]
  },
  {
   "cell_type": "code",
   "execution_count": null,
   "id": "eb29b7a4-0d4b-400b-b406-8bbfb319f3ec",
   "metadata": {},
   "outputs": [],
   "source": [
    "def get_count_uppercase(pd_series):\n",
    "    all_hastags = {}\n",
    "    for hash_list in pd_series:\n",
    "        if hash_list:\n",
    "            for h in hash_list:\n",
    "                if h in all_hastags.keys():\n",
    "                    all_hastags[h] += 1\n",
    "                else:\n",
    "                    all_hastags[h] = 1\n",
    "    return all_hastags\n",
    "    \n",
    "    \n",
    "uppercase_count = get_count_uppercase(tweets_update['uppercase'])\n",
    "total_uppercase = sum(uppercase_count.values())\n",
    "\n",
    "uppercase_pct = [(k,(v/total_uppercase)*100) for k,v in sorted(uppercase_count.items(), key=lambda item: item[1], reverse=True)]\n",
    "uppercase_pct[:10]\n",
    "\n",
    "xs = [x[0] for x in uppercase_pct[:10]]\n",
    "ys = [x[1] for x in uppercase_pct[:10]]\n",
    "\n",
    "fig = go.Figure(data=go.Scatter(\n",
    "    x=xs,\n",
    "    y=ys,\n",
    "    mode='markers',\n",
    "    # marker=dict(size=[40, 60, 80, 100],\n",
    "    #             color=[0, 1, 2, 3])\n",
    "))\n",
    "\n",
    "\n",
    "fig.update_layout(\n",
    "    title=\"Most used uppercase words found in Tweets\",\n",
    "    xaxis_title=\"Top 10 uppercase words found in Tweets\",\n",
    "    yaxis_title=\"Uppercase words precentage\",\n",
    "    width=700,\n",
    "    height=700,\n",
    "    \n",
    "    font=dict(\n",
    "        family=\"Courier New, monospace\",\n",
    "        size=18,\n",
    "        color=\"RebeccaPurple\"\n",
    "    )\n",
    ")\n",
    "\n",
    "fig.show()\n",
    "\n",
    "uppercase_count_reply = get_count_uppercase(reply_update['uppercase'])\n",
    "total_uppercase_reply = sum(uppercase_count_reply.values())\n",
    "\n",
    "uppercase_reply_pct = [(k,(v/total_uppercase_reply)*100) for k,v in sorted(uppercase_count_reply.items(), key=lambda item: item[1], reverse=True)]\n",
    "uppercase_reply_pct[:10]\n",
    "\n",
    "xs = [x[0] for x in uppercase_reply_pct[:10]]\n",
    "ys = [x[1] for x in uppercase_reply_pct[:10]]\n",
    "\n",
    "fig = go.Figure(data=go.Scatter(\n",
    "    x=xs,\n",
    "    y=ys,\n",
    "    mode='markers',\n",
    "    # marker=dict(size=[40, 60, 80, 100],\n",
    "    #             color=[0, 1, 2, 3])\n",
    "))\n",
    "\n",
    "\n",
    "fig.update_layout(\n",
    "    title=\"Most used uppercase words found in Replies\",\n",
    "    xaxis_title=\"Top 10 uppercase words found in Replies\",\n",
    "    yaxis_title=\"Uppercase words precentage\",\n",
    "    width=700,\n",
    "    height=700,\n",
    "    \n",
    "    font=dict(\n",
    "        family=\"Courier New, monospace\",\n",
    "        size=18,\n",
    "        color=\"RebeccaPurple\"\n",
    "    )\n",
    ")\n",
    "\n",
    "fig.show()"
   ]
  },
  {
   "cell_type": "code",
   "execution_count": null,
   "id": "104a40f9-a859-493d-a04a-1f87bd70454d",
   "metadata": {
    "tags": []
   },
   "outputs": [],
   "source": [
    "def get_count_hastags(pd_series):\n",
    "    all_hastags = {}\n",
    "    for hash_list in pd_series:\n",
    "        if hash_list:\n",
    "            for h in hash_list:\n",
    "                if h in all_hastags.keys():\n",
    "                    all_hastags[h] += 1\n",
    "                else:\n",
    "                    all_hastags[h] = 1\n",
    "    return all_hastags\n",
    "    \n",
    "    \n",
    "hashtag_count = get_count_hastags(tweets_update['hastags'])\n",
    "total_hastags = sum(hashtag_count.values())\n",
    "\n",
    "hashtag_pct = [(k,(v/total_hastags)*100) for k,v in sorted(hashtag_count.items(), key=lambda item: item[1], reverse=True)]\n",
    "hashtag_pct[:10]\n",
    "\n",
    "xs = [x[0] for x in hashtag_pct[:10]]\n",
    "ys = [x[1] for x in hashtag_pct[:10]]\n",
    "\n",
    "fig = go.Figure(data=go.Scatter(\n",
    "    x=xs,\n",
    "    y=ys,\n",
    "    mode='markers',\n",
    "    # marker=dict(size=[40, 60, 80, 100],\n",
    "    #             color=[0, 1, 2, 3])\n",
    "))\n",
    "\n",
    "\n",
    "fig.update_layout(\n",
    "    title=\"Most used Hashtags in Tweets\",\n",
    "    xaxis_title=\"Top 10 hashtags\",\n",
    "    yaxis_title=\"Hashtag precentage\",\n",
    "    width=700,\n",
    "    height=700,\n",
    "    \n",
    "    font=dict(\n",
    "        family=\"Courier New, monospace\",\n",
    "        size=18,\n",
    "        color=\"RebeccaPurple\"\n",
    "    )\n",
    ")\n",
    "\n",
    "fig.show()\n",
    "\n",
    "\n",
    "hashtag_count_reply = get_count_hastags(reply_update['hastags'])\n",
    "total_hastags_reply = sum(hashtag_count_reply.values())\n",
    "\n",
    "hashtag_reply_pct = [(k,(v/total_hastags_reply)*100) for k,v in sorted(hashtag_count_reply.items(), key=lambda item: item[1], reverse=True)]\n",
    "hashtag_reply_pct[:10]\n",
    "\n",
    "xs = [x[0] for x in hashtag_reply_pct[:10]]\n",
    "ys = [x[1] for x in hashtag_reply_pct[:10]]\n",
    "\n",
    "fig = go.Figure(data=go.Scatter(\n",
    "    x=xs,\n",
    "    y=ys,\n",
    "    mode='markers',\n",
    "    # marker=dict(size=[40, 60, 80, 100],\n",
    "    #             color=[0, 1, 2, 3])\n",
    "))\n",
    "\n",
    "\n",
    "fig.update_layout(\n",
    "    title=\"Most used Hashtags in Replies\",\n",
    "    xaxis_title=\"Top 10 hashtags\",\n",
    "    yaxis_title=\"Hashtag precentage\",\n",
    "    width=700,\n",
    "    height=700,\n",
    "    \n",
    "    font=dict(\n",
    "        family=\"Courier New, monospace\",\n",
    "        size=18,\n",
    "        color=\"RebeccaPurple\"\n",
    "    )\n",
    ")\n",
    "\n",
    "fig.show()\n",
    "\n"
   ]
  },
  {
   "cell_type": "code",
   "execution_count": null,
   "id": "f9e092d8-5f32-4c58-85df-4f322df038d5",
   "metadata": {},
   "outputs": [],
   "source": []
  },
  {
   "cell_type": "markdown",
   "id": "83678e6b-d8c7-4e6a-b61d-6814a22c7417",
   "metadata": {},
   "source": [
    "# Tweet's Emoji Statistics"
   ]
  },
  {
   "cell_type": "code",
   "execution_count": null,
   "id": "8daaaf84-e22b-4380-abfa-5ebc0529ad13",
   "metadata": {},
   "outputs": [],
   "source": [
    "def get_overall_emoji_counts(series):\n",
    "    emojies = series.tolist()\n",
    "    # print(emojies)\n",
    "    all_emojies = {}\n",
    "    \n",
    "    for em in emojies:\n",
    "        if len(em)>0:\n",
    "            for e in em:\n",
    "            \n",
    "                if e in all_emojies.keys():\n",
    "                    all_emojies[e] += 1\n",
    "                else:\n",
    "                    all_emojies[e] = 1\n",
    "\n",
    "    return all_emojies\n",
    "\n",
    "\n",
    "emoji_count = get_overall_emoji_counts(tweets_update['emoji'])\n",
    "\n",
    "total = sum(emoji_count.values())\n",
    "\n",
    "emojie_pct = [(k,(v/total)*100) for k,v in sorted(emoji_count.items(), key=lambda item: item[1], reverse=True)]\n",
    "emojie_pct[:10]\n",
    "\n",
    "xs = [x[0] for x in emojie_pct[:10]]\n",
    "ys = [x[1] for x in emojie_pct[:10]]\n",
    "\n",
    "fig = go.Figure(data=go.Scatter(\n",
    "    x=xs,\n",
    "    y=ys,\n",
    "    mode='markers',\n",
    "    # marker=dict(size=[40, 60, 80, 100],\n",
    "    #             color=[0, 1, 2, 3])\n",
    "))\n",
    "\n",
    "\n",
    "fig.update_layout(\n",
    "    title=\"Most used emojies in Tweets\",\n",
    "    xaxis_title=\"Top 10 emojies\",\n",
    "    yaxis_title=\"Tweets emoji precentage\",\n",
    "    width=700,\n",
    "    height=700,\n",
    "    \n",
    "    font=dict(\n",
    "        family=\"Courier New, monospace\",\n",
    "        size=18,\n",
    "        color=\"RebeccaPurple\"\n",
    "    )\n",
    ")\n",
    "\n",
    "fig.show()\n",
    "\n",
    "\n",
    "\n",
    "emoji_count_reply = get_overall_emoji_counts(reply_update['emoji'])\n",
    "\n",
    "total_reply = sum(emoji_count_reply.values())\n",
    "\n",
    "emojie_reply_pct = [(k,(v/total_reply)*100) for k,v in sorted(emoji_count_reply.items(), key=lambda item: item[1], reverse=True)]\n",
    "emojie_reply_pct[:10]\n",
    "\n",
    "xs = [x[0] for x in emojie_reply_pct[:10]]\n",
    "ys = [x[1] for x in emojie_reply_pct[:10]]\n",
    "\n",
    "fig = go.Figure(data=go.Scatter(\n",
    "    x=xs,\n",
    "    y=ys,\n",
    "    mode='markers',\n",
    "    # marker=dict(size=[40, 60, 80, 100],\n",
    "    #             color=[0, 1, 2, 3])\n",
    "))\n",
    "\n",
    "\n",
    "fig.update_layout(\n",
    "    title=\"Most used emojies in Replies\",\n",
    "    xaxis_title=\"Top 10 emojies\",\n",
    "    yaxis_title=\"Replies emoji precentage\",\n",
    "    width=700,\n",
    "    height=700,\n",
    "    \n",
    "    font=dict(\n",
    "        family=\"Courier New, monospace\",\n",
    "        size=18,\n",
    "        color=\"RebeccaPurple\"\n",
    "    )\n",
    ")\n",
    "\n",
    "fig.show()"
   ]
  },
  {
   "cell_type": "code",
   "execution_count": null,
   "id": "752df8ed-6160-4254-8071-4de45fc358c5",
   "metadata": {},
   "outputs": [],
   "source": [
    "def get_overall_emoji_group(series):\n",
    "    emojies = series.tolist()\n",
    "    all_emoji_group = {}\n",
    "    for em in emojies:\n",
    "        if len(em)>0:\n",
    "            for e in em:\n",
    "                if e[0] in all_emoji_group.keys():\n",
    "                    all_emoji_group[e[0]] += e[1]\n",
    "                else:\n",
    "                    all_emoji_group[e[0]] = e[1]\n",
    "    return all_emoji_group\n",
    "\n",
    "\n",
    "emoji_group = get_overall_emoji_group(tweets_update['emoji_group'])\n",
    "        \n",
    "total_group = sum(emoji_group.values())\n",
    "\n",
    "emojie_group_pct = [(k,(v/total_group)*100) for k,v in sorted(emoji_group.items(), key=lambda item: item[1], reverse=True)]\n",
    "emojie_group_pct[:10]\n",
    "\n",
    "xs = [x[0] for x in emojie_group_pct[:10]]\n",
    "ys = [x[1] for x in emojie_group_pct[:10]]\n",
    "\n",
    "fig = go.Figure(data=go.Scatter(\n",
    "    x=xs,\n",
    "    y=ys,\n",
    "    mode='markers',\n",
    "    # marker=dict(size=[40, 60, 80, 100],\n",
    "    #             color=[0, 1, 2, 3])\n",
    "))\n",
    "\n",
    "\n",
    "fig.update_layout(\n",
    "    title=\"Most used emoji groups in Tweets\",\n",
    "    xaxis_title=\"Top 10 emoji groups\",\n",
    "    yaxis_title=\"Tweets emoji group precentage\",\n",
    "    width=700,\n",
    "    height=700,\n",
    "    \n",
    "    font=dict(\n",
    "        family=\"Courier New, monospace\",\n",
    "        size=18,\n",
    "        color=\"RebeccaPurple\"\n",
    "    )\n",
    ")\n",
    "\n",
    "fig.show()\n",
    "\n",
    "\n",
    "\n",
    "emoji_group_reply = get_overall_emoji_group(reply_update['emoji_group'])\n",
    "        \n",
    "total_group_reply = sum(emoji_group_reply.values())\n",
    "\n",
    "emojie_group_reply_pct = [(k,(v/total_group_reply)*100) for k,v in sorted(emoji_group_reply.items(), key=lambda item: item[1], reverse=True)]\n",
    "emojie_group_reply_pct[:10]\n",
    "\n",
    "xs = [x[0] for x in emojie_group_reply_pct[:10]]\n",
    "ys = [x[1] for x in emojie_group_reply_pct[:10]]\n",
    "\n",
    "fig = go.Figure(data=go.Scatter(\n",
    "    x=xs,\n",
    "    y=ys,\n",
    "    mode='markers',\n",
    "    # marker=dict(size=[40, 60, 80, 100],\n",
    "    #             color=[0, 1, 2, 3])\n",
    "))\n",
    "\n",
    "\n",
    "fig.update_layout(\n",
    "    title=\"Most used emoji groups in Replies\",\n",
    "    xaxis_title=\"Top 10 emoji groups\",\n",
    "    yaxis_title=\"Replies emoji group precentage\",\n",
    "    width=700,\n",
    "    height=700,\n",
    "    \n",
    "    font=dict(\n",
    "        family=\"Courier New, monospace\",\n",
    "        size=18,\n",
    "        color=\"RebeccaPurple\"\n",
    "    )\n",
    ")\n",
    "\n",
    "fig.show()"
   ]
  },
  {
   "cell_type": "code",
   "execution_count": null,
   "id": "5def38d9-9a1a-46be-98be-e5c695b0b1f9",
   "metadata": {},
   "outputs": [],
   "source": [
    "reply_all_positive_pct = len(tweets_update.loc[tweets_update['polarity']=='positive']) / len(tweets_update) * 100\n",
    "reply_all_negative_pct = len(tweets_update.loc[tweets_update['polarity']=='negative']) / len(tweets_update) * 100\n",
    "reply_all_neutral_pct = len(tweets_update.loc[tweets_update['polarity']=='neutral']) / len(tweets_update) * 100\n",
    "\n",
    "y = [reply_all_positive_pct, reply_all_negative_pct, reply_all_neutral_pct]\n",
    "x = ['positive', 'negative', 'neutral']"
   ]
  },
  {
   "cell_type": "code",
   "execution_count": null,
   "id": "0ab7bc7b-193a-4908-a29d-b70f18555b33",
   "metadata": {},
   "outputs": [],
   "source": [
    "import plotly.graph_objects as go\n",
    "\n",
    "\n",
    "\n",
    "# Use the hovertext kw argument for hover text\n",
    "fig = go.Figure(data=[go.Bar(x=x, y=y,\n",
    "            hovertext=['27% market share', '24% market share', '19% market share'])])\n",
    "# Customize aspect\n",
    "fig.update_traces(marker_color='rgb(158,202,225)', marker_line_color='rgb(8,48,107)',\n",
    "                  marker_line_width=1.5, opacity=0.6)\n",
    "fig.update_layout(title_text='Percentage Tweets Sentiment', width=700, height=700)\n",
    "fig.show()"
   ]
  },
  {
   "cell_type": "markdown",
   "id": "6729bc45-466f-4fd7-9a49-38c14ebdb0f6",
   "metadata": {
    "jp-MarkdownHeadingCollapsed": true,
    "tags": []
   },
   "source": [
    "# GS DATA"
   ]
  },
  {
   "cell_type": "code",
   "execution_count": null,
   "id": "fc54bc17-c79a-404f-aa7e-7d90c4a42c94",
   "metadata": {},
   "outputs": [],
   "source": [
    "df_sample = tweets.sample()"
   ]
  },
  {
   "cell_type": "code",
   "execution_count": null,
   "id": "54b5ee5e-02c2-427a-ad1d-e9b125844963",
   "metadata": {
    "tags": []
   },
   "outputs": [],
   "source": [
    "df_sample"
   ]
  },
  {
   "cell_type": "code",
   "execution_count": null,
   "id": "5f877913-cef2-4d5f-a45f-14638e05ec92",
   "metadata": {},
   "outputs": [],
   "source": [
    "cid = df_sample['conversation_id']\n",
    "cid"
   ]
  },
  {
   "cell_type": "code",
   "execution_count": null,
   "id": "1f14902c-2781-4c3b-be4e-4a7c5bcd4d11",
   "metadata": {},
   "outputs": [],
   "source": [
    "get_all_reply(int(cid), replies)"
   ]
  },
  {
   "cell_type": "code",
   "execution_count": null,
   "id": "fbd26747-1de2-4bdc-b6a1-58f13a4eb49d",
   "metadata": {
    "tags": []
   },
   "outputs": [],
   "source": [
    "df_sample['text']\n"
   ]
  },
  {
   "cell_type": "code",
   "execution_count": null,
   "id": "09309048-eec4-4cd2-960f-d62c7e255aa1",
   "metadata": {},
   "outputs": [],
   "source": [
    "for idx, row in get_all_reply(int(cid), replies).iterrows():\n",
    "    print(row.text)"
   ]
  },
  {
   "cell_type": "code",
   "execution_count": null,
   "id": "0cfad9c6-616e-4873-98a3-76d409d3dc6f",
   "metadata": {},
   "outputs": [],
   "source": []
  }
 ],
 "metadata": {
  "kernelspec": {
   "display_name": "Python 3 (ipykernel)",
   "language": "python",
   "name": "python3"
  },
  "language_info": {
   "codemirror_mode": {
    "name": "ipython",
    "version": 3
   },
   "file_extension": ".py",
   "mimetype": "text/x-python",
   "name": "python",
   "nbconvert_exporter": "python",
   "pygments_lexer": "ipython3",
   "version": "3.10.4"
  }
 },
 "nbformat": 4,
 "nbformat_minor": 5
}
