{
 "cells": [
  {
   "cell_type": "code",
   "execution_count": null,
   "id": "316b9ea0-69c7-434b-af5e-a084a57999aa",
   "metadata": {},
   "outputs": [],
   "source": [
    "import pandas as pd\n",
    "import spacy\n",
    "import string\n",
    "import regex as re\n",
    "import nltk\n",
    "import ast\n",
    "import copy\n",
    "import glob\n",
    "import advertools as adv\n",
    "import plotly.graph_objects as go\n",
    "\n",
    "\n",
    "pd.options.display.max_colwidth = 285\n",
    "\n",
    "\n",
    "\n",
    "from textblob import TextBlob\n",
    "\n",
    "from vaderSentiment.vaderSentiment import SentimentIntensityAnalyzer\n",
    "\n",
    "from spacymoji import Emoji\n",
    "from nltk.corpus import stopwords\n",
    "from urllib.parse import urlparse\n",
    "from textblob import Word\n",
    "from sklearn.metrics.pairwise import cosine_similarity\n",
    "\n",
    "\n",
    "nlp = spacy.load(\"en_core_web_sm\")\n",
    "emoji = Emoji(nlp)\n",
    "nlp.add_pipe(\"emoji\", first=True)\n",
    "\n",
    "\n",
    "stemmer = nltk.SnowballStemmer(\"english\")\n",
    "\n",
    "\n",
    "nltk.download('wordnet')\n",
    "nltk.download('omw-1.4')"
   ]
  },
  {
   "cell_type": "markdown",
   "id": "4d023b88-3c3b-46df-a3d4-03fa2b149d81",
   "metadata": {},
   "source": [
    "# Load data as dataframe"
   ]
  },
  {
   "cell_type": "code",
   "execution_count": null,
   "id": "2dd7506e-accd-4311-bf0a-cf788c426c63",
   "metadata": {},
   "outputs": [],
   "source": [
    "def get_df(paths):\n",
    "    \"\"\"\n",
    "    input:\n",
    "        global paths to csv files\n",
    "    output:\n",
    "        dataframe\n",
    "    \"\"\"\n",
    "    df_list = []\n",
    "    for path in paths:\n",
    "        df_list.append(pd.read_csv(path))\n",
    "             \n",
    "    return pd.concat(df_list, ignore_index=True) "
   ]
  },
  {
   "cell_type": "code",
   "execution_count": null,
   "id": "2008f2e9-ecd0-4b6a-ac8a-325f838680fe",
   "metadata": {},
   "outputs": [],
   "source": [
    "def get_sample_df(paths, pct):\n",
    "    \"\"\"\n",
    "    input:\n",
    "        paths = global paths to csv files\n",
    "        pct = percentage of dataframe\n",
    "    output:\n",
    "        sample dataframe, for each csv file it takes pct% of the rows\n",
    "    \"\"\"\n",
    "    sample_df_list = []\n",
    "    for path in paths:\n",
    "        sample_df_list.append(pd.read_csv(path).sample(frac = pct))\n",
    "        \n",
    "    return pd.concat(sample_df_list, ignore_index=True)"
   ]
  },
  {
   "cell_type": "code",
   "execution_count": null,
   "id": "c0b2da38-c9ca-4dc8-92d6-8d221cf32ae5",
   "metadata": {},
   "outputs": [],
   "source": [
    "def get_sample_reply_quote(sample_df, df_conversation):\n",
    "    \"\"\"\n",
    "    input:\n",
    "        sample_df: sample_tweet\n",
    "        df_conversation: replies or quotes dataframe\n",
    "    output:\n",
    "        dataframe, replies or quotes of the sample tweets\n",
    "    \"\"\"\n",
    "    conversation_list = []\n",
    "    for conv_id in sample_df['conversation_id']:\n",
    "        conversation_list.append(get_conversation(conv_id, df_conversation))\n",
    "\n",
    "    return pd.concat(conversation_list, ignore_index=True)"
   ]
  },
  {
   "cell_type": "code",
   "execution_count": null,
   "id": "eb0f6eea-d1ee-49f3-83b2-b72b09e79512",
   "metadata": {},
   "outputs": [],
   "source": [
    "def clean_users(df_input):\n",
    "    \"\"\"\n",
    "    input:\n",
    "        df_input: dataframe storing users information\n",
    "    output:\n",
    "        dataframe with not duplicates for user, ie. only has one row per users\n",
    "        the row with max number of tweets is selected for the user\n",
    "    \"\"\"\n",
    "    df = copy.deepcopy(df_input).rename_axis('index1').reset_index()\n",
    "    df_list = []\n",
    "    \n",
    "    for user_id in df['id'].unique():\n",
    "        \n",
    "        if len(df.loc[df['id']==user_id]) == 1:\n",
    "            df_list.append(df.loc[df['id']==user_id])\n",
    "        \n",
    "        if len(df.loc[df['id']==user_id]) > 1:\n",
    "            user_df = df.loc[df['id']==user_id]\n",
    "            max_tweet_idx =  user_df['tweet_count'].idxmax()\n",
    "            df_list.append(df.loc[df['index1']==max_tweet_idx])\n",
    "            \n",
    "    return pd.concat(df_list, ignore_index=True)\n",
    "            "
   ]
  },
  {
   "cell_type": "markdown",
   "id": "a156bf2e-877f-48c4-b2fc-8722754d3276",
   "metadata": {},
   "source": []
  },
  {
   "cell_type": "code",
   "execution_count": null,
   "id": "df68a28c-5648-414f-8e73-639b0a7a3a6b",
   "metadata": {},
   "outputs": [],
   "source": []
  },
  {
   "cell_type": "code",
   "execution_count": null,
   "id": "6f374206-52e4-4e22-a47b-967068dfb7b3",
   "metadata": {},
   "outputs": [],
   "source": []
  },
  {
   "cell_type": "code",
   "execution_count": null,
   "id": "03d87b2e-78c6-413a-9b33-3333a5af616f",
   "metadata": {},
   "outputs": [],
   "source": []
  },
  {
   "cell_type": "code",
   "execution_count": null,
   "id": "09d470ec-22ec-496b-8b33-650914d3f227",
   "metadata": {},
   "outputs": [],
   "source": []
  },
  {
   "cell_type": "code",
   "execution_count": null,
   "id": "afa7f8e0-92a7-4f28-b63e-e9d394a76da4",
   "metadata": {},
   "outputs": [],
   "source": []
  },
  {
   "cell_type": "code",
   "execution_count": null,
   "id": "0677656c-3eaa-49ba-a36e-415c6ada3e9d",
   "metadata": {},
   "outputs": [],
   "source": []
  },
  {
   "cell_type": "code",
   "execution_count": null,
   "id": "9c02c4b1-95ce-4bd8-b7ba-a434dac3fb56",
   "metadata": {},
   "outputs": [],
   "source": []
  },
  {
   "cell_type": "code",
   "execution_count": null,
   "id": "cfcef7f7-3118-4827-87b7-df953c37a37f",
   "metadata": {},
   "outputs": [],
   "source": []
  },
  {
   "cell_type": "code",
   "execution_count": null,
   "id": "ce82bef0-bae0-4149-bc03-8521d2cf2c81",
   "metadata": {},
   "outputs": [],
   "source": []
  },
  {
   "cell_type": "code",
   "execution_count": null,
   "id": "a4466ef8-99b2-4857-b56c-9bd1bc860aa4",
   "metadata": {},
   "outputs": [],
   "source": []
  },
  {
   "cell_type": "code",
   "execution_count": null,
   "id": "b2223cce-b28c-4add-bb66-8065437645f3",
   "metadata": {},
   "outputs": [],
   "source": []
  },
  {
   "cell_type": "code",
   "execution_count": null,
   "id": "446fd11d-61cb-41e0-9631-acb4dc7cba3c",
   "metadata": {},
   "outputs": [],
   "source": [
    "def get_semantic_polarity(text_string):\n",
    "    \"\"\"\n",
    "    input: \n",
    "        text_string\n",
    "    output:\n",
    "        semantic_score\n",
    "    \"\"\"\n",
    "    blob = TextBlob(text_string)\n",
    "    score = blob.polarity\n",
    "    if score > 0:\n",
    "        return 'positive'\n",
    "    elif score == 0:\n",
    "        return 'neutral'\n",
    "    elif score < 0:\n",
    "        return 'negative'\n",
    "    \n",
    "    \n",
    "get_semantic_polarity('This is What I try here, amazingly boring')"
   ]
  },
  {
   "cell_type": "markdown",
   "id": "3048eb30-8be5-4678-9bb9-30bbcca530ce",
   "metadata": {},
   "source": [
    "# Reply / Quotes"
   ]
  },
  {
   "cell_type": "code",
   "execution_count": null,
   "id": "75c74990-23c4-4152-9304-04445fb8262c",
   "metadata": {},
   "outputs": [],
   "source": [
    "def get_conversation(cid, df):\n",
    "    \"\"\"\n",
    "    input:\n",
    "        cid: conversation id\n",
    "    output:\n",
    "        \n",
    "    \"\"\"\n",
    "    conversation = df.loc[df['referenced_tweets'].str.contains(f'{cid}')]\n",
    "    return conversation\n",
    "\n"
   ]
  },
  {
   "cell_type": "code",
   "execution_count": null,
   "id": "4c4c61cb-91e6-4c42-905a-4a7d4c4a9f42",
   "metadata": {},
   "outputs": [],
   "source": [
    "def get_all_conversation(cid, df):\n",
    "    all_replies =  df.loc[df['conversation_id'] == cid]\n",
    "    return all_replies\n",
    "\n"
   ]
  },
  {
   "cell_type": "code",
   "execution_count": null,
   "id": "42bc8065-8af3-4cbe-9fd6-e9c6f1d87ff2",
   "metadata": {},
   "outputs": [],
   "source": [
    "# TODO: you may need to delete this function\n",
    "def get_replies_referenced_tweet_id(input_string):\n",
    "    return int(ast.literal_eval(input_string)[0]['id'])\n",
    "\n"
   ]
  },
  {
   "cell_type": "code",
   "execution_count": null,
   "id": "4e8976ff-975a-4848-9395-d312a9514644",
   "metadata": {},
   "outputs": [],
   "source": [
    "def get_count_reply_like_quote_retweet(df_row):\n",
    "    \"\"\"\n",
    "    input:\n",
    "        df_row: a row from tweets dataframe\n",
    "    output:\n",
    "        integer, \n",
    "    \"\"\"\n",
    "    return int(df_row.retweet_count) + int(df_row.like_count) + int(df_row.quote_count) + int(df_row.reply_count)\n",
    "\n"
   ]
  },
  {
   "cell_type": "code",
   "execution_count": null,
   "id": "0296c15c-2e5f-4399-a8c7-38c39f159c53",
   "metadata": {},
   "outputs": [],
   "source": [
    "# def second_level_conversations"
   ]
  },
  {
   "cell_type": "code",
   "execution_count": null,
   "id": "3940c1f2-eca8-4fbe-81cb-d82e86cdbd3c",
   "metadata": {},
   "outputs": [],
   "source": []
  },
  {
   "cell_type": "code",
   "execution_count": null,
   "id": "af582804-fca0-441c-b19d-5c077ce49a4b",
   "metadata": {},
   "outputs": [],
   "source": []
  },
  {
   "cell_type": "code",
   "execution_count": null,
   "id": "1b27dbbd-bd80-46c7-93d8-3b5882977828",
   "metadata": {},
   "outputs": [],
   "source": []
  },
  {
   "cell_type": "code",
   "execution_count": null,
   "id": "d710447c-8ad5-4eec-8e0f-ac19aaea7263",
   "metadata": {},
   "outputs": [],
   "source": []
  },
  {
   "cell_type": "code",
   "execution_count": null,
   "id": "1e918969-0eb0-4d37-970c-a808e18ee664",
   "metadata": {},
   "outputs": [],
   "source": []
  },
  {
   "cell_type": "code",
   "execution_count": null,
   "id": "d72dd5aa-ac17-4fe6-841c-a3930207abc0",
   "metadata": {},
   "outputs": [],
   "source": []
  },
  {
   "cell_type": "code",
   "execution_count": null,
   "id": "7d44c06c-897e-4fa6-9193-3b5af064a0ab",
   "metadata": {},
   "outputs": [],
   "source": []
  },
  {
   "cell_type": "code",
   "execution_count": null,
   "id": "f31d089b-3489-44c8-a7d3-a3e67effce4a",
   "metadata": {},
   "outputs": [],
   "source": []
  },
  {
   "cell_type": "code",
   "execution_count": null,
   "id": "c6aa96a6-cd7e-46e2-8318-41667c186b54",
   "metadata": {},
   "outputs": [],
   "source": []
  },
  {
   "cell_type": "code",
   "execution_count": null,
   "id": "a7f5d36e-b5e6-4974-9881-1882eb9d74c4",
   "metadata": {},
   "outputs": [],
   "source": []
  },
  {
   "cell_type": "code",
   "execution_count": null,
   "id": "240c7aa6-6759-415f-963e-5ce5dd91c9af",
   "metadata": {},
   "outputs": [],
   "source": []
  },
  {
   "cell_type": "code",
   "execution_count": null,
   "id": "cdf56f8c-6e88-42e1-aa3b-c2d8972697ed",
   "metadata": {},
   "outputs": [],
   "source": []
  },
  {
   "cell_type": "code",
   "execution_count": null,
   "id": "e66a448b-8069-4f82-a73a-6fed29d5621d",
   "metadata": {},
   "outputs": [],
   "source": [
    "def add_engagement_score(df):\n",
    "    try:\n",
    "        return df.apply(lambda x: x.total_raction/ (x.followers_count + 1), axis=1)\n",
    "    except: print('Error: Column \"total_raction\" does not exist')\n",
    "    \n",
    "    "
   ]
  },
  {
   "cell_type": "code",
   "execution_count": null,
   "id": "18f29bc4-3294-4ecd-9c5c-4002c210b354",
   "metadata": {},
   "outputs": [],
   "source": []
  },
  {
   "cell_type": "code",
   "execution_count": null,
   "id": "f7c80c64-028a-4453-9910-a30d36a0ab79",
   "metadata": {},
   "outputs": [],
   "source": [
    "def add_polarity(df):\n",
    "    try:\n",
    "        return df['clean_text'].apply(lambda x: get_semantic_polarity(x))\n",
    "    except:\n",
    "        return print('Error: Column \"clean_text\" does not exist')\n",
    "    \n",
    "    "
   ]
  },
  {
   "cell_type": "code",
   "execution_count": null,
   "id": "b260973b-5bb1-4f63-8859-09ca5a4437c8",
   "metadata": {},
   "outputs": [],
   "source": []
  },
  {
   "cell_type": "code",
   "execution_count": null,
   "id": "18665ecc-6d92-4d40-aa72-e4d4e2047fa3",
   "metadata": {},
   "outputs": [],
   "source": [
    "def add_count_reaction(df):\n",
    "    try:\n",
    "        return df.apply(lambda x: x.like_count + x.quote_count + x.retweet_count + x.all_reply_count, axis=1)\n",
    "    except: print('Error: Column \"all_reply_count\" does not exist')\n",
    "    \n",
    "    "
   ]
  },
  {
   "cell_type": "code",
   "execution_count": null,
   "id": "cd0b5cc8-23b1-4c06-828f-99d3c1eb6b72",
   "metadata": {},
   "outputs": [],
   "source": [
    "def add_emoji_group(df):\n",
    "    return df['text'].apply(lambda x: extract_emoji_group(x))\n",
    "\n"
   ]
  },
  {
   "cell_type": "code",
   "execution_count": null,
   "id": "f23a1e6a-c2e2-4da2-815e-d1947d565f6d",
   "metadata": {},
   "outputs": [],
   "source": []
  },
  {
   "cell_type": "code",
   "execution_count": null,
   "id": "9b1834a2-02c7-4f58-ba9c-fb29e11c1b08",
   "metadata": {},
   "outputs": [],
   "source": [
    "def add_count_all_reply(df, df_replies):\n",
    "    return df['conversation_id'].apply(lambda x: len(get_all_reply(x, df_replies)))\n",
    "\n"
   ]
  }
 ],
 "metadata": {
  "kernelspec": {
   "display_name": "Python 3 (ipykernel)",
   "language": "python",
   "name": "python3"
  },
  "language_info": {
   "codemirror_mode": {
    "name": "ipython",
    "version": 3
   },
   "file_extension": ".py",
   "mimetype": "text/x-python",
   "name": "python",
   "nbconvert_exporter": "python",
   "pygments_lexer": "ipython3",
   "version": "3.10.4"
  }
 },
 "nbformat": 4,
 "nbformat_minor": 5
}
