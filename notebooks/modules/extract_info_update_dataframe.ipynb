{
 "cells": [
  {
   "cell_type": "code",
   "execution_count": null,
   "id": "9670c37e-ebb0-4429-802c-69fb9bd1602c",
   "metadata": {},
   "outputs": [],
   "source": [
    "# %run ./modules/load_data_module.ipynb\n",
    "# %run ./modules/extract_info_clean_data_module.ipynb\n",
    "# %run ./modules/update_dataframe_module.ipynb\n",
    "# %run ./modules/sentiment_module.ipynb\n",
    "# %run ./modules/semantic_similarity_module.ipynb"
   ]
  },
  {
   "cell_type": "code",
   "execution_count": null,
   "id": "da276116-1beb-400a-9fde-793941b9f4c3",
   "metadata": {},
   "outputs": [],
   "source": [
    "import pandas as pd\n",
    "import spacy\n",
    "import string\n",
    "import regex as re\n",
    "import nltk\n",
    "import ast\n",
    "import copy\n",
    "import glob\n",
    "import advertools as adv\n",
    "import plotly.graph_objects as go\n",
    "import time\n",
    "from datetime import datetime\n",
    "\n",
    "\n",
    "\n",
    "pd.options.display.max_colwidth = 285\n",
    "\n",
    "\n",
    "\n",
    "from textblob import TextBlob\n",
    "\n",
    "from vaderSentiment.vaderSentiment import SentimentIntensityAnalyzer\n",
    "\n",
    "\n",
    "from spacymoji import Emoji\n",
    "from nltk.corpus import stopwords\n",
    "from urllib.parse import urlparse\n",
    "from textblob import Word\n",
    "from sklearn.metrics.pairwise import cosine_similarity\n",
    "\n",
    "\n",
    "\n",
    "nlp = spacy.load(\"en_core_web_sm\")\n",
    "emoji = Emoji(nlp)\n",
    "nlp.add_pipe(\"emoji\", first=True)\n",
    "\n",
    "\n",
    "stemmer = nltk.SnowballStemmer(\"english\")\n",
    "\n",
    "\n",
    "# nltk.download('wordnet')\n",
    "# nltk.download('omw-1.4')\n"
   ]
  },
  {
   "cell_type": "markdown",
   "id": "5a1bf6ed-76a7-49f6-bbb2-f85d44ea5423",
   "metadata": {
    "tags": []
   },
   "source": [
    "# GEN-DATA "
   ]
  },
  {
   "cell_type": "markdown",
   "id": "eb921067-e38b-4f92-af5e-3661aee99901",
   "metadata": {},
   "source": [
    "### Add list of hashtags found in tweet/reply/hashtag"
   ]
  },
  {
   "cell_type": "code",
   "execution_count": null,
   "id": "63966c74-32b7-4db9-bfa1-92f713ea86a2",
   "metadata": {},
   "outputs": [],
   "source": [
    "sample_tweets['hashtags'] = add_hashtags(sample_tweets)"
   ]
  },
  {
   "cell_type": "code",
   "execution_count": null,
   "id": "0a9385d5-4b32-4caa-8db9-7ffc7d7493ac",
   "metadata": {},
   "outputs": [],
   "source": [
    "sample_replies['hashtags'] = add_hashtags(sample_replies)"
   ]
  },
  {
   "cell_type": "code",
   "execution_count": null,
   "id": "eb62660d-27e7-4861-9935-217ab48bec41",
   "metadata": {},
   "outputs": [],
   "source": [
    "sample_quotes['hashtags'] = a_hashtags(sample_quotes)"
   ]
  },
  {
   "cell_type": "code",
   "execution_count": null,
   "id": "f5e67aa2-99dd-4840-a5e5-242cff72c6a8",
   "metadata": {},
   "outputs": [],
   "source": [
    "tweets['hashtags'] = add_hashtags(tweets)"
   ]
  },
  {
   "cell_type": "code",
   "execution_count": null,
   "id": "cf0a030a-87b4-44fb-802e-902058b9f9e0",
   "metadata": {},
   "outputs": [],
   "source": [
    "replies['hashtags'] = add_hashtags(replies)"
   ]
  },
  {
   "cell_type": "code",
   "execution_count": null,
   "id": "913cb683-76d6-4665-a543-57c6dee7aa64",
   "metadata": {},
   "outputs": [],
   "source": [
    "quotes['hashtags'] = add_hashtags(quotes)"
   ]
  },
  {
   "cell_type": "markdown",
   "id": "3f6a30ca-3c1e-4682-88c7-53f8072e085a",
   "metadata": {},
   "source": [
    "### Add count of hashtags in tweet/reply/quote"
   ]
  },
  {
   "cell_type": "code",
   "execution_count": null,
   "id": "6a4bebbc-ed93-4964-9e03-b0c70ecdfc45",
   "metadata": {},
   "outputs": [],
   "source": [
    "sample_tweets['hashtag_count'] = add_nbr_hashtags(sample_tweets)"
   ]
  },
  {
   "cell_type": "code",
   "execution_count": null,
   "id": "5bb84345-2be8-447c-b985-21f746b0ccd9",
   "metadata": {},
   "outputs": [],
   "source": [
    "sample_replies['hashtag_count'] = add_nbr_hashtags(sample_replies)"
   ]
  },
  {
   "cell_type": "code",
   "execution_count": null,
   "id": "762fb2e2-ff55-4c2a-8c1e-4e9c774ab9cf",
   "metadata": {},
   "outputs": [],
   "source": [
    "sample_quotes['hashtag_count'] = add_nbr_hashtags(sample_quotes)"
   ]
  },
  {
   "cell_type": "code",
   "execution_count": null,
   "id": "37d01d57-2843-415c-b8f8-e31deca11fe5",
   "metadata": {},
   "outputs": [],
   "source": [
    "tweets['hashtag_count'] = add_nbr_hashtags(tweets)"
   ]
  },
  {
   "cell_type": "code",
   "execution_count": null,
   "id": "8d2f2453-d815-4dad-b07d-d619c46a9d19",
   "metadata": {},
   "outputs": [],
   "source": [
    "replies['hashtag_count'] = add_nbr_hashtags(replies)"
   ]
  },
  {
   "cell_type": "code",
   "execution_count": null,
   "id": "43ded496-f378-4d3c-8f0f-b6a55a6a760f",
   "metadata": {},
   "outputs": [],
   "source": [
    "quotes['hashtag_count'] = add_nbr_hashtags(quotes)"
   ]
  },
  {
   "cell_type": "markdown",
   "id": "328da319-0137-48bc-be47-f8ab241d5923",
   "metadata": {},
   "source": [
    "### Add number of uppercase characters in tweet/reply/quote"
   ]
  },
  {
   "cell_type": "code",
   "execution_count": null,
   "id": "f8f1df53-1bd5-4e8d-bcb0-366af65e07e9",
   "metadata": {},
   "outputs": [],
   "source": [
    "sample_tweets['uppercase_count'] = add_uppercase_count(sample_tweets)"
   ]
  },
  {
   "cell_type": "code",
   "execution_count": null,
   "id": "5b8a70bb-866a-4262-9cfe-35d7b6d5b0fd",
   "metadata": {},
   "outputs": [],
   "source": [
    "sample_replies['uppercase_count'] = add_uppercase_count(sample_replies)"
   ]
  },
  {
   "cell_type": "code",
   "execution_count": null,
   "id": "4bb0688c-9666-42f9-ae42-0d6ed742fb64",
   "metadata": {},
   "outputs": [],
   "source": [
    "sample_quotes['uppercase_count'] = add_uppercase_count(sample_quotes)"
   ]
  },
  {
   "cell_type": "code",
   "execution_count": null,
   "id": "c8226ac0-5756-4e2c-81e4-424a0166463e",
   "metadata": {},
   "outputs": [],
   "source": [
    "tweets['uppercase_count'] = add_uppercase_count(tweets)"
   ]
  },
  {
   "cell_type": "code",
   "execution_count": null,
   "id": "8a7f9a47-cf9e-40be-b864-b351302f4e24",
   "metadata": {},
   "outputs": [],
   "source": [
    "replies['uppercase_count'] = add_uppercase_count(replies)"
   ]
  },
  {
   "cell_type": "code",
   "execution_count": null,
   "id": "17207fb3-6678-4a43-bf5c-d6ed0b1fcfa6",
   "metadata": {},
   "outputs": [],
   "source": [
    "quotes['uppercase_count'] = add_uppercase_count(quotes)"
   ]
  },
  {
   "cell_type": "markdown",
   "id": "13b8ba01-b14a-4048-a854-aaf20c1edc1f",
   "metadata": {},
   "source": [
    "### Add percentage of uppercase characters in tweet/reply/quote"
   ]
  },
  {
   "cell_type": "code",
   "execution_count": null,
   "id": "4815a3d8-e4f1-4608-98a1-1b6561b64a3d",
   "metadata": {},
   "outputs": [],
   "source": [
    "sample_tweets['uppercase_pct'] = add_upper_case_pct(sample_tweets)"
   ]
  },
  {
   "cell_type": "code",
   "execution_count": null,
   "id": "2b04597a-60b1-439d-b5f8-ab81ae0254a2",
   "metadata": {},
   "outputs": [],
   "source": [
    "sample_replies['uppercase_pct'] = add_upper_case_pct(sample_replies)"
   ]
  },
  {
   "cell_type": "code",
   "execution_count": null,
   "id": "b341e369-1840-4347-afda-82a540379be8",
   "metadata": {},
   "outputs": [],
   "source": [
    "sample_quotes['uppercase_pct'] = add_upper_case_pct(sample_quotes)"
   ]
  },
  {
   "cell_type": "code",
   "execution_count": null,
   "id": "5c30f514-a5f4-4e2d-9ed1-7e14b204a5cf",
   "metadata": {},
   "outputs": [],
   "source": [
    "tweets['uppercase_pct'] = add_upper_case_pct(tweets)"
   ]
  },
  {
   "cell_type": "code",
   "execution_count": null,
   "id": "d71ae385-3309-4ffc-ac0b-6b362a71ea4b",
   "metadata": {},
   "outputs": [],
   "source": [
    "replies['uppercase_pct'] = add_upper_case_pct(replies)"
   ]
  },
  {
   "cell_type": "code",
   "execution_count": null,
   "id": "f41fe808-8e67-4a72-93d9-15c6746313ac",
   "metadata": {},
   "outputs": [],
   "source": [
    "quotes['uppercase_pct'] = add_upper_case_pct(quotes)"
   ]
  },
  {
   "cell_type": "markdown",
   "id": "ca33dccd-8666-42d1-ab9b-cc5aad0b0f37",
   "metadata": {},
   "source": [
    "### Add number of exclamation mark in tweet/reply/quote"
   ]
  },
  {
   "cell_type": "code",
   "execution_count": null,
   "id": "65270b9f-b05f-406b-bbf8-4ed1dfb84cda",
   "metadata": {},
   "outputs": [],
   "source": [
    "sample_tweets['exclamation_mark_count'] = add_exclamation_mark_count(sample_tweets)"
   ]
  },
  {
   "cell_type": "code",
   "execution_count": null,
   "id": "dc59bcb2-7632-401f-88d0-7acc6bbadcda",
   "metadata": {},
   "outputs": [],
   "source": [
    "sample_replies['exclamation_mark_count'] = add_exclamation_mark_count(sample_replies)"
   ]
  },
  {
   "cell_type": "code",
   "execution_count": null,
   "id": "3b24fc6f-a734-4070-a5cd-8d865a626a02",
   "metadata": {},
   "outputs": [],
   "source": [
    "sample_quotes['exclamation_mark_count'] = add_exclamation_mark_count(sample_quotes)"
   ]
  },
  {
   "cell_type": "code",
   "execution_count": null,
   "id": "8bdfa80e-c10e-456c-8e67-f8100265fc4a",
   "metadata": {},
   "outputs": [],
   "source": [
    "tweets['exclamation_mark_count'] = add_exclamation_mark_count(tweets)"
   ]
  },
  {
   "cell_type": "code",
   "execution_count": null,
   "id": "4a664231-3d79-453c-9daa-828e96d112a2",
   "metadata": {},
   "outputs": [],
   "source": [
    "replies['exclamation_mark_count'] = add_exclamation_mark_count(replies)"
   ]
  },
  {
   "cell_type": "code",
   "execution_count": null,
   "id": "1385dbab-9b73-4aa2-a63a-1b671cd12473",
   "metadata": {},
   "outputs": [],
   "source": [
    "quotes['exclamation_mark_count'] = add_exclamation_mark_count(quotes)"
   ]
  },
  {
   "cell_type": "markdown",
   "id": "51f21220-9816-4af8-a911-1a8096a4b6f8",
   "metadata": {},
   "source": [
    "### Add number of question marks found in tweet/reply/quote"
   ]
  },
  {
   "cell_type": "code",
   "execution_count": null,
   "id": "91293155-bae5-48c1-ae8f-e471ca291d36",
   "metadata": {},
   "outputs": [],
   "source": [
    "sample_tweets['question_mark_count'] =  add_question_mark_count(sample_tweets)"
   ]
  },
  {
   "cell_type": "code",
   "execution_count": null,
   "id": "6e07428f-b19d-4dd5-a7b2-4779ef6c4843",
   "metadata": {},
   "outputs": [],
   "source": [
    "sample_replies['question_mark_count'] =  add_question_mark_count(sample_replies)"
   ]
  },
  {
   "cell_type": "code",
   "execution_count": null,
   "id": "68ac8984-fb83-42cb-9ab2-f63628ee8a16",
   "metadata": {},
   "outputs": [],
   "source": [
    "sample_quotes['question_mark_count'] =  add_question_mark_count(sample_quotes)"
   ]
  },
  {
   "cell_type": "code",
   "execution_count": null,
   "id": "8a487c78-fadd-4ab2-98ec-b844ff18811e",
   "metadata": {},
   "outputs": [],
   "source": [
    "tweets['question_mark_count'] =  add_question_mark_count(tweets)"
   ]
  },
  {
   "cell_type": "code",
   "execution_count": null,
   "id": "0ca2e3a1-b3a1-4c6d-ba5c-ca59cd5c9af6",
   "metadata": {},
   "outputs": [],
   "source": [
    "replies['question_mark_count'] =  add_question_mark_count(replies)"
   ]
  },
  {
   "cell_type": "code",
   "execution_count": null,
   "id": "e481150d-87cb-4193-9cff-538c1558fb4b",
   "metadata": {},
   "outputs": [],
   "source": [
    "quotes['question_mark_count'] =  add_question_mark_count(quotes)"
   ]
  },
  {
   "cell_type": "markdown",
   "id": "ef1a4442-6035-47bf-916b-2bac5d2041bd",
   "metadata": {
    "tags": []
   },
   "source": [
    "### Add number of URLs found in tweet/reply/quote"
   ]
  },
  {
   "cell_type": "code",
   "execution_count": null,
   "id": "482930f1-3dbe-4b86-a575-870e768cdfd7",
   "metadata": {},
   "outputs": [],
   "source": [
    "sample_tweets['url_count'] = add_url_count(sample_tweets)"
   ]
  },
  {
   "cell_type": "code",
   "execution_count": null,
   "id": "42e02a85-f64f-4c9a-b550-8aa1037ce2c5",
   "metadata": {},
   "outputs": [],
   "source": [
    "sample_replies['url_count'] = add_url_count(sample_replies)"
   ]
  },
  {
   "cell_type": "code",
   "execution_count": null,
   "id": "2a8736c7-7c9f-4f9f-a97f-57a1b211da78",
   "metadata": {},
   "outputs": [],
   "source": [
    "sample_quotes['url_count'] = add_url_count(sample_quotes)"
   ]
  },
  {
   "cell_type": "code",
   "execution_count": null,
   "id": "4e79e1f4-7e40-411f-b0f0-b3ab9283a0ac",
   "metadata": {},
   "outputs": [],
   "source": [
    "tweets['url_count'] = add_url_count(tweets)"
   ]
  },
  {
   "cell_type": "code",
   "execution_count": null,
   "id": "db31064a-766b-4b5c-921e-b7cad003079d",
   "metadata": {},
   "outputs": [],
   "source": [
    "replies['url_count'] = add_url_count(replies)"
   ]
  },
  {
   "cell_type": "code",
   "execution_count": null,
   "id": "33e364eb-608a-4cd9-9e0a-4fe9f6ee1a24",
   "metadata": {},
   "outputs": [],
   "source": [
    "quotes['url_count'] = add_url_count(quotes)"
   ]
  },
  {
   "cell_type": "markdown",
   "id": "8f8f29ff-8939-46d9-bc33-c9386437fe32",
   "metadata": {},
   "source": [
    "### Add number of mentions in tweet/reply/quote"
   ]
  },
  {
   "cell_type": "code",
   "execution_count": null,
   "id": "af80795c-9cb7-44a2-98d2-b027c12beee5",
   "metadata": {},
   "outputs": [],
   "source": [
    "sample_tweets['mention_count'] = add_mention_count(sample_tweets)"
   ]
  },
  {
   "cell_type": "code",
   "execution_count": null,
   "id": "e2401a02-1602-42d9-aa76-bf647d7c299a",
   "metadata": {},
   "outputs": [],
   "source": [
    "sample_replies['mention_count'] = add_mention_count(sample_replies)"
   ]
  },
  {
   "cell_type": "code",
   "execution_count": null,
   "id": "72dd99cd-5513-4168-b441-e5d2f5fcdf68",
   "metadata": {},
   "outputs": [],
   "source": [
    "sample_quotes['mention_count'] = add_mention_count(sample_quotes)"
   ]
  },
  {
   "cell_type": "code",
   "execution_count": null,
   "id": "1d64e9bb-b577-40c6-9eef-2cbee4a7b3ee",
   "metadata": {},
   "outputs": [],
   "source": [
    "tweets['mention_count'] = add_mention_count(tweets)"
   ]
  },
  {
   "cell_type": "code",
   "execution_count": null,
   "id": "2f977e71-df92-4ef4-9790-648676328071",
   "metadata": {},
   "outputs": [],
   "source": [
    "replies['mention_count'] = add_mention_count(replies)"
   ]
  },
  {
   "cell_type": "code",
   "execution_count": null,
   "id": "b7a4bcb3-7d32-47e0-aedc-43c244960777",
   "metadata": {},
   "outputs": [],
   "source": [
    "quotes['mention_count'] = add_mention_count(quotes)"
   ]
  },
  {
   "cell_type": "markdown",
   "id": "52469fae-8d57-45be-a070-cdeb7d12152f",
   "metadata": {},
   "source": [
    "### Add number of emojis found in tweet/reply/quote"
   ]
  },
  {
   "cell_type": "code",
   "execution_count": null,
   "id": "26f65496-5cb6-422f-abea-b2e37d91bad3",
   "metadata": {},
   "outputs": [],
   "source": [
    "sample_tweets['emojie_count'] = add_emoji_count(sample_tweets)"
   ]
  },
  {
   "cell_type": "code",
   "execution_count": null,
   "id": "7bf2ea09-80f0-4ce3-bbf8-80292ad177b7",
   "metadata": {},
   "outputs": [],
   "source": [
    "sample_replies['emojie_count'] = add_emoji_count(sample_replies)"
   ]
  },
  {
   "cell_type": "code",
   "execution_count": null,
   "id": "98f60a40-d007-419d-91c7-6a886bc40892",
   "metadata": {},
   "outputs": [],
   "source": [
    "sample_quotes['emojie_count'] = add_emoji_count(sample_quotes)"
   ]
  },
  {
   "cell_type": "code",
   "execution_count": null,
   "id": "8c71bb23-2c0b-46bd-97e0-e78dac66885a",
   "metadata": {},
   "outputs": [],
   "source": [
    "tweets['emojie_count'] = add_emoji_count(tweets)"
   ]
  },
  {
   "cell_type": "code",
   "execution_count": null,
   "id": "4319f27c-c185-428e-92e7-90fd3a943e85",
   "metadata": {},
   "outputs": [],
   "source": [
    "replies['emojie_count'] = add_emoji_count(replies)"
   ]
  },
  {
   "cell_type": "code",
   "execution_count": null,
   "id": "ea4605d2-fda3-4bf5-9ec8-2d5e320af354",
   "metadata": {},
   "outputs": [],
   "source": [
    "quotes['emojie_count'] = add_emoji_count(quotes)"
   ]
  },
  {
   "cell_type": "markdown",
   "id": "301cedcc-2e36-400a-a7db-bc26a3ca68c4",
   "metadata": {},
   "source": [
    "### Add tweet's author number of followers"
   ]
  },
  {
   "cell_type": "code",
   "execution_count": null,
   "id": "1b8d7c2f-2a5b-47d6-9376-5d4f7abf5329",
   "metadata": {},
   "outputs": [],
   "source": [
    "sample_tweets['followers_count'] = add_followers_count(sample_tweets, users)"
   ]
  },
  {
   "cell_type": "code",
   "execution_count": null,
   "id": "66450fbe-b25a-4d71-9df2-0ee0a304404f",
   "metadata": {},
   "outputs": [],
   "source": [
    "tweets['followers_count'] = add_followers_count(tweets, users)"
   ]
  },
  {
   "cell_type": "markdown",
   "id": "5d18b1f5-4cb7-473f-a169-b7a103738d2c",
   "metadata": {},
   "source": [
    "### Add engagement score"
   ]
  },
  {
   "cell_type": "code",
   "execution_count": null,
   "id": "046da1bd-6860-4207-8bbc-70d788212a50",
   "metadata": {},
   "outputs": [],
   "source": [
    "sample_tweets['engagement_score'] = add_engagement_score(sample_tweets)"
   ]
  },
  {
   "cell_type": "code",
   "execution_count": null,
   "id": "1cc2e53f-6c48-428b-ad64-8a4adf7b2ef1",
   "metadata": {},
   "outputs": [],
   "source": [
    "tweets['engagement_score'] = add_engagement_score(tweets)"
   ]
  },
  {
   "cell_type": "markdown",
   "id": "a80dbfec-4120-4c9b-8d22-ad84ae16618e",
   "metadata": {},
   "source": [
    "## sentiment"
   ]
  },
  {
   "cell_type": "markdown",
   "id": "ed0aec2e-6a01-464b-bc19-96197b351bba",
   "metadata": {},
   "source": [
    "### Add sentiment score to tweet/reply/quote"
   ]
  },
  {
   "cell_type": "code",
   "execution_count": null,
   "id": "bc5811f8-720a-462d-b46e-5b77ddd53036",
   "metadata": {},
   "outputs": [],
   "source": [
    "sample_tweets['sentiment_score'] = add_sentiment_score(sample_tweets)"
   ]
  },
  {
   "cell_type": "code",
   "execution_count": null,
   "id": "58f67aaf-d0f9-486f-b6bc-78b8ee073abd",
   "metadata": {},
   "outputs": [],
   "source": [
    "sample_replies['sentiment_score'] = add_sentiment_score(sample_replies)"
   ]
  },
  {
   "cell_type": "code",
   "execution_count": null,
   "id": "d82488bc-5adb-490d-92cf-ea86f18dd23b",
   "metadata": {},
   "outputs": [],
   "source": [
    "sample_quotes['sentiment_score'] = add_sentiment_score(sample_quotes)"
   ]
  },
  {
   "cell_type": "code",
   "execution_count": null,
   "id": "9caf2015-79b9-40d9-b999-3282d427f46e",
   "metadata": {},
   "outputs": [],
   "source": [
    "tweets['sentiment_score'] = add_sentiment_score(tweets)"
   ]
  },
  {
   "cell_type": "code",
   "execution_count": null,
   "id": "14bbf39f-9595-4763-b8e1-5a7b10b8a19a",
   "metadata": {},
   "outputs": [],
   "source": [
    "replies['sentiment_score'] = add_sentiment_score(replies)"
   ]
  },
  {
   "cell_type": "code",
   "execution_count": null,
   "id": "c1cbafa8-4aef-4eb5-9383-73cc809a71bf",
   "metadata": {},
   "outputs": [],
   "source": [
    "quotes['sentiment_score'] = add_sentiment_score(quotes)"
   ]
  },
  {
   "cell_type": "markdown",
   "id": "d028b813-7de2-4f28-987f-1ace196cd1f1",
   "metadata": {},
   "source": [
    "### Add sentiment cateory (pos, neg, neu) to tweet/reply/quote"
   ]
  },
  {
   "cell_type": "code",
   "execution_count": null,
   "id": "2d249ddd-762f-4f84-a837-c338536c3741",
   "metadata": {},
   "outputs": [],
   "source": [
    "sample_tweets['sentiment_category'] = add_sentiment_category(sample_tweets)"
   ]
  },
  {
   "cell_type": "code",
   "execution_count": null,
   "id": "ffebc5fe-17a0-4581-99f8-4738cf276db4",
   "metadata": {},
   "outputs": [],
   "source": [
    "sample_replies['sentiment_category'] = add_sentiment_category(sample_replies)"
   ]
  },
  {
   "cell_type": "code",
   "execution_count": null,
   "id": "c3867a71-592c-4d2c-aa9b-bd1624d7edb2",
   "metadata": {},
   "outputs": [],
   "source": [
    "sample_quotes['sentiment_category'] = add_sentiment_category(sample_quotes)"
   ]
  },
  {
   "cell_type": "code",
   "execution_count": null,
   "id": "5683bb6d-8dbb-4ae7-be9d-768bc0e939ee",
   "metadata": {},
   "outputs": [],
   "source": [
    "tweets['sentiment_category'] = add_sentiment_category(tweets)"
   ]
  },
  {
   "cell_type": "code",
   "execution_count": null,
   "id": "3df8f03e-d08d-4fd5-a71c-7f82fda88685",
   "metadata": {},
   "outputs": [],
   "source": [
    "replies['sentiment_category'] = add_sentiment_category(replies)"
   ]
  },
  {
   "cell_type": "code",
   "execution_count": null,
   "id": "f0783372-1618-433a-bc7f-062368e82e9e",
   "metadata": {},
   "outputs": [],
   "source": [
    "quotes['sentiment_category'] = add_sentiment_category(quotes)"
   ]
  },
  {
   "cell_type": "markdown",
   "id": "68600cbb-5743-411c-b42e-3b7cea56b5bc",
   "metadata": {},
   "source": [
    "### Add average sentiment of replies for each tweet"
   ]
  },
  {
   "cell_type": "code",
   "execution_count": null,
   "id": "729cf60a-c902-46d2-9636-02277cace296",
   "metadata": {},
   "outputs": [],
   "source": [
    "sample_tweets['avg_replies_sentiment'] = add_average_conversation_sentiment(sample_tweets, sample_replies)"
   ]
  },
  {
   "cell_type": "code",
   "execution_count": null,
   "id": "8275447e-9743-41a9-95e9-c34affe29868",
   "metadata": {},
   "outputs": [],
   "source": [
    "sample_tweets['avg_quotes_sentiment'] = add_average_conversation_sentiment(sample_tweets, sample_quotes)"
   ]
  },
  {
   "cell_type": "code",
   "execution_count": null,
   "id": "1477920e-8884-48a8-90a5-de4f172ee3a3",
   "metadata": {},
   "outputs": [],
   "source": [
    "tweets['avg_replies_sentiment'] = add_average_conversation_sentiment(tweets, replies)"
   ]
  },
  {
   "cell_type": "code",
   "execution_count": null,
   "id": "d4b91f6e-ecbc-4c3f-80bd-eef614ff9703",
   "metadata": {},
   "outputs": [],
   "source": [
    "tweets['avg_quotes_sentiment'] = add_average_conversation_sentiment(tweets, quotes)"
   ]
  },
  {
   "cell_type": "markdown",
   "id": "1cbb617d-d642-47ae-b84f-6c04ddb06bb1",
   "metadata": {},
   "source": [
    "### Add average sentiment of replies + quotes of each tweet"
   ]
  },
  {
   "cell_type": "code",
   "execution_count": null,
   "id": "09665999-0239-43a0-a44a-622ba25c9a15",
   "metadata": {},
   "outputs": [],
   "source": [
    "sample_tweets['avg_conversation_sentiment'] = add_average_conversation_sentiment(sample_tweets, pd.concat([sample_replies, sample_quotes]))"
   ]
  },
  {
   "cell_type": "code",
   "execution_count": null,
   "id": "fe3741c6-35d3-47aa-b7be-fe6b20b094a4",
   "metadata": {},
   "outputs": [],
   "source": [
    "tweets['avg_conversation_sentiment'] = add_average_conversation_sentiment(tweets, pd.concat([replies, quotes]))"
   ]
  },
  {
   "cell_type": "markdown",
   "id": "3fe7b2e4-18d7-4440-b93d-521d8aaf34d7",
   "metadata": {},
   "source": [
    "### Add variance of replies/quotes/replies+quotes sentiment"
   ]
  },
  {
   "cell_type": "code",
   "execution_count": null,
   "id": "cdacf7b9-6910-41b5-b403-5190addb0b03",
   "metadata": {},
   "outputs": [],
   "source": [
    "sample_tweets['var_replies_sentiment'] = add_variance_of_conversation_sentiment(sample_tweets, sample_replies)"
   ]
  },
  {
   "cell_type": "code",
   "execution_count": null,
   "id": "13e7ede2-d425-4402-a3a3-5ac38d52828a",
   "metadata": {},
   "outputs": [],
   "source": [
    "sample_tweets['var_quotes_sentiment'] = add_variance_of_conversation_sentiment(sample_tweets, sample_quotes)"
   ]
  },
  {
   "cell_type": "code",
   "execution_count": null,
   "id": "b8e853ee-c730-472d-903a-fa638de4d913",
   "metadata": {},
   "outputs": [],
   "source": [
    "sample_tweets['var_conversation_sentiment'] = add_variance_of_conversation_sentiment(sample_tweets, pd.concat([sample_replies, sample_quotes]))"
   ]
  },
  {
   "cell_type": "code",
   "execution_count": null,
   "id": "34c2fc34-0a3a-40d0-b79b-1e0ca5e56256",
   "metadata": {},
   "outputs": [],
   "source": [
    "tweets['var_replies_sentiment'] = add_variance_of_conversation_sentiment(tweets, replies)"
   ]
  },
  {
   "cell_type": "code",
   "execution_count": null,
   "id": "756db551-e3b4-40fb-a3b4-8c5301865569",
   "metadata": {},
   "outputs": [],
   "source": [
    "tweets['var_quotes_sentiment'] = add_variance_of_conversation_sentiment(tweets, quotes)"
   ]
  },
  {
   "cell_type": "code",
   "execution_count": null,
   "id": "e48f1e52-a9b8-4e01-96cd-9425721cc2ff",
   "metadata": {},
   "outputs": [],
   "source": [
    "tweets['var_conversation_sentiment'] = add_variance_of_conversation_sentiment(tweets, pd.concat([replies, quotes]))"
   ]
  },
  {
   "cell_type": "markdown",
   "id": "307aed4e-1f6b-45a8-8c09-9a7d7b15fa82",
   "metadata": {},
   "source": [
    "### Add percentage of replies/quotes with similar sentiment to the reference tweet"
   ]
  },
  {
   "cell_type": "code",
   "execution_count": null,
   "id": "56030d29-6aed-421c-88c8-7fdbef900fa2",
   "metadata": {},
   "outputs": [],
   "source": [
    "sample_tweets['pct_similar_sentiment_replies'] = add_pct_sentiment_category(sample_tweets, sample_replies)"
   ]
  },
  {
   "cell_type": "code",
   "execution_count": null,
   "id": "a92c3f07-480b-4722-9e59-bb0ecb1ee451",
   "metadata": {},
   "outputs": [],
   "source": [
    "sample_tweets['pct_similar_sentiment_quotes'] = add_pct_sentiment_category(sample_tweets, sample_quotes)"
   ]
  },
  {
   "cell_type": "code",
   "execution_count": null,
   "id": "3a02bc89-ea05-4290-b9be-9f36d721dafe",
   "metadata": {},
   "outputs": [],
   "source": [
    "tweets['pct_similar_sentiment_replies'] = add_pct_sentiment_category(tweets, replies)"
   ]
  },
  {
   "cell_type": "code",
   "execution_count": null,
   "id": "88882d05-4e0a-490b-9291-3927a5ccfa76",
   "metadata": {},
   "outputs": [],
   "source": [
    "tweets['pct_similar_sentiment_quotes'] = add_pct_sentiment_category(tweets, quotes)"
   ]
  },
  {
   "cell_type": "markdown",
   "id": "c4dcc349-7c4f-44c0-9bad-0317f7d389eb",
   "metadata": {},
   "source": [
    "### text cleaning"
   ]
  },
  {
   "cell_type": "code",
   "execution_count": null,
   "id": "42a778b0-a48c-4284-9112-6b75346d94ba",
   "metadata": {},
   "outputs": [],
   "source": [
    "sample_tweets['clean_text'] = add_clean_text(sample_tweets)"
   ]
  },
  {
   "cell_type": "code",
   "execution_count": null,
   "id": "c1527f69-73f2-41f7-b84e-4fb0fe20e2b1",
   "metadata": {},
   "outputs": [],
   "source": [
    "sample_replies['clean_text'] = add_clean_text(sample_replies)"
   ]
  },
  {
   "cell_type": "code",
   "execution_count": null,
   "id": "5cc82356-1086-45e2-a6a7-cca78fb74ebf",
   "metadata": {},
   "outputs": [],
   "source": [
    "sample_quotes['clean_text'] =  add_clean_text(sample_quotes)"
   ]
  },
  {
   "cell_type": "code",
   "execution_count": null,
   "id": "68d0762b-ed5f-4d4b-9fd7-913f63bbfa25",
   "metadata": {},
   "outputs": [],
   "source": [
    "tweets['clean_text'] = add_clean_text(tweets)"
   ]
  },
  {
   "cell_type": "code",
   "execution_count": null,
   "id": "bdef1616-1f93-48e7-a0b7-9e62c62b319a",
   "metadata": {},
   "outputs": [],
   "source": [
    "replies['clean_text'] = add_clean_text(replies)"
   ]
  },
  {
   "cell_type": "code",
   "execution_count": null,
   "id": "6ecf34cc-0a2a-414d-b233-354e3d028b4f",
   "metadata": {},
   "outputs": [],
   "source": [
    "quotes['clean_text'] =  add_clean_text(quotes)"
   ]
  },
  {
   "cell_type": "markdown",
   "id": "0dba5eb1-0e03-4a2f-816a-ab2ab653f706",
   "metadata": {
    "tags": []
   },
   "source": [
    "### Add tweet to conversation Notice, add clean text to conversation dataframe first!"
   ]
  },
  {
   "cell_type": "code",
   "execution_count": null,
   "id": "210f05ff-3633-40d2-8579-663d7d963af4",
   "metadata": {},
   "outputs": [],
   "source": [
    "sample_replies['clean_tweet'] = add_tweet_to_conversation(sample_tweets, sample_replies)"
   ]
  },
  {
   "cell_type": "code",
   "execution_count": null,
   "id": "5530da93-547f-4ad8-b762-a638bda2b3ae",
   "metadata": {},
   "outputs": [],
   "source": [
    "sample_quotes['clean_tweet'] = add_tweet_to_conversation(sample_tweets, sample_quotes)"
   ]
  },
  {
   "cell_type": "code",
   "execution_count": null,
   "id": "c52fc1b3-79c3-4d21-9047-6cebaddfaecd",
   "metadata": {},
   "outputs": [],
   "source": [
    "replies['clean_tweet'] = add_tweet_to_conversation(tweets, replies)"
   ]
  },
  {
   "cell_type": "code",
   "execution_count": null,
   "id": "051ffe35-7720-46bb-b1b5-52087aa0cfda",
   "metadata": {},
   "outputs": [],
   "source": [
    "quotes['clean_tweet'] = add_tweet_to_conversation(tweets, quotes)"
   ]
  },
  {
   "cell_type": "markdown",
   "id": "6e8f56f8-046c-4d1d-84f7-14c78c244ed9",
   "metadata": {
    "tags": []
   },
   "source": [
    "### Add sentiment similarity to conversations"
   ]
  },
  {
   "cell_type": "code",
   "execution_count": null,
   "id": "2beaff2e-1d1e-4745-9ebb-a324fbba08e9",
   "metadata": {},
   "outputs": [],
   "source": [
    "sample_replies['semantic_similarity'] = add_tweet_conv_semantic_similarity(sample_replies['clean_tweet'], sample_replies['clean_text'])"
   ]
  },
  {
   "cell_type": "code",
   "execution_count": null,
   "id": "82890b05-5359-4982-bd57-e03f903b17fc",
   "metadata": {},
   "outputs": [],
   "source": [
    "sample_quotes['semantic_similarity'] = add_tweet_conv_semantic_similarity(sample_quotes['clean_tweet'], sample_quotes['clean_text'])"
   ]
  },
  {
   "cell_type": "code",
   "execution_count": null,
   "id": "98205f82-fb94-4847-8d23-948ab303c487",
   "metadata": {},
   "outputs": [],
   "source": [
    "# Do not use this anymore!!!\n",
    "# replies['semantic_similarity'] = add_tweet_conv_semantic_similarity(replies['clean_tweet'], replies['clean_text'])"
   ]
  },
  {
   "cell_type": "code",
   "execution_count": null,
   "id": "8aea4119-e2a8-4efe-9a29-20859a9b81a7",
   "metadata": {},
   "outputs": [],
   "source": [
    "# Do not use this anymore!!!\n",
    "# quotes['semantic_similarity'] = add_tweet_conv_semantic_similarity(quotes['clean_tweet'], quotes['clean_text'])"
   ]
  },
  {
   "cell_type": "markdown",
   "id": "3baf85c0-a819-4123-8ebf-994041d20b6b",
   "metadata": {},
   "source": [
    "### Add variance of semantic similarity scores "
   ]
  },
  {
   "cell_type": "code",
   "execution_count": null,
   "id": "e60b9c2d-0e9f-49ea-bdb1-175c28b8bae7",
   "metadata": {},
   "outputs": [],
   "source": [
    "sample_tweets['var_replies_semantic'] = add_variance_of_conversation_sentiment(sample_tweets, sample_replies)"
   ]
  },
  {
   "cell_type": "code",
   "execution_count": null,
   "id": "a3adb55d-ee7f-4317-b890-123f94e3558c",
   "metadata": {},
   "outputs": [],
   "source": [
    "sample_tweets['var_quotes_semantic'] = add_variance_of_conversation_sentiment(sample_tweets, sample_quotes)"
   ]
  },
  {
   "cell_type": "code",
   "execution_count": null,
   "id": "db1d2400-a4a0-4ac3-8105-d52a9e54c89d",
   "metadata": {},
   "outputs": [],
   "source": [
    "sample_tweets['var_conversation_semantic'] = add_variance_of_conversation_sentiment(sample_tweets, pd.concat([sample_quotes, sample_replies]))"
   ]
  },
  {
   "cell_type": "code",
   "execution_count": null,
   "id": "bd6c1de4-95cc-4329-b215-5c2dda704eea",
   "metadata": {},
   "outputs": [],
   "source": [
    "tweets['var_replies_semantic'] = add_variance_of_conversation_sentiment(tweets, replies)"
   ]
  },
  {
   "cell_type": "code",
   "execution_count": null,
   "id": "4f2d7167-12f2-42a3-822e-414a94e55762",
   "metadata": {},
   "outputs": [],
   "source": [
    "tweets['var_quotes_semantic'] = add_variance_of_conversation_sentiment(tweets, quotes)"
   ]
  },
  {
   "cell_type": "code",
   "execution_count": null,
   "id": "65a593dd-ac26-477c-abfe-39016fe03134",
   "metadata": {},
   "outputs": [],
   "source": [
    "tweets['var_conversation_semantic'] = add_variance_of_conversation_sentiment(tweets, pd.concat([quotes, replies]))"
   ]
  },
  {
   "cell_type": "code",
   "execution_count": null,
   "id": "7a85a13c-52bb-4b10-9d01-e1c2a9247143",
   "metadata": {},
   "outputs": [],
   "source": [
    "tweets.to_feather('tweets_final_version.feather')"
   ]
  },
  {
   "cell_type": "code",
   "execution_count": null,
   "id": "49a3b061-a1d0-4a22-a86a-a88885ca19b6",
   "metadata": {},
   "outputs": [],
   "source": [
    "tweets_list = split_dataframe(tweets)"
   ]
  },
  {
   "cell_type": "code",
   "execution_count": null,
   "id": "471ae3bd-57fe-4e77-9bbf-45c31f6b25a0",
   "metadata": {},
   "outputs": [],
   "source": []
  },
  {
   "cell_type": "code",
   "execution_count": null,
   "id": "36e4a04d-4860-4ea1-8bb2-69d39ab2d55e",
   "metadata": {},
   "outputs": [],
   "source": []
  },
  {
   "cell_type": "code",
   "execution_count": null,
   "id": "bc95bb38-8890-4be3-8982-a78980108065",
   "metadata": {},
   "outputs": [],
   "source": []
  },
  {
   "cell_type": "code",
   "execution_count": null,
   "id": "bbd375c6-f82b-4153-9cf0-63f41d9e6730",
   "metadata": {},
   "outputs": [],
   "source": []
  },
  {
   "cell_type": "code",
   "execution_count": null,
   "id": "4fe7554a-f55c-4281-9e7a-909e55e8a633",
   "metadata": {},
   "outputs": [],
   "source": []
  },
  {
   "cell_type": "code",
   "execution_count": null,
   "id": "6551c886-f312-4a04-9d12-8a732d3c2bbc",
   "metadata": {},
   "outputs": [],
   "source": []
  },
  {
   "cell_type": "code",
   "execution_count": null,
   "id": "929e7466-0ab6-4213-85b4-f67ae121592e",
   "metadata": {},
   "outputs": [],
   "source": []
  },
  {
   "cell_type": "code",
   "execution_count": null,
   "id": "5310902e-b1fa-4ea3-aba6-df1abf542779",
   "metadata": {},
   "outputs": [],
   "source": []
  },
  {
   "cell_type": "code",
   "execution_count": null,
   "id": "baac073c-dcb5-4d20-b8bf-8d14c990a7a6",
   "metadata": {},
   "outputs": [],
   "source": []
  },
  {
   "cell_type": "code",
   "execution_count": null,
   "id": "4be2ff2f-1a40-44d7-bf78-769b371be392",
   "metadata": {},
   "outputs": [],
   "source": []
  },
  {
   "cell_type": "code",
   "execution_count": null,
   "id": "3d4c56ef-04a9-4c9d-bfe0-2268ab72bf5e",
   "metadata": {},
   "outputs": [],
   "source": []
  }
 ],
 "metadata": {
  "kernelspec": {
   "display_name": "Python 3 (ipykernel)",
   "language": "python",
   "name": "python3"
  },
  "language_info": {
   "codemirror_mode": {
    "name": "ipython",
    "version": 3
   },
   "file_extension": ".py",
   "mimetype": "text/x-python",
   "name": "python",
   "nbconvert_exporter": "python",
   "pygments_lexer": "ipython3",
   "version": "3.10.4"
  }
 },
 "nbformat": 4,
 "nbformat_minor": 5
}
