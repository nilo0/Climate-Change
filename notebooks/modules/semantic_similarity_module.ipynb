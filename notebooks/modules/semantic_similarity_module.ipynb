{
 "cells": [
  {
   "cell_type": "code",
   "execution_count": null,
   "id": "21de19e7-0aec-400c-b475-48e0f1e7b9c8",
   "metadata": {},
   "outputs": [],
   "source": [
    "import pandas as pd\n",
    "import spacy\n",
    "import string\n",
    "import regex as re\n",
    "import nltk\n",
    "import ast\n",
    "import copy\n",
    "import glob\n",
    "import advertools as adv\n",
    "import plotly.graph_objects as go\n",
    "\n",
    "\n",
    "pd.options.display.max_colwidth = 285\n",
    "\n",
    "\n",
    "\n",
    "from textblob import TextBlob\n",
    "\n",
    "from vaderSentiment.vaderSentiment import SentimentIntensityAnalyzer\n",
    "\n",
    "\n",
    "from nltk.corpus import stopwords\n",
    "from urllib.parse import urlparse\n",
    "from textblob import Word\n",
    "from sklearn.metrics.pairwise import cosine_similarity\n",
    "\n",
    "\n",
    "nlp = spacy.load(\"en_core_web_sm\")\n",
    "\n",
    "\n",
    "\n",
    "stemmer = nltk.SnowballStemmer(\"english\")\n",
    "\n",
    "\n",
    "# nltk.download('wordnet')\n",
    "# nltk.download('omw-1.4')"
   ]
  },
  {
   "cell_type": "markdown",
   "id": "38ae424b-f5ca-494d-b711-173cbe28dc75",
   "metadata": {
    "tags": []
   },
   "source": [
    "## Import sentence_transformers and load pre-trained model"
   ]
  },
  {
   "cell_type": "code",
   "execution_count": null,
   "id": "b67e3adb-8a45-48cc-95a2-91ca507fbc2e",
   "metadata": {},
   "outputs": [],
   "source": [
    "from sentence_transformers import CrossEncoder\n",
    "\n",
    "model = CrossEncoder('cross-encoder/stsb-roberta-base')"
   ]
  },
  {
   "cell_type": "code",
   "execution_count": null,
   "id": "618300bd-c53f-446e-8bd5-344e7204dafa",
   "metadata": {},
   "outputs": [],
   "source": [
    "def get_tweet_conversation_pair(tweet_col, conv_col):\n",
    "\n",
    "    pairs = []\n",
    "    for tweet, conv in zip(tweet_col, conv_col):\n",
    "        pairs.append([tweet, conv])\n",
    "    \n",
    "    return pairs"
   ]
  },
  {
   "cell_type": "code",
   "execution_count": null,
   "id": "2de1f63a-2bab-493d-818e-125b94304c31",
   "metadata": {},
   "outputs": [],
   "source": [
    "def add_tweet_conv_semantic_similarity(tweet_col, conv_col):\n",
    "    return model.predict(get_tweet_conversation_pair(tweet_col, conv_col), show_progress_bar=True)"
   ]
  },
  {
   "cell_type": "code",
   "execution_count": null,
   "id": "7d05a20b-7d3d-4ca2-8270-102767de711d",
   "metadata": {},
   "outputs": [],
   "source": [
    "def variance_conversation_semantic(sub_df):\n",
    "    \"\"\"\n",
    "    input:\n",
    "        sub-dataframe, containing responses of a tweet\n",
    "    output:\n",
    "        variance of semantic score of the tweet's conversation\n",
    "    \"\"\"\n",
    "    if len(sub_df) > 1:\n",
    "        return sub_df['semantic_similarity'].var()\n",
    "    else:\n",
    "        return 0"
   ]
  }
 ],
 "metadata": {
  "kernelspec": {
   "display_name": "Python 3 (ipykernel)",
   "language": "python",
   "name": "python3"
  },
  "language_info": {
   "codemirror_mode": {
    "name": "ipython",
    "version": 3
   },
   "file_extension": ".py",
   "mimetype": "text/x-python",
   "name": "python",
   "nbconvert_exporter": "python",
   "pygments_lexer": "ipython3",
   "version": "3.10.4"
  }
 },
 "nbformat": 4,
 "nbformat_minor": 5
}
