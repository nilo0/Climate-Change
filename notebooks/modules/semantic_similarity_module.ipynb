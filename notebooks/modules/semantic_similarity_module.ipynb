{
 "cells": [
  {
   "cell_type": "code",
   "execution_count": null,
   "id": "21de19e7-0aec-400c-b475-48e0f1e7b9c8",
   "metadata": {},
   "outputs": [],
   "source": [
    "import pandas as pd\n",
    "import spacy\n",
    "import string\n",
    "import regex as re\n",
    "import nltk\n",
    "import ast\n",
    "import copy\n",
    "import glob\n",
    "import advertools as adv\n",
    "import plotly.graph_objects as go\n",
    "import time\n",
    "\n",
    "pd.options.display.max_colwidth = 285\n",
    "\n",
    "\n",
    "\n",
    "from textblob import TextBlob\n",
    "\n",
    "from vaderSentiment.vaderSentiment import SentimentIntensityAnalyzer\n",
    "\n",
    "\n",
    "from nltk.corpus import stopwords\n",
    "from urllib.parse import urlparse\n",
    "from textblob import Word\n",
    "from sklearn.metrics.pairwise import cosine_similarity\n",
    "\n",
    "\n",
    "nlp = spacy.load(\"en_core_web_sm\")\n",
    "\n",
    "\n",
    "\n",
    "stemmer = nltk.SnowballStemmer(\"english\")\n",
    "\n",
    "\n",
    "# nltk.download('wordnet')\n",
    "# nltk.download('omw-1.4')"
   ]
  },
  {
   "cell_type": "markdown",
   "id": "38ae424b-f5ca-494d-b711-173cbe28dc75",
   "metadata": {
    "tags": []
   },
   "source": [
    "## Import sentence_transformers and load pre-trained model"
   ]
  },
  {
   "cell_type": "code",
   "execution_count": null,
   "id": "b67e3adb-8a45-48cc-95a2-91ca507fbc2e",
   "metadata": {},
   "outputs": [],
   "source": [
    "from sentence_transformers import CrossEncoder\n",
    "\n",
    "model = CrossEncoder('cross-encoder/stsb-roberta-base')"
   ]
  },
  {
   "cell_type": "code",
   "execution_count": null,
   "id": "618300bd-c53f-446e-8bd5-344e7204dafa",
   "metadata": {},
   "outputs": [],
   "source": [
    "def get_tweet_conversation_pair(df_conversation):\n",
    "\n",
    "    pairs = []\n",
    "    tweet_col = df_conversation['clean_tweet']\n",
    "    conv_col = df_conversation['clean_text']\n",
    "    for tweet, conv in zip(tweet_col, conv_col):\n",
    "        pairs.append([tweet, conv])\n",
    "    \n",
    "    return pairs"
   ]
  },
  {
   "cell_type": "code",
   "execution_count": null,
   "id": "73e4facd-522d-43ad-824a-373393972ab9",
   "metadata": {},
   "outputs": [],
   "source": [
    "def split_dataframe(df, chunk_size = 10000): \n",
    "    list_of_chunks = []\n",
    "    num_chunks = len(df) // chunk_size + 1\n",
    "    for i in range(num_chunks):\n",
    "        list_of_chunks.append(df[i*chunk_size:(i+1)*chunk_size])\n",
    "    return list_of_chunks"
   ]
  },
  {
   "cell_type": "code",
   "execution_count": null,
   "id": "2de1f63a-2bab-493d-818e-125b94304c31",
   "metadata": {},
   "outputs": [],
   "source": [
    "def add_tweet_conv_semantic_similarity(df_conversation, name_str):\n",
    "    dfs = split_dataframe(df_conversation)\n",
    "    print(f'Total Steps:{len(dfs)}')\n",
    "    for i, df in enumerate(dfs):\n",
    "        \n",
    "        dftemp = df.reset_index()\n",
    "        start_time = time.time()\n",
    "        print(f'start {i}th chunk')\n",
    "        pairs = get_tweet_conversation_pair(dftemp) \n",
    "        \n",
    "        dftemp['semantic_similarity'] = model.predict(pairs, show_progress_bar=False)\n",
    "        print(\"--- %s seconds ---\" % (time.time() - start_time))\n",
    "        \n",
    "        dftemp.to_feather(f'/home/niloofar/Developement/Climate-Change/data/temp_dfs/{name_str}/rest/temp_{name_str}_{i}th_chunk.feather')\n",
    "        print(f\"{i}th chunk completed and stored.\")\n",
    "        \n",
    "        "
   ]
  }
 ],
 "metadata": {
  "kernelspec": {
   "display_name": "Python 3 (ipykernel)",
   "language": "python",
   "name": "python3"
  },
  "language_info": {
   "codemirror_mode": {
    "name": "ipython",
    "version": 3
   },
   "file_extension": ".py",
   "mimetype": "text/x-python",
   "name": "python",
   "nbconvert_exporter": "python",
   "pygments_lexer": "ipython3",
   "version": "3.10.4"
  }
 },
 "nbformat": 4,
 "nbformat_minor": 5
}
