{
 "cells": [
  {
   "cell_type": "code",
   "execution_count": null,
   "id": "c8655b84-ab87-4bfe-9461-61e9adb8ef23",
   "metadata": {},
   "outputs": [],
   "source": [
    "# !pip3 install --user --upgrade git+https://github.com/twintproject/twint.git@origin/master#egg=twint"
   ]
  },
  {
   "cell_type": "code",
   "execution_count": null,
   "id": "18b26186-09f5-456c-a83c-fa4d595fc2fd",
   "metadata": {},
   "outputs": [],
   "source": [
    "import twint\n",
    "import pathlib\n",
    "import calendar\n",
    "import datetime\n",
    "\n",
    "# Twint fix\n",
    "import nest_asyncio\n",
    "nest_asyncio.apply()"
   ]
  },
  {
   "cell_type": "code",
   "execution_count": null,
   "id": "6187ed03-c5ca-436c-be0c-e3316097ef2f",
   "metadata": {},
   "outputs": [],
   "source": [
    "def info(msg):\n",
    "    now = datetime.datetime.now()\n",
    "    print(f\"[{now.strftime('%Y%m%d-%H%M%S')}] {msg}\")\n",
    "\n",
    "def mkdir_if_not_exists(dir_name):\n",
    "    directory = pathlib.Path(dir_name)\n",
    "    directory.exists()\n",
    "    directory.mkdir(parents = True, exist_ok = True)\n",
    "    \n",
    "def path_generatior(year, month, day, hashtag):\n",
    "    return f\"data/{year}/{month:02d}/{day:02d}/{year}-{month:02d}-{day:02d}-{hashtag.replace('#', '')}.pd\"\n",
    "\n",
    "def get_tweets_of_a_day(year, month, day, hashtag):\n",
    "    info(f\"Start collecting tweets for {year}/{month}/{day} for hashtag: {hashtag}\")\n",
    "    \n",
    "    c = twint.Config()\n",
    "    \n",
    "    since = datetime.date(year=year, month=month, day=day)\n",
    "    until = since + datetime.timedelta(days=1)\n",
    "\n",
    "    c.Search = hashtag\n",
    "    c.Limit = 20\n",
    "    c.Since = since.strftime('%Y-%m-%d')\n",
    "    c.Until = until.strftime('%Y-%m-%d')\n",
    "    c.Geo = \"39.6459604,-99.1227847,1400km\"\n",
    "    c.Filter_retweets = True\n",
    "    c.Location = True\n",
    "    c.Retweets = False\n",
    "    c.User_full = True\n",
    "    c.Hide_output = True\n",
    "    c.Pandas = True\n",
    "    \n",
    "    info(\"Searching...\")\n",
    "    twint.run.Search(c)\n",
    "    \n",
    "    df = twint.storage.panda.Tweets_df\n",
    "    \n",
    "    info(\"Storing...\")\n",
    "    path = path_generatior(year, month, day, hashtag)\n",
    "    df.reset_index().to_feather(path)\n",
    "    \n",
    "HASHTAGS = [\n",
    "    '#GlobalWarming',\n",
    "    '#ClimateChange',\n",
    "]\n",
    "\n",
    "mkdir_if_not_exists('data')\n",
    "\n",
    "for year in range(2021, 2013, -1):\n",
    "    mkdir_if_not_exists(f\"data/{year}\")\n",
    "    \n",
    "    for month in range(1, 13):\n",
    "        mkdir_if_not_exists(f\"data/{year}/{month:02d}\")\n",
    "        \n",
    "        for day in range(1, calendar.monthrange(year, month)[1]+1, 7):\n",
    "            mkdir_if_not_exists(f\"data/{year}/{month:02d}/{day:02d}\")\n",
    "            \n",
    "            for hashtag in HASHTAGS:\n",
    "                if pathlib.Path(path_generatior(year, month, day, hashtag)).is_file():\n",
    "                    continue\n",
    "                    \n",
    "                get_tweets_of_a_day(year, month, day, hashtag)\n",
    "\n",
    "            break\n",
    "        break\n",
    "    break"
   ]
  }
 ],
 "metadata": {
  "kernelspec": {
   "display_name": "Python 3 (ipykernel)",
   "language": "python",
   "name": "python3"
  },
  "language_info": {
   "codemirror_mode": {
    "name": "ipython",
    "version": 3
   },
   "file_extension": ".py",
   "mimetype": "text/x-python",
   "name": "python",
   "nbconvert_exporter": "python",
   "pygments_lexer": "ipython3",
   "version": "3.9.12"
  }
 },
 "nbformat": 4,
 "nbformat_minor": 5
}
